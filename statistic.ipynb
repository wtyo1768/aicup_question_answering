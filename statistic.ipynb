{
 "cells": [
  {
   "cell_type": "code",
   "execution_count": null,
   "metadata": {},
   "outputs": [],
   "source": [
    "import pandas as pd\n",
    "from loader import *\n",
    "import matplotlib.pyplot as plt\n"
   ]
  },
  {
   "cell_type": "code",
   "execution_count": null,
   "metadata": {},
   "outputs": [],
   "source": [
    "import jieba\n",
    "import jieba.analyse\n"
   ]
  },
  {
   "cell_type": "code",
   "execution_count": null,
   "metadata": {},
   "outputs": [],
   "source": [
    "import torch "
   ]
  },
  {
   "cell_type": "code",
   "execution_count": null,
   "metadata": {},
   "outputs": [],
   "source": [
    "a = torch.rand((1,2,3))\n",
    "b = torch.rand((1,3,3))\n",
    "a,b"
   ]
  },
  {
   "cell_type": "code",
   "execution_count": null,
   "metadata": {},
   "outputs": [],
   "source": [
    "torch.cat((a, b), dim=1)"
   ]
  },
  {
   "cell_type": "code",
   "execution_count": null,
   "metadata": {},
   "outputs": [],
   "source": [
    "with open('./data/stop_word.txt') as f:\n",
    "    text = f.read()\n",
    "    text = text.split('\\n')"
   ]
  },
  {
   "cell_type": "code",
   "execution_count": null,
   "metadata": {},
   "outputs": [],
   "source": [
    "[1,2] + [2,3]"
   ]
  },
  {
   "cell_type": "code",
   "execution_count": null,
   "metadata": {
    "collapsed": true,
    "jupyter": {
     "outputs_hidden": true
    },
    "tags": []
   },
   "outputs": [],
   "source": [
    "tags = jieba.analyse.extract_tags('醫師：我們6月30號抽血，免疫細胞指數還不錯這樣子，然後病毒量也是OK，阿血糖，糖化血色素7.2，還不錯，所以控制的還不錯，所以表示這段時間身體狀況應該還好。民眾：因為我有重訓和訓練……醫師：低密度膽固醇101是正常，是可以的，然後因為有一點點尿酸稍微高一點點，但是還不需要吃藥，就是飲食稍微注意一下就好，會造成尿酸高一點的食物稍微控制一下就好。民眾：我不知道哪些。醫師：不')\n",
    "tags"
   ]
  },
  {
   "cell_type": "code",
   "execution_count": null,
   "metadata": {},
   "outputs": [],
   "source": [
    "a = torch.tensor([\n",
    "    [\n",
    "        [1,2,3],\n",
    "        [0,0,0],\n",
    "        [3,4,3]\n",
    "    ],\n",
    "    [\n",
    "        [1,2,3],\n",
    "        [1,2,3],\n",
    "        [3,4,3]\n",
    "    ],\n",
    "], dtype=torch.float)\n",
    "b = torch.tensor([\n",
    "    [\n",
    "        [1,2,3],\n",
    "        [3,4,3]\n",
    "    ],\n",
    "    [\n",
    "        [1,2,3],\n",
    "        [3,4,3]\n",
    "    ],\n",
    "], dtype=torch.float)\n",
    "cosine_sim()(a, b)"
   ]
  },
  {
   "cell_type": "code",
   "execution_count": null,
   "metadata": {},
   "outputs": [],
   "source": [
    "cosine_sim()(a, b)"
   ]
  },
  {
   "cell_type": "code",
   "execution_count": null,
   "metadata": {},
   "outputs": [],
   "source": [
    "torch.max(cosine_sim()(a, b), 1)"
   ]
  },
  {
   "cell_type": "code",
   "execution_count": null,
   "metadata": {
    "tags": []
   },
   "outputs": [],
   "source": [
    "# output = torch.randn(2, 4, 768)\n",
    "# choi_output = torch.randn(2, 3, 768)\n",
    "cosine_sim(None)(a, b)"
   ]
  },
  {
   "cell_type": "code",
   "execution_count": null,
   "metadata": {},
   "outputs": [],
   "source": [
    "vec1=a\n",
    "vec2=b\n",
    "\n",
    "vec2 = torch.transpose(vec2, 1, 2)\n",
    "norm1 = torch.linalg.norm(vec1, dim=2)\n",
    "norm2 = torch.linalg.norm(vec2, dim=1)   \n",
    "norm1 = norm1.unsqueeze(-1).expand(2, vec1.size(1), vec1.size(2))\n",
    "norm2 = norm2.unsqueeze(2).expand(2, vec2.size(2), vec2.size(1))\n",
    "norm2 = torch.transpose(norm2, 1, 2)\n",
    "eledot = torch.matmul(torch.div(vec1, norm1), torch.div(vec2, norm2))\n",
    "\n",
    "# print(torch.mul(norm1.transpose(0, 1), norm2))\n",
    "# cos_sim = torch.div(eledot ,torch.matmul(norm1.transpose(0, 1), norm2))\n",
    "eledot"
   ]
  },
  {
   "cell_type": "code",
   "execution_count": null,
   "metadata": {},
   "outputs": [],
   "source": [
    "norm2 = norm2.unsqueeze(2).expand(2, vec2.size(2), vec2.size(1))\n",
    "norm2 = torch.transpose(norm2, 1, 2)"
   ]
  },
  {
   "cell_type": "code",
   "execution_count": null,
   "metadata": {},
   "outputs": [],
   "source": [
    "' rock '"
   ]
  },
  {
   "cell_type": "code",
   "execution_count": null,
   "metadata": {},
   "outputs": [],
   "source": [
    "from loader import QA_Dataset\n",
    "from transformers import AutoTokenizer\n",
    "config = 'hfl/chinese-xlnet-base'\n",
    "tokenizer = AutoTokenizer.from_pretrained(config)\n"
   ]
  },
  {
   "cell_type": "code",
   "execution_count": null,
   "metadata": {},
   "outputs": [],
   "source": [
    "ins = QA_Dataset(tokenizer, './data/train_fold1.json').__getitem__(1)\n",
    "ins['q_input_ids']"
   ]
  },
  {
   "cell_type": "code",
   "execution_count": null,
   "metadata": {},
   "outputs": [],
   "source": [
    "tokenizer.decode(ins['q_input_ids'][0])"
   ]
  },
  {
   "cell_type": "code",
   "execution_count": null,
   "metadata": {
    "tags": []
   },
   "outputs": [],
   "source": [
    "import pandas as pd\n",
    "from loader import *\n",
    "import matplotlib.pyplot as plt\n",
    "from transformers import AutoTokenizer\n",
    "\n",
    "\n",
    "config = 'hfl/chinese-xlnet-base'\n",
    "tokenizer = AutoTokenizer.from_pretrained(config)\n",
    "doc, q, cho, ans = json_parser()"
   ]
  },
  {
   "cell_type": "code",
   "execution_count": null,
   "metadata": {
    "tags": []
   },
   "outputs": [],
   "source": [
    "pipe =  doc_preprocessing(config)\n",
    "d = pipe(doc, q)\n",
    "\n",
    "# ori_len = [len(window) for frag in d for window in frag['input_ids']]\n",
    "# plt.hist(ori_len, color = 'black', cumulative = False)\n",
    "# plt.show()"
   ]
  },
  {
   "cell_type": "code",
   "execution_count": null,
   "metadata": {},
   "outputs": [],
   "source": [
    "tokenizer.decode(d[0]['q_input_ids'][0])"
   ]
  },
  {
   "cell_type": "code",
   "execution_count": null,
   "metadata": {},
   "outputs": [],
   "source": [
    "plt.hist(strQ2B(ans))\n",
    "plt.show()\n"
   ]
  },
  {
   "cell_type": "markdown",
   "metadata": {},
   "source": [
    "## LOADER"
   ]
  },
  {
   "cell_type": "code",
   "execution_count": null,
   "metadata": {
    "tags": []
   },
   "outputs": [],
   "source": [
    "from torch.utils.data import DataLoader\n",
    "from loader import QA_Dataset\n",
    "from torch.nn.utils.rnn import pad_sequence\n",
    "import torch\n",
    "\n",
    "config = 'hfl/chinese-xlnet-base'\n",
    "lr = 1e-3"
   ]
  },
  {
   "cell_type": "code",
   "execution_count": null,
   "metadata": {},
   "outputs": [],
   "source": [
    "import  torch.nn.functional as F\n",
    "from torch.nn.utils.rnn import pad_sequence\n",
    "a = torch.ones(25, 300)\n",
    "b = torch.ones(22, 300)\n",
    "c = torch.ones(15, 300)\n",
    "pad_sequence([a, b, c], batch_first=True,).shape"
   ]
  },
  {
   "cell_type": "code",
   "execution_count": null,
   "metadata": {
    "collapsed": true,
    "jupyter": {
     "outputs_hidden": true
    },
    "tags": []
   },
   "outputs": [],
   "source": [
    "def fragment_pad(*dcts):\n",
    "    combined_dict = {}\n",
    "    for k in set(dcts[0]):\n",
    "        if not k=='label' and not k=='choice':\n",
    "            print(k, [d[k].shape for d in dcts])\n",
    "            combined_dict.update({\n",
    "                k:pad_sequence([d[k].squeeze(0) for d in dcts], batch_first=True)\n",
    "            })\n",
    "        if k=='label':\n",
    "             combined_dict.update({\n",
    "                'label':torch.stack([d['label'] for d in dcts]) \n",
    "             })\n",
    "    return combined_dict\n",
    "\n",
    "def collate_fn(batch):\n",
    "    batched_dict = fragment_pad(*batch)\n",
    "    return batched_dict\n",
    "\n",
    "train_ds = QA_Dataset(config, './data/Train_qa_ans.json')\n",
    "train_loader = DataLoader(\n",
    "    train_ds, \n",
    "    batch_size=4, \n",
    "    num_workers=1, \n",
    "    shuffle=True, \n",
    "    collate_fn=collate_fn\n",
    ")\n",
    "train_loader.__iter__().__next__()\n",
    "# model = QA_Model(config, lr=lr)"
   ]
  },
  {
   "cell_type": "code",
   "execution_count": null,
   "metadata": {},
   "outputs": [],
   "source": [
    "from loader import QA_Dataset"
   ]
  },
  {
   "cell_type": "code",
   "execution_count": null,
   "metadata": {},
   "outputs": [],
   "source": [
    "from transformers import XLNetTokenizer, XLNetModel\n",
    "import torch\n",
    "\n",
    "config = 'hfl/chinese-xlnet-base'\n",
    "tokenizer = XLNetTokenizer.from_pretrained(config)\n",
    "tokenizer.add_special_tokens({'additional_special_tokens':['<q>']})\n",
    "model = XLNetModel.from_pretrained(config)\n",
    "model.resize_token_embeddings(len(tokenizer))"
   ]
  },
  {
   "cell_type": "code",
   "execution_count": null,
   "metadata": {},
   "outputs": [],
   "source": [
    "c ='預計的性行為，前面兩個小時吃兩顆，24小時後，再吃一顆，再一個24小時之後吃一顆'\n",
    "\n",
    "ids = tokenizer([c, c[0:30]], max_length=40, padding='max_length').input_ids\n",
    "tokenizer.decode(ids[0])"
   ]
  },
  {
   "cell_type": "code",
   "execution_count": null,
   "metadata": {},
   "outputs": [],
   "source": [
    "for ele in ids[0]:\n",
    "    print(    tokenizer.decode(ele))\n"
   ]
  },
  {
   "cell_type": "code",
   "execution_count": null,
   "metadata": {},
   "outputs": [],
   "source": [
    "tokenizer.decode(ids[1])"
   ]
  },
  {
   "cell_type": "markdown",
   "metadata": {},
   "source": [
    "## Model"
   ]
  },
  {
   "cell_type": "code",
   "execution_count": null,
   "metadata": {},
   "outputs": [],
   "source": [
    "h = model(**encoding).last_hidden_state"
   ]
  },
  {
   "cell_type": "code",
   "execution_count": null,
   "metadata": {},
   "outputs": [],
   "source": [
    "from transformers.modeling_utils import SequenceSummary\n"
   ]
  },
  {
   "cell_type": "code",
   "execution_count": null,
   "metadata": {},
   "outputs": [],
   "source": [
    "s = SequenceSummary(config)\n",
    "getattr(config, 'summary_type', 'last')"
   ]
  },
  {
   "cell_type": "code",
   "execution_count": 48,
   "metadata": {},
   "outputs": [
    {
     "output_type": "execute_result",
     "data": {
      "text/plain": [
       "tensor([[[-1.4974, -1.8334, -0.0170,  1.3927, -0.3833, -2.2319,  0.2078],\n",
       "         [-0.0762,  0.3411,  0.5927,  0.7143, -0.5335, -1.1608, -1.4399],\n",
       "         [ 0.0720,  1.3276, -1.7206, -2.0686, -0.4708, -1.6096, -0.9726]],\n",
       "\n",
       "        [[-0.4978,  0.6420,  0.3995,  1.3595, -1.1336,  0.8520, -1.5059],\n",
       "         [ 0.0434, -1.8415, -0.9771,  1.5386, -0.2875,  0.8286, -0.3059],\n",
       "         [ 0.3787, -0.6196,  0.0909, -0.6270, -1.9673,  0.7819, -1.1469]]])"
      ]
     },
     "metadata": {},
     "execution_count": 48
    }
   ],
   "source": [
    "import torch\n",
    "\n",
    "a = torch.randn(2,3,7)\n",
    "a\n"
   ]
  },
  {
   "cell_type": "code",
   "execution_count": 60,
   "metadata": {},
   "outputs": [
    {
     "output_type": "execute_result",
     "data": {
      "text/plain": [
       "[tensor([[-0.0762,  0.3411,  0.5927,  0.7143, -0.5335, -1.1608, -1.4399],\n",
       "         [ 0.0720,  1.3276, -1.7206, -2.0686, -0.4708, -1.6096, -0.9726],\n",
       "         [-0.0762,  0.3411,  0.5927,  0.7143, -0.5335, -1.1608, -1.4399]]),\n",
       " tensor([[ 0.0434, -1.8415, -0.9771,  1.5386, -0.2875,  0.8286, -0.3059],\n",
       "         [ 0.3787, -0.6196,  0.0909, -0.6270, -1.9673,  0.7819, -1.1469],\n",
       "         [ 0.3787, -0.6196,  0.0909, -0.6270, -1.9673,  0.7819, -1.1469]])]"
      ]
     },
     "metadata": {},
     "execution_count": 60
    }
   ],
   "source": [
    "index = torch.tensor([\n",
    "    [ 1,2,1 ],\n",
    "    [ 1,2,2 ],\n",
    "])\n",
    "\n",
    "max_val = [a.index_select(1, ele[1])[ele[0]] for ele in enumerate(index)]\n",
    "# a.index_select(1, index)\n",
    "max_val"
   ]
  },
  {
   "cell_type": "code",
   "execution_count": 65,
   "metadata": {},
   "outputs": [
    {
     "output_type": "execute_result",
     "data": {
      "text/plain": [
       "tensor([[[-0.0762,  0.3411,  0.5927,  0.7143, -0.5335, -1.1608, -1.4399],\n",
       "         [ 0.0720,  1.3276, -1.7206, -2.0686, -0.4708, -1.6096, -0.9726],\n",
       "         [-0.0762,  0.3411,  0.5927,  0.7143, -0.5335, -1.1608, -1.4399]],\n",
       "\n",
       "        [[ 0.0434, -1.8415, -0.9771,  1.5386, -0.2875,  0.8286, -0.3059],\n",
       "         [ 0.3787, -0.6196,  0.0909, -0.6270, -1.9673,  0.7819, -1.1469],\n",
       "         [ 0.3787, -0.6196,  0.0909, -0.6270, -1.9673,  0.7819, -1.1469]]])"
      ]
     },
     "metadata": {},
     "execution_count": 65
    }
   ],
   "source": [
    " torch.cat(max_val).view(2,-1, 7)"
   ]
  }
 ],
 "metadata": {
  "kernelspec": {
   "name": "python3710jvsc74a57bd0ca5915a2c02dea2c8acf4e447856dc800933eee93a34a922b88f60d8ef1a4460",
   "display_name": "Python 3.7.10 64-bit ('aicup': conda)"
  },
  "language_info": {
   "codemirror_mode": {
    "name": "ipython",
    "version": 3
   },
   "file_extension": ".py",
   "mimetype": "text/x-python",
   "name": "python",
   "nbconvert_exporter": "python",
   "pygments_lexer": "ipython3",
   "version": "3.7.10"
  },
  "metadata": {
   "interpreter": {
    "hash": "ca5915a2c02dea2c8acf4e447856dc800933eee93a34a922b88f60d8ef1a4460"
   }
  }
 },
 "nbformat": 4,
 "nbformat_minor": 4
}