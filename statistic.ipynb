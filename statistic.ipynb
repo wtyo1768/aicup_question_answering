{
 "cells": [
  {
   "cell_type": "code",
   "execution_count": 4,
   "metadata": {},
   "outputs": [],
   "source": [
    "import pandas as pd\n",
    "from loader import *\n",
    "import matplotlib.pyplot as plt\n",
    "import jieba\n",
    "import jieba.analyse\n",
    "\n"
   ]
  },
  {
   "cell_type": "code",
   "execution_count": null,
   "metadata": {},
   "outputs": [],
   "source": [
    "doc, q, cho, ans = json_parser()"
   ]
  },
  {
   "cell_type": "code",
   "execution_count": null,
   "metadata": {},
   "outputs": [],
   "source": [
    "doc[0]"
   ]
  },
  {
   "cell_type": "code",
   "execution_count": null,
   "metadata": {},
   "outputs": [],
   "source": [
    "frag_len = [ len(frag) for frag_doc in doc for frag in frag_doc]\n",
    "max(frag_len), min(frag_len)"
   ]
  },
  {
   "cell_type": "code",
   "execution_count": null,
   "metadata": {},
   "outputs": [],
   "source": [
    "plt.title('Fragment len')\n",
    "plt.hist(frag_len)\n",
    "plt.show()"
   ]
  },
  {
   "cell_type": "code",
   "execution_count": null,
   "metadata": {},
   "outputs": [],
   "source": [
    "allfragment_len = [sum([len(e) for e in ele]) for ele in doc]\n",
    "plt.hist(allfragment_len)\n",
    "plt.show()\n"
   ]
  },
  {
   "cell_type": "code",
   "execution_count": null,
   "metadata": {},
   "outputs": [],
   "source": []
  },
  {
   "cell_type": "code",
   "execution_count": 1,
   "metadata": {},
   "outputs": [],
   "source": [
    "def cat_sents(idx, end):\n",
    "    indices = [idx]\n",
    "    head = tail = idx\n",
    "    dir = 0\n",
    "    while len(indices) != 16:\n",
    "        print(head, tail)\n",
    "        if tail+1< end and dir==0: \n",
    "            tail+=1\n",
    "            indices.append(tail)\n",
    "        elif head-1>=0 and dir==1:\n",
    "            head-=1   \n",
    "            indices.append(head)\n",
    "        dir=not dir\n",
    "    return indices"
   ]
  },
  {
   "cell_type": "code",
   "execution_count": null,
   "metadata": {},
   "outputs": [],
   "source": [
    "cat_sents(48, 50)"
   ]
  },
  {
   "cell_type": "code",
   "execution_count": 11,
   "metadata": {},
   "outputs": [],
   "source": [
    "import difflib"
   ]
  },
  {
   "cell_type": "code",
   "execution_count": 12,
   "metadata": {},
   "outputs": [
    {
     "data": {
      "text/plain": [
       "0.25"
      ]
     },
     "execution_count": 12,
     "metadata": {},
     "output_type": "execute_result"
    }
   ],
   "source": [
    "difflib.SequenceMatcher(None, '123', '56161').quick_ratio()"
   ]
  },
  {
   "cell_type": "code",
   "execution_count": null,
   "metadata": {},
   "outputs": [],
   "source": [
    "import numpy as np\n",
    "a = np.array([\n",
    "    [3, 40, 20,],\n",
    "    [1, 56, 21],\n",
    "    [441, 560, 28],\n",
    "    [11, 5, 2],\n",
    "])\n"
   ]
  },
  {
   "cell_type": "code",
   "execution_count": null,
   "metadata": {},
   "outputs": [],
   "source": [
    "ind = np.argpartition(a, -3, axis=0)[-3:]\n",
    "ind\n"
   ]
  },
  {
   "cell_type": "code",
   "execution_count": null,
   "metadata": {},
   "outputs": [],
   "source": [
    "ind[:, 0]"
   ]
  },
  {
   "cell_type": "code",
   "execution_count": null,
   "metadata": {},
   "outputs": [],
   "source": [
    "ind[np.argsort(a[ind])]\n"
   ]
  },
  {
   "cell_type": "code",
   "execution_count": null,
   "metadata": {},
   "outputs": [],
   "source": [
    "import torch "
   ]
  },
  {
   "cell_type": "code",
   "execution_count": null,
   "metadata": {},
   "outputs": [],
   "source": [
    "a = torch.rand((1,2,3))\n",
    "b = torch.rand((1,3,3))\n",
    "a,b"
   ]
  },
  {
   "cell_type": "code",
   "execution_count": null,
   "metadata": {},
   "outputs": [],
   "source": [
    "torch.cat((a, b), dim=1)"
   ]
  },
  {
   "cell_type": "code",
   "execution_count": 1,
   "metadata": {},
   "outputs": [],
   "source": [
    "with open('./data/stop_word.txt') as f:\n",
    "    text = f.read()\n",
    "    text = text.split('\\n')"
   ]
  },
  {
   "cell_type": "code",
   "execution_count": 2,
   "metadata": {},
   "outputs": [
    {
     "data": {
      "text/plain": [
       "[1, 2, 2, 3]"
      ]
     },
     "execution_count": 2,
     "metadata": {},
     "output_type": "execute_result"
    }
   ],
   "source": [
    "[1,2] + [2,3]"
   ]
  },
  {
   "cell_type": "code",
   "execution_count": 13,
   "metadata": {
    "tags": []
   },
   "outputs": [],
   "source": [
    "tags = jieba.analyse.extract_tags('醫師：我們6月30號抽血，免疫細胞指數還不錯這樣子，然後病毒量也是OK，阿血糖，糖化血色素7.2，還不錯，所以控制的還不錯，所以表示這段時間身體狀況應該還好。民眾：因為我有重訓和訓練……醫師：低密度膽固醇101是正常，是可以的，然後因為有一點點尿酸稍微高一點點，但是還不需要吃藥，就是飲食稍微注意一下就好，會造成尿酸高一點的食物稍微控制一下就好。民眾：我不知道哪些。醫師：不')\n",
    "tags"
   ]
  },
  {
   "cell_type": "code",
   "execution_count": 26,
   "metadata": {},
   "outputs": [],
   "source": [
    "import spacy\n",
    "from spacy.lang.zh import Chinese\n",
    "from spacy.language import Language\n",
    "\n",
    "text = '醫師：我們6月30號抽血，免疫細胞指數還不錯這樣子，然後病毒量也是OK，阿血糖，糖化血色素7.2，還不錯，所以控制的還不錯，所以表示這段時間身體狀況應該還好。民眾：因為我有重訓和訓練……醫師：低密度膽固醇101是正常，是可以的，然後因為有一點點尿酸稍微高一點點，但是還不需要吃藥，就是飲食稍微注意一下就好，會造成尿酸高一點的食物稍微控制一下就好。民眾：我不知道哪些。醫師：不。'"
   ]
  },
  {
   "cell_type": "code",
   "execution_count": 33,
   "metadata": {},
   "outputs": [
    {
     "name": "stderr",
     "output_type": "stream",
     "text": [
      "WARNING: features.msgpack does not exist, try loading features.pkl\n"
     ]
    }
   ],
   "source": [
    "@Language.component(\"set_custom_boundaries\")\n",
    "def set_custom_boundaries(doc):\n",
    "    \n",
    "    position = ['民眾', '個管師', '醫師', '女醫師', '護理師', '家屬', '藥師', ]\n",
    "    position = [ role+'：' for role in position] + \\\n",
    "                [ role + ele + '：' for role in position for ele in ['A', 'B', '1', '2']]\n",
    "\n",
    "    for token in doc[:-1]:\n",
    "#         print(token, token.i)\n",
    "        if token.text in position:\n",
    "            doc[token.i].is_sent_start = True\n",
    "        elif token.i>0 and doc[token.i-1].text in ['，', '？', '。', ]:\n",
    "            doc[token.i].is_sent_start = True\n",
    "        else:\n",
    "            doc[token.i].is_sent_start = False\n",
    "    return doc\n",
    "nlp = spacy.load(\"zh_core_web_sm\")\n",
    "nlp = Chinese()\n",
    "nlp = Chinese.from_config({\"nlp\": {\"tokenizer\":{\"segmenter\": \"pkuseg\"}}})\n",
    "nlp.tokenizer.initialize(pkuseg_model=\"mixed\", pkuseg_user_dict='./data/pkuseg_user_dict.txt')\n",
    "nlp.add_pipe(\"sentencizer\")\n",
    "nlp.add_pipe(\"set_custom_boundaries\")\n",
    "doc = nlp(text)\n"
   ]
  },
  {
   "cell_type": "code",
   "execution_count": 28,
   "metadata": {},
   "outputs": [
    {
     "data": {
      "text/plain": [
       "['醫師：我們6月30號抽血，',\n",
       " '免疫細胞指數還不錯這樣子，',\n",
       " '然後病毒量也是OK，',\n",
       " '阿血糖，',\n",
       " '糖化血色素7.2，',\n",
       " '還不錯，',\n",
       " '所以控制的還不錯，',\n",
       " '所以表示這段時間身體狀況應該還好。',\n",
       " '民眾：因為我有重訓和訓練……',\n",
       " '醫師：低密度膽固醇101是正常，',\n",
       " '是可以的，',\n",
       " '然後因為有一點點尿酸稍微高一點點，',\n",
       " '但是還不需要吃藥，',\n",
       " '就是飲食稍微注意一下就好，',\n",
       " '會造成尿酸高一點的食物稍微控制一下就好。',\n",
       " '民眾：我不知道哪些。',\n",
       " '醫師：不。']"
      ]
     },
     "execution_count": 28,
     "metadata": {},
     "output_type": "execute_result"
    }
   ],
   "source": [
    "[sen.text for sen in doc.sents]"
   ]
  },
  {
   "cell_type": "code",
   "execution_count": null,
   "metadata": {},
   "outputs": [],
   "source": [
    "a = torch.tensor([\n",
    "    [\n",
    "        [1,2,3],\n",
    "        [0,0,0],\n",
    "        [3,4,3]\n",
    "    ],\n",
    "    [\n",
    "        [1,2,3],\n",
    "        [1,2,3],\n",
    "        [3,4,3]\n",
    "    ],\n",
    "], dtype=torch.float)\n",
    "b = torch.tensor([\n",
    "    [\n",
    "        [1,2,3],\n",
    "        [3,4,3]\n",
    "    ],\n",
    "    [\n",
    "        [1,2,3],\n",
    "        [3,4,3]\n",
    "    ],\n",
    "], dtype=torch.float)\n",
    "cosine_sim()(a, b)"
   ]
  },
  {
   "cell_type": "code",
   "execution_count": null,
   "metadata": {},
   "outputs": [],
   "source": [
    "cosine_sim()(a, b)"
   ]
  },
  {
   "cell_type": "code",
   "execution_count": null,
   "metadata": {},
   "outputs": [],
   "source": [
    "torch.max(cosine_sim()(a, b), 1)"
   ]
  },
  {
   "cell_type": "code",
   "execution_count": null,
   "metadata": {
    "tags": []
   },
   "outputs": [],
   "source": [
    "# output = torch.randn(2, 4, 768)\n",
    "# choi_output = torch.randn(2, 3, 768)\n",
    "cosine_sim(None)(a, b)"
   ]
  },
  {
   "cell_type": "code",
   "execution_count": null,
   "metadata": {},
   "outputs": [],
   "source": [
    "vec1=a\n",
    "vec2=b\n",
    "\n",
    "vec2 = torch.transpose(vec2, 1, 2)\n",
    "norm1 = torch.linalg.norm(vec1, dim=2)\n",
    "norm2 = torch.linalg.norm(vec2, dim=1)   \n",
    "norm1 = norm1.unsqueeze(-1).expand(2, vec1.size(1), vec1.size(2))\n",
    "norm2 = norm2.unsqueeze(2).expand(2, vec2.size(2), vec2.size(1))\n",
    "norm2 = torch.transpose(norm2, 1, 2)\n",
    "eledot = torch.matmul(torch.div(vec1, norm1), torch.div(vec2, norm2))\n",
    "\n",
    "# print(torch.mul(norm1.transpose(0, 1), norm2))\n",
    "# cos_sim = torch.div(eledot ,torch.matmul(norm1.transpose(0, 1), norm2))\n",
    "eledot"
   ]
  },
  {
   "cell_type": "code",
   "execution_count": null,
   "metadata": {},
   "outputs": [],
   "source": [
    "norm2 = norm2.unsqueeze(2).expand(2, vec2.size(2), vec2.size(1))\n",
    "norm2 = torch.transpose(norm2, 1, 2)"
   ]
  },
  {
   "cell_type": "code",
   "execution_count": null,
   "metadata": {},
   "outputs": [],
   "source": [
    "' rock '"
   ]
  },
  {
   "cell_type": "code",
   "execution_count": null,
   "metadata": {},
   "outputs": [],
   "source": [
    "from loader import QA_Dataset\n",
    "from transformers import AutoTokenizer\n",
    "config = 'hfl/chinese-xlnet-base'\n",
    "tokenizer = AutoTokenizer.from_pretrained(config)\n"
   ]
  },
  {
   "cell_type": "code",
   "execution_count": null,
   "metadata": {},
   "outputs": [],
   "source": [
    "example = QA_Dataset(tokenizer, './data/train_fold1.json').__getitem__(1)\n",
    "example['input_ids'].shape "
   ]
  },
  {
   "cell_type": "code",
   "execution_count": null,
   "metadata": {},
   "outputs": [],
   "source": [
    "tokenizer.decode(example['input_ids'][0][0])"
   ]
  },
  {
   "cell_type": "code",
   "execution_count": null,
   "metadata": {},
   "outputs": [],
   "source": []
  },
  {
   "cell_type": "code",
   "execution_count": null,
   "metadata": {},
   "outputs": [],
   "source": [
    "tokenizer.decode(ins['q_input_ids'][0])"
   ]
  },
  {
   "cell_type": "code",
   "execution_count": null,
   "metadata": {
    "tags": []
   },
   "outputs": [],
   "source": [
    "import pandas as pd\n",
    "from loader import *\n",
    "import matplotlib.pyplot as plt\n",
    "from transformers import AutoTokenizer\n",
    "\n",
    "\n",
    "config = 'hfl/chinese-xlnet-base'\n",
    "tokenizer = AutoTokenizer.from_pretrained(config)\n",
    "doc, q, cho, ans = json_parser()"
   ]
  },
  {
   "cell_type": "code",
   "execution_count": null,
   "metadata": {},
   "outputs": [],
   "source": [
    "import jieba\n",
    "jieba.load_userdict('./data/dict.txt') \n",
    "# lijieba.lcut(text))"
   ]
  },
  {
   "cell_type": "code",
   "execution_count": null,
   "metadata": {},
   "outputs": [],
   "source": [
    "def find_entity(strs, ent, dir='f'):\n",
    "    try:\n",
    "        idx = strs.index(ent)\n",
    "        idx = idx-1 if dir=='f' else idx+1\n",
    "        return strs[idx]\n",
    "    except:\n",
    "        return 0\n",
    "def query_propress(query):\n",
    "    valid_ent = ['民眾', '醫師', '個管師', '家屬']\n",
    "    rules=[ \n",
    "        {'p':'關於','dir':'b'}, {'p':'建議','dir':'f'},\n",
    "        {'p':'是', 'dir':'b'}, {'p':'不是', 'dir':'b'},\n",
    "        {'p':'請問', 'dir':'b'}\n",
    "    ]\n",
    "    processed_q = []\n",
    "    for q in query:\n",
    "        tokens = jieba.lcut(q)\n",
    "        # print(tokens)\n",
    "        res = ''\n",
    "        for ele in rules:\n",
    "            res = find_entity(tokens, ele['p'], dir=ele['dir'])  \n",
    "\n",
    "            if res in valid_ent: break\n",
    "        # Clearing invalid ent\n",
    "        if not res in valid_ent:\n",
    "            res= tokens[0] if tokens[0] in valid_ent else ''\n",
    "            \n",
    "        processed_q.append(res)\n",
    "    return processed_q\n"
   ]
  },
  {
   "cell_type": "code",
   "execution_count": null,
   "metadata": {
    "tags": []
   },
   "outputs": [],
   "source": [
    "propressed_query = query_propress(q)\n",
    "list(zip(q, propressed_query))"
   ]
  },
  {
   "cell_type": "code",
   "execution_count": null,
   "metadata": {
    "tags": []
   },
   "outputs": [],
   "source": [
    "pipe =  doc_preprocessing(config)\n",
    "d = pipe(doc, q)\n",
    "\n",
    "# ori_len = [len(window) for frag in d for window in frag['input_ids']]\n",
    "# plt.hist(ori_len, color = 'black', cumulative = False)\n",
    "# plt.show()"
   ]
  },
  {
   "cell_type": "code",
   "execution_count": null,
   "metadata": {},
   "outputs": [],
   "source": [
    "tokenizer.decode(d[0]['q_input_ids'][0])"
   ]
  },
  {
   "cell_type": "code",
   "execution_count": null,
   "metadata": {},
   "outputs": [],
   "source": [
    "plt.hist(strQ2B(ans))\n",
    "plt.show()\n"
   ]
  },
  {
   "cell_type": "markdown",
   "metadata": {},
   "source": [
    "## LOADER"
   ]
  },
  {
   "cell_type": "code",
   "execution_count": null,
   "metadata": {
    "tags": []
   },
   "outputs": [],
   "source": [
    "from torch.utils.data import DataLoader\n",
    "from loader import QA_Dataset\n",
    "from torch.nn.utils.rnn import pad_sequence\n",
    "import torch\n",
    "\n",
    "config = 'hfl/chinese-xlnet-base'\n",
    "lr = 1e-3"
   ]
  },
  {
   "cell_type": "code",
   "execution_count": null,
   "metadata": {},
   "outputs": [],
   "source": [
    "import  torch.nn.functional as F\n",
    "from torch.nn.utils.rnn import pad_sequence\n",
    "a = torch.ones(25, 300)\n",
    "b = torch.ones(22, 300)\n",
    "c = torch.ones(15, 300)\n",
    "pad_sequence([a, b, c], batch_first=True,).shape"
   ]
  },
  {
   "cell_type": "code",
   "execution_count": null,
   "metadata": {
    "collapsed": true,
    "jupyter": {
     "outputs_hidden": true
    },
    "tags": []
   },
   "outputs": [],
   "source": [
    "def fragment_pad(*dcts):\n",
    "    combined_dict = {}\n",
    "    for k in set(dcts[0]):\n",
    "        if not k=='label' and not k=='choice':\n",
    "            print(k, [d[k].shape for d in dcts])\n",
    "            combined_dict.update({\n",
    "                k:pad_sequence([d[k].squeeze(0) for d in dcts], batch_first=True)\n",
    "            })\n",
    "        if k=='label':\n",
    "             combined_dict.update({\n",
    "                'label':torch.stack([d['label'] for d in dcts]) \n",
    "             })\n",
    "    return combined_dict\n",
    "\n",
    "def collate_fn(batch):\n",
    "    batched_dict = fragment_pad(*batch)\n",
    "    return batched_dict\n",
    "\n",
    "train_ds = QA_Dataset(config, './data/Train_qa_ans.json')\n",
    "train_loader = DataLoader(\n",
    "    train_ds, \n",
    "    batch_size=4, \n",
    "    num_workers=1, \n",
    "    shuffle=True, \n",
    "    collate_fn=collate_fn\n",
    ")\n",
    "train_loader.__iter__().__next__()\n",
    "# model = QA_Model(config, lr=lr)"
   ]
  },
  {
   "cell_type": "code",
   "execution_count": null,
   "metadata": {},
   "outputs": [],
   "source": [
    "from loader import QA_Dataset"
   ]
  },
  {
   "cell_type": "code",
   "execution_count": null,
   "metadata": {},
   "outputs": [],
   "source": [
    "from transformers import XLNetTokenizer, XLNetModel\n",
    "import torch\n",
    "\n",
    "config = 'hfl/chinese-xlnet-base'\n",
    "tokenizer = XLNetTokenizer.from_pretrained(config)\n",
    "tokenizer.add_special_tokens({'additional_special_tokens':['<q>']})\n",
    "model = XLNetModel.from_pretrained(config)\n",
    "model.resize_token_embeddings(len(tokenizer))"
   ]
  },
  {
   "cell_type": "code",
   "execution_count": null,
   "metadata": {},
   "outputs": [],
   "source": [
    "tokenizer([\n",
    "    ('預計的性行為', '預計的性行為'),\n",
    "    ('預預預預預預', '預預預預預預'),\n",
    "\n",
    "])['input_ids'][0]"
   ]
  },
  {
   "cell_type": "code",
   "execution_count": null,
   "metadata": {},
   "outputs": [],
   "source": [
    "tokenizer.decode(19)"
   ]
  },
  {
   "cell_type": "code",
   "execution_count": null,
   "metadata": {},
   "outputs": [],
   "source": []
  },
  {
   "cell_type": "code",
   "execution_count": null,
   "metadata": {},
   "outputs": [],
   "source": [
    "c ='預計的性行為，前面兩個小時吃兩顆，24小時後，再吃一顆，再一個24小時之後吃一顆'\n",
    "\n",
    "ids = tokenizer([c, c[0:30]], max_length=40, padding='max_length').input_ids\n",
    "tokenizer.decode(ids[0])"
   ]
  },
  {
   "cell_type": "code",
   "execution_count": null,
   "metadata": {},
   "outputs": [],
   "source": [
    "for ele in ids[0]:\n",
    "    print(    tokenizer.decode(ele))\n"
   ]
  },
  {
   "cell_type": "code",
   "execution_count": null,
   "metadata": {},
   "outputs": [],
   "source": [
    "tokenizer.decode(ids[1])"
   ]
  },
  {
   "cell_type": "markdown",
   "metadata": {},
   "source": [
    "## Model"
   ]
  },
  {
   "cell_type": "code",
   "execution_count": null,
   "metadata": {},
   "outputs": [],
   "source": [
    "h = model(**encoding).last_hidden_state"
   ]
  },
  {
   "cell_type": "code",
   "execution_count": null,
   "metadata": {},
   "outputs": [],
   "source": [
    "from transformers.modeling_utils import SequenceSummary\n"
   ]
  },
  {
   "cell_type": "code",
   "execution_count": null,
   "metadata": {},
   "outputs": [],
   "source": [
    "s = SequenceSummary(config)\n",
    "getattr(config, 'summary_type', 'last')"
   ]
  },
  {
   "cell_type": "code",
   "execution_count": null,
   "metadata": {},
   "outputs": [],
   "source": [
    "import torch\n",
    "\n",
    "a = torch.randn(2,3,7)\n",
    "a\n"
   ]
  },
  {
   "cell_type": "code",
   "execution_count": null,
   "metadata": {},
   "outputs": [],
   "source": [
    "torch.cat([a,a,a], dim=2).shape"
   ]
  },
  {
   "cell_type": "code",
   "execution_count": null,
   "metadata": {},
   "outputs": [],
   "source": [
    "index = torch.tensor([\n",
    "    [ 1,2,1 ],\n",
    "    [ 1,2,2 ],\n",
    "])\n",
    "\n",
    "max_val = [a.index_select(1, ele[1])[ele[0]] for ele in enumerate(index)]\n",
    "# a.index_select(1, index)\n",
    "max_val"
   ]
  },
  {
   "cell_type": "code",
   "execution_count": null,
   "metadata": {},
   "outputs": [],
   "source": [
    " torch.cat(max_val).view(2,-1, 7)"
   ]
  },
  {
   "cell_type": "code",
   "execution_count": null,
   "metadata": {},
   "outputs": [],
   "source": [
    "# MEM "
   ]
  },
  {
   "cell_type": "code",
   "execution_count": null,
   "metadata": {},
   "outputs": [],
   "source": [
    "from transformers import AutoModel, AutoConfig\n",
    "\n",
    "model_name = 'hfl/chinese-xlnet-base'\n",
    "\n",
    "config = AutoConfig.from_pretrained(\n",
    "        model_name,\n",
    "        n_layer=3,\n",
    ")\n",
    "query_encoder = AutoModel.from_pretrained(\n",
    "        model_name,\n",
    "        config=config,\n",
    ")\n",
    "\n"
   ]
  },
  {
   "cell_type": "code",
   "execution_count": null,
   "metadata": {},
   "outputs": [],
   "source": [
    "q"
   ]
  },
  {
   "cell_type": "code",
   "execution_count": null,
   "metadata": {},
   "outputs": [],
   "source": [
    "from torch.nn import CrossEntropyLoss\n",
    "import torch"
   ]
  },
  {
   "cell_type": "code",
   "execution_count": null,
   "metadata": {},
   "outputs": [],
   "source": [
    "l = CrossEntropyLoss()\n",
    "y = torch.empty(1, dtype=torch.long).random_(3)\n",
    "pred = torch.tensor([[-0.2, -0.3, 0.2]], requires_grad=True)\n",
    "pred, y"
   ]
  },
  {
   "cell_type": "code",
   "execution_count": null,
   "metadata": {},
   "outputs": [],
   "source": [
    "l(pred, y)"
   ]
  }
 ],
 "metadata": {
  "kernelspec": {
   "display_name": "Python 3",
   "language": "python",
   "name": "python3"
  },
  "language_info": {
   "codemirror_mode": {
    "name": "ipython",
    "version": 3
   },
   "file_extension": ".py",
   "mimetype": "text/x-python",
   "name": "python",
   "nbconvert_exporter": "python",
   "pygments_lexer": "ipython3",
   "version": "3.7.10"
  },
  "metadata": {
   "interpreter": {
    "hash": "ca5915a2c02dea2c8acf4e447856dc800933eee93a34a922b88f60d8ef1a4460"
   }
  }
 },
 "nbformat": 4,
 "nbformat_minor": 4
}
