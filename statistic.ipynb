{
 "cells": [
  {
   "cell_type": "code",
   "execution_count": 1,
   "metadata": {},
   "outputs": [],
   "source": [
    "import pandas as pd\n",
    "from loader import *\n",
    "import matplotlib.pyplot as plt\n",
    "import jieba\n",
    "import jieba.analyse\n",
    "import  pkuseg\n",
    "\n"
   ]
  },
  {
   "cell_type": "code",
   "execution_count": 12,
   "metadata": {},
   "outputs": [],
   "source": [
    "ws=pkuseg.pkuseg(user_dict='./data/dict.txt' ).cut\n",
    "jieba.load_userdict('./data/dict.txt') \n",
    "ws=jieba.lcut"
   ]
  },
  {
   "cell_type": "code",
   "execution_count": 9,
   "metadata": {},
   "outputs": [
    {
     "output_type": "execute_result",
     "data": {
      "text/plain": [
       "['那', '你', '的', 'line', '是', 'Ｐ', 'Ｒ', 'Ｅ', 'Ｐ', '這個', '嗎']"
      ]
     },
     "metadata": {},
     "execution_count": 9
    }
   ],
   "source": [
    "ws('那你的line是ＰＲＥＰ這個嗎')"
   ]
  },
  {
   "cell_type": "code",
   "execution_count": 25,
   "metadata": {},
   "outputs": [],
   "source": [
    "def full2half(s):\n",
    "    n = []\n",
    "    # s = s.decode('utf-8')\n",
    "    for char in s:\n",
    "        num = ord(char)\n",
    "        if num == 0x3000:\n",
    "            num = chr(num)\n",
    "        elif 0xFF01 <= num <= 0xFF5E:\n",
    "            num -= 0xfee0\n",
    "            num = chr(num)\n",
    "        else: num=char\n",
    "        n.append(num)\n",
    "        # print(n)\n",
    "    return ''.join(n)\n"
   ]
  },
  {
   "cell_type": "code",
   "execution_count": 38,
   "metadata": {},
   "outputs": [
    {
     "output_type": "execute_result",
     "data": {
      "text/plain": [
       "'那你的line是PREP這個嗎:::,,。。.......⋯⋯⋯⋯……87'"
      ]
     },
     "metadata": {},
     "execution_count": 38
    }
   ],
   "source": [
    "full2half('那你的line是ＰＲＥＰ這個嗎：::，，。。.......⋯⋯⋯⋯……８７')"
   ]
  },
  {
   "cell_type": "code",
   "execution_count": 13,
   "metadata": {},
   "outputs": [],
   "source": [
    "doc, q, cho, ans = json_parser()\n",
    "\n",
    "def tokenize(ins):\n",
    "    \n",
    "    role_ins = []\n",
    "    ins_frag = []\n",
    "    for frag in ins:\n",
    "        roleid = []\n",
    "        tokenize_sen = []\n",
    "        sents = frag.split('<')[1:]\n",
    "        for s in sents:\n",
    "            try:\n",
    "                sid = int(s[0])\n",
    "            except:\n",
    "                print(s)\n",
    "\n",
    "            # print(s[3:], '\\n')\n",
    "            s = ws(s[2:])\n",
    "            # print(s)\n",
    "            roleid += [sid] * len(s)\n",
    "            tokenize_sen+=s\n",
    "\n",
    "        role_ins.append(roleid)\n",
    "        ins_frag.append(tokenize_sen)\n",
    "        assert len(roleid) == len(tokenize_sen)\n",
    "    return {\n",
    "        'raw_text': ins_frag,\n",
    "        'roleid' :role_ins,\n",
    "    }"
   ]
  },
  {
   "cell_type": "code",
   "execution_count": 14,
   "metadata": {},
   "outputs": [
    {
     "output_type": "execute_result",
     "data": {
      "text/plain": [
       "(['<1>嗯～<2>就會下降這樣子，<2>那膽固醇的話是141。<1>嗯。<2>200以下是正常。<1>哦～<2>高密度膽固醇54，<2>這個是好的膽固醇。<1>對。<2>這個要在40以上，<2>所以吳老師部分ＯＫ。<1>所以其實這個是高一點也沒關係。<2>對這個是好的。<1>好的嘛。<2>他會有保護的效果。<1>這個是總和嘛齁？<2>這個是總和對，<2>啊這個是低密度膽固醇，<2>低密度膽固醇就是會卡在心血管上面會造成。<1>啊這樣子算有點偏高嗎？<2>嘿正常。<1>正常喔。<1>那樣的習慣的人才有。<2>ＯＫ啊。<1>就是偏高就對了齁？<2>啊尿液的部分呢是，<2>我看一下，<2>ＰＨ值是正常，<2>沒有蛋那個，<2>沒有尿糖，<2>然後呢蛋白尿我們也有測，<2>ＰＲＯＴＥＩＮ，<2>在這裡齁，',\n",
       "  '<1>嗯～<2>就會下降這樣子，<2>那膽固醇的話是141。<1>嗯。<2>200以下是正常。<1>哦～<2>高密度膽固醇54，<2>這個是好的膽固醇。<1>對。<2>這個要在40以上，<2>所以吳老師部分ＯＫ。<1>所以其實這個是高一點也沒關係。<2>對這個是好的。<1>好的嘛。<2>他會有保護的效果。<1>這個是總和嘛齁？<2>這個是總和對，<2>啊這個是低密度膽固醇，<2>低密度膽固醇就是會卡在心血管上面會造成。<1>啊這樣子算有點偏高嗎？<2>嘿正常。<1>正常喔。<1>那樣的習慣的人才有。<2>ＯＫ啊。<1>就是偏高就對了齁？<2>啊尿液的部分呢是，<2>我看一下，<2>ＰＨ值是正常，<2>沒有蛋那個，<2>沒有尿糖，<2>然後呢蛋白尿我們也有測，<2>ＰＲＯＴＥＩＮ，<2>在這裡齁，',\n",
       "  '<1>嗯～<2>就會下降這樣子，<2>那膽固醇的話是141。<1>嗯。<2>200以下是正常。<1>哦～<2>高密度膽固醇54，<2>這個是好的膽固醇。<1>對。<2>這個要在40以上，<2>所以吳老師部分ＯＫ。<1>所以其實這個是高一點也沒關係。<2>對這個是好的。<1>好的嘛。<2>他會有保護的效果。<1>這個是總和嘛齁？<2>這個是總和對，<2>啊這個是低密度膽固醇，<2>低密度膽固醇就是會卡在心血管上面會造成。<1>啊這樣子算有點偏高嗎？<2>嘿正常。<1>正常喔。<1>那樣的習慣的人才有。<2>ＯＫ啊。<1>就是偏高就對了齁？<2>啊尿液的部分呢是，<2>我看一下，<2>ＰＨ值是正常，<2>沒有蛋那個，<2>沒有尿糖，<2>然後呢蛋白尿我們也有測，<2>ＰＲＯＴＥＩＮ，<2>在這裡齁，'],\n",
       " '請問高密度膽固醇指數要多少以上才是正常值？',\n",
       " ['４０', '１３０', '１５０'],\n",
       " {'qa': 0, 'risk': 0})"
      ]
     },
     "metadata": {},
     "execution_count": 14
    }
   ],
   "source": [
    "i = 1\n",
    "doc[i], q[i], cho[i], ans[i]"
   ]
  },
  {
   "cell_type": "code",
   "execution_count": 35,
   "metadata": {},
   "outputs": [
    {
     "output_type": "execute_result",
     "data": {
      "text/plain": [
       "154"
      ]
     },
     "metadata": {},
     "execution_count": 35
    }
   ],
   "source": [
    "len(tokenize(doc[166])['raw_text'][1])"
   ]
  },
  {
   "cell_type": "code",
   "execution_count": 37,
   "metadata": {},
   "outputs": [
    {
     "output_type": "execute_result",
     "data": {
      "text/plain": [
       "tensor([[[-6.6831e-02, -5.2485e-01,  6.1045e-01, -7.6859e-02,  4.9431e-01,\n",
       "           1.8986e-01, -1.8368e+00, -1.3222e+00,  8.7111e-01,  4.3258e-01,\n",
       "          -3.2533e-01,  8.9563e-01],\n",
       "         [ 7.7752e-04,  1.3285e+00, -7.5241e-02, -1.2557e-02,  8.4139e-01,\n",
       "           3.9887e-04,  2.2646e-01, -7.8450e-01,  5.8338e-01, -1.7438e+00,\n",
       "           1.2119e+00,  1.0964e+00],\n",
       "         [-2.2583e-01, -1.7354e+00,  1.8012e+00, -4.0434e-01,  1.1555e+00,\n",
       "          -4.7239e-02, -1.6321e+00,  7.4819e-01, -1.5800e+00,  8.3304e-02,\n",
       "           1.2905e+00, -1.9404e-01]],\n",
       "\n",
       "        [[-1.5224e-01,  2.2067e+00,  7.8872e-01,  1.2492e+00,  3.4109e-02,\n",
       "           2.4306e-01,  1.0006e+00,  8.8748e-02, -4.5431e-01,  1.0941e+00,\n",
       "           1.8342e+00, -2.0721e-01],\n",
       "         [-2.3212e-01,  8.2180e-02,  5.4369e-01, -3.0683e-01,  8.9243e-02,\n",
       "          -4.4669e-01,  4.6182e-01,  1.6795e+00,  1.8753e+00,  2.3479e-02,\n",
       "           5.6987e-01,  1.1448e-01],\n",
       "         [ 8.6930e-01,  1.2600e+00, -6.8534e-01, -2.8664e+00, -8.8756e-01,\n",
       "           8.6296e-01, -2.7168e-01,  7.5639e-01,  2.7473e+00,  9.8860e-01,\n",
       "           1.4156e-01, -4.7283e-01]]])"
      ]
     },
     "metadata": {},
     "execution_count": 37
    }
   ],
   "source": [
    "a= torch.randn((2,3,12))\n",
    "ab"
   ]
  },
  {
   "cell_type": "code",
   "execution_count": 44,
   "metadata": {},
   "outputs": [
    {
     "output_type": "execute_result",
     "data": {
      "text/plain": [
       "tensor([[[-6.6831e-02, -5.2485e-01,  6.1045e-01, -7.6859e-02,  4.9431e-01,\n",
       "           1.8986e-01, -1.8368e+00, -1.3222e+00,  8.7111e-01,  4.3258e-01,\n",
       "          -3.2533e-01,  8.9563e-01],\n",
       "         [-6.6831e-02, -5.2485e-01,  6.1045e-01, -7.6859e-02,  4.9431e-01,\n",
       "           1.8986e-01, -1.8368e+00, -1.3222e+00,  8.7111e-01,  4.3258e-01,\n",
       "          -3.2533e-01,  8.9563e-01],\n",
       "         [-6.6831e-02, -5.2485e-01,  6.1045e-01, -7.6859e-02,  4.9431e-01,\n",
       "           1.8986e-01, -1.8368e+00, -1.3222e+00,  8.7111e-01,  4.3258e-01,\n",
       "          -3.2533e-01,  8.9563e-01],\n",
       "         [ 7.7752e-04,  1.3285e+00, -7.5241e-02, -1.2557e-02,  8.4139e-01,\n",
       "           3.9887e-04,  2.2646e-01, -7.8450e-01,  5.8338e-01, -1.7438e+00,\n",
       "           1.2119e+00,  1.0964e+00],\n",
       "         [ 7.7752e-04,  1.3285e+00, -7.5241e-02, -1.2557e-02,  8.4139e-01,\n",
       "           3.9887e-04,  2.2646e-01, -7.8450e-01,  5.8338e-01, -1.7438e+00,\n",
       "           1.2119e+00,  1.0964e+00],\n",
       "         [ 7.7752e-04,  1.3285e+00, -7.5241e-02, -1.2557e-02,  8.4139e-01,\n",
       "           3.9887e-04,  2.2646e-01, -7.8450e-01,  5.8338e-01, -1.7438e+00,\n",
       "           1.2119e+00,  1.0964e+00],\n",
       "         [-2.2583e-01, -1.7354e+00,  1.8012e+00, -4.0434e-01,  1.1555e+00,\n",
       "          -4.7239e-02, -1.6321e+00,  7.4819e-01, -1.5800e+00,  8.3304e-02,\n",
       "           1.2905e+00, -1.9404e-01],\n",
       "         [-2.2583e-01, -1.7354e+00,  1.8012e+00, -4.0434e-01,  1.1555e+00,\n",
       "          -4.7239e-02, -1.6321e+00,  7.4819e-01, -1.5800e+00,  8.3304e-02,\n",
       "           1.2905e+00, -1.9404e-01],\n",
       "         [-2.2583e-01, -1.7354e+00,  1.8012e+00, -4.0434e-01,  1.1555e+00,\n",
       "          -4.7239e-02, -1.6321e+00,  7.4819e-01, -1.5800e+00,  8.3304e-02,\n",
       "           1.2905e+00, -1.9404e-01]],\n",
       "\n",
       "        [[-1.5224e-01,  2.2067e+00,  7.8872e-01,  1.2492e+00,  3.4109e-02,\n",
       "           2.4306e-01,  1.0006e+00,  8.8748e-02, -4.5431e-01,  1.0941e+00,\n",
       "           1.8342e+00, -2.0721e-01],\n",
       "         [-1.5224e-01,  2.2067e+00,  7.8872e-01,  1.2492e+00,  3.4109e-02,\n",
       "           2.4306e-01,  1.0006e+00,  8.8748e-02, -4.5431e-01,  1.0941e+00,\n",
       "           1.8342e+00, -2.0721e-01],\n",
       "         [-1.5224e-01,  2.2067e+00,  7.8872e-01,  1.2492e+00,  3.4109e-02,\n",
       "           2.4306e-01,  1.0006e+00,  8.8748e-02, -4.5431e-01,  1.0941e+00,\n",
       "           1.8342e+00, -2.0721e-01],\n",
       "         [-2.3212e-01,  8.2180e-02,  5.4369e-01, -3.0683e-01,  8.9243e-02,\n",
       "          -4.4669e-01,  4.6182e-01,  1.6795e+00,  1.8753e+00,  2.3479e-02,\n",
       "           5.6987e-01,  1.1448e-01],\n",
       "         [-2.3212e-01,  8.2180e-02,  5.4369e-01, -3.0683e-01,  8.9243e-02,\n",
       "          -4.4669e-01,  4.6182e-01,  1.6795e+00,  1.8753e+00,  2.3479e-02,\n",
       "           5.6987e-01,  1.1448e-01],\n",
       "         [-2.3212e-01,  8.2180e-02,  5.4369e-01, -3.0683e-01,  8.9243e-02,\n",
       "          -4.4669e-01,  4.6182e-01,  1.6795e+00,  1.8753e+00,  2.3479e-02,\n",
       "           5.6987e-01,  1.1448e-01],\n",
       "         [ 8.6930e-01,  1.2600e+00, -6.8534e-01, -2.8664e+00, -8.8756e-01,\n",
       "           8.6296e-01, -2.7168e-01,  7.5639e-01,  2.7473e+00,  9.8860e-01,\n",
       "           1.4156e-01, -4.7283e-01],\n",
       "         [ 8.6930e-01,  1.2600e+00, -6.8534e-01, -2.8664e+00, -8.8756e-01,\n",
       "           8.6296e-01, -2.7168e-01,  7.5639e-01,  2.7473e+00,  9.8860e-01,\n",
       "           1.4156e-01, -4.7283e-01],\n",
       "         [ 8.6930e-01,  1.2600e+00, -6.8534e-01, -2.8664e+00, -8.8756e-01,\n",
       "           8.6296e-01, -2.7168e-01,  7.5639e-01,  2.7473e+00,  9.8860e-01,\n",
       "           1.4156e-01, -4.7283e-01]]])"
      ]
     },
     "metadata": {},
     "execution_count": 44
    }
   ],
   "source": [
    "a.view(-1, 12).unsqueeze(1).repeat(1, 3, 1).view(2, 9, 12)"
   ]
  },
  {
   "cell_type": "code",
   "execution_count": 27,
   "metadata": {},
   "outputs": [
    {
     "output_type": "execute_result",
     "data": {
      "text/plain": [
       "torch.Size([8, 3, 1])"
      ]
     },
     "metadata": {},
     "execution_count": 27
    }
   ],
   "source": [
    "import torch\n",
    "mask = (torch.eye(3)[0]!=1).bool()\n",
    "mask = mask.repeat(8, 1).unsqueeze(2)\n",
    "mask.shape"
   ]
  },
  {
   "cell_type": "code",
   "execution_count": 28,
   "metadata": {},
   "outputs": [
    {
     "output_type": "execute_result",
     "data": {
      "text/plain": [
       "tensor([[[False],\n",
       "         [ True],\n",
       "         [ True]],\n",
       "\n",
       "        [[False],\n",
       "         [ True],\n",
       "         [ True]],\n",
       "\n",
       "        [[False],\n",
       "         [ True],\n",
       "         [ True]],\n",
       "\n",
       "        [[False],\n",
       "         [ True],\n",
       "         [ True]],\n",
       "\n",
       "        [[False],\n",
       "         [ True],\n",
       "         [ True]],\n",
       "\n",
       "        [[False],\n",
       "         [ True],\n",
       "         [ True]],\n",
       "\n",
       "        [[False],\n",
       "         [ True],\n",
       "         [ True]],\n",
       "\n",
       "        [[False],\n",
       "         [ True],\n",
       "         [ True]]])"
      ]
     },
     "metadata": {},
     "execution_count": 28
    }
   ],
   "source": [
    "mask"
   ]
  },
  {
   "cell_type": "code",
   "execution_count": 29,
   "metadata": {},
   "outputs": [],
   "source": [
    "emb = torch.randn((8, 3, 70))\n"
   ]
  },
  {
   "cell_type": "code",
   "execution_count": 32,
   "metadata": {},
   "outputs": [
    {
     "output_type": "execute_result",
     "data": {
      "text/plain": [
       "torch.Size([8, 2, 70])"
      ]
     },
     "metadata": {},
     "execution_count": 32
    }
   ],
   "source": [
    "emb[:,1:,:].shape"
   ]
  },
  {
   "cell_type": "code",
   "execution_count": 36,
   "metadata": {},
   "outputs": [
    {
     "output_type": "execute_result",
     "data": {
      "text/plain": [
       "torch.Size([8, 2, 70])"
      ]
     },
     "metadata": {},
     "execution_count": 36
    }
   ],
   "source": [
    "indices = torch.tensor([0, 2])\n",
    "torch.index_select(emb, 1, indices).shape\n"
   ]
  },
  {
   "cell_type": "code",
   "execution_count": 11,
   "metadata": {},
   "outputs": [
    {
     "output_type": "execute_result",
     "data": {
      "text/plain": [
       "['<',\n",
       " '1',\n",
       " '>',\n",
       " '好',\n",
       " '。',\n",
       " '<',\n",
       " '2',\n",
       " '>',\n",
       " '阿',\n",
       " '假如',\n",
       " '你',\n",
       " '急',\n",
       " '的',\n",
       " '話',\n",
       " '，',\n",
       " '<',\n",
       " '2',\n",
       " '>',\n",
       " '你',\n",
       " '就',\n",
       " '十二',\n",
       " '天',\n",
       " '左右',\n",
       " '齁',\n",
       " '，',\n",
       " '<',\n",
       " '2',\n",
       " '>',\n",
       " '你',\n",
       " '就',\n",
       " 'line',\n",
       " '一下',\n",
       " '那',\n",
       " '個',\n",
       " '⋯⋯',\n",
       " '<',\n",
       " '1',\n",
       " '>',\n",
       " '我',\n",
       " '沒有',\n",
       " '很',\n",
       " '急',\n",
       " '。',\n",
       " '<',\n",
       " '2>沒',\n",
       " '有',\n",
       " '很',\n",
       " '急喔',\n",
       " '？',\n",
       " '<',\n",
       " '1',\n",
       " '>',\n",
       " '對',\n",
       " '阿～<2',\n",
       " '>',\n",
       " '喔',\n",
       " '，',\n",
       " '<',\n",
       " '2',\n",
       " '>',\n",
       " '我',\n",
       " '⋯⋯',\n",
       " '<',\n",
       " '2',\n",
       " '>',\n",
       " '我',\n",
       " '⋯⋯',\n",
       " '<',\n",
       " '2',\n",
       " '>',\n",
       " '我',\n",
       " '，',\n",
       " '<',\n",
       " '2',\n",
       " '>',\n",
       " '我',\n",
       " '相信',\n",
       " '是',\n",
       " '應該ok',\n",
       " '啦',\n",
       " '。',\n",
       " '<',\n",
       " '1',\n",
       " '>',\n",
       " '好',\n",
       " '。',\n",
       " '<',\n",
       " '2',\n",
       " '>',\n",
       " '阿',\n",
       " '其他',\n",
       " '拉肚子',\n",
       " '都',\n",
       " '，',\n",
       " '<',\n",
       " '2',\n",
       " '>',\n",
       " '部份',\n",
       " '都',\n",
       " 'ok',\n",
       " '了',\n",
       " '嗎',\n",
       " '？',\n",
       " '<',\n",
       " '1',\n",
       " '>',\n",
       " '都',\n",
       " 'ok',\n",
       " '了',\n",
       " '，',\n",
       " '<',\n",
       " '1',\n",
       " '>',\n",
       " '對',\n",
       " '。',\n",
       " '<',\n",
       " '2',\n",
       " '>',\n",
       " '阿',\n",
       " '你',\n",
       " '四環素',\n",
       " '那',\n",
       " '個',\n",
       " '綠色',\n",
       " '的',\n",
       " '有',\n",
       " '吃完',\n",
       " '了',\n",
       " '？',\n",
       " '<',\n",
       " '1',\n",
       " '>',\n",
       " '後',\n",
       " '來',\n",
       " '⋯⋯',\n",
       " '<',\n",
       " '2',\n",
       " '>然',\n",
       " '後',\n",
       " '呢',\n",
       " '？',\n",
       " '<',\n",
       " '1',\n",
       " '>',\n",
       " '後',\n",
       " '來',\n",
       " '突然',\n",
       " '找到',\n",
       " '那',\n",
       " '個',\n",
       " '⋯⋯',\n",
       " '<',\n",
       " '1',\n",
       " '>',\n",
       " '那',\n",
       " '個',\n",
       " '⋯⋯',\n",
       " '<',\n",
       " '2',\n",
       " '>',\n",
       " '是',\n",
       " '。',\n",
       " '<',\n",
       " '1',\n",
       " '>',\n",
       " '單子',\n",
       " '。',\n",
       " '<',\n",
       " '2',\n",
       " '>',\n",
       " '好',\n",
       " '。',\n",
       " '<',\n",
       " '2',\n",
       " '>',\n",
       " '那',\n",
       " '我',\n",
       " '們',\n",
       " '就',\n",
       " '，',\n",
       " '<',\n",
       " '2',\n",
       " '>',\n",
       " '這次',\n",
       " '⋯',\n",
       " '⋯這',\n",
       " '，',\n",
       " '<',\n",
       " '2',\n",
       " '>',\n",
       " '這',\n",
       " '次',\n",
       " '的',\n",
       " '抽血',\n",
       " '主要',\n",
       " '是',\n",
       " '看',\n",
       " '你',\n",
       " '四',\n",
       " '個',\n",
       " '禮拜',\n",
       " '的',\n",
       " '療效',\n",
       " '。',\n",
       " '<',\n",
       " '2',\n",
       " '>',\n",
       " '對',\n",
       " '，',\n",
       " '<',\n",
       " '2',\n",
       " '>',\n",
       " '阿',\n",
       " '你',\n",
       " '免疫力',\n",
       " '不',\n",
       " '好的',\n",
       " '時候',\n",
       " '。',\n",
       " '<',\n",
       " '1>恩',\n",
       " '。',\n",
       " '<',\n",
       " '2',\n",
       " '>',\n",
       " '齁',\n",
       " '，',\n",
       " '<',\n",
       " '2>還',\n",
       " '是',\n",
       " '要',\n",
       " '小心',\n",
       " '。',\n",
       " '<',\n",
       " '1',\n",
       " '>',\n",
       " '如果',\n",
       " '是',\n",
       " '肝膽',\n",
       " '的',\n",
       " '話',\n",
       " '，',\n",
       " '<',\n",
       " '1',\n",
       " '>',\n",
       " '我',\n",
       " '可以',\n",
       " '，',\n",
       " '<',\n",
       " '1',\n",
       " '>',\n",
       " '我',\n",
       " '可以',\n",
       " '。',\n",
       " '<',\n",
       " '2',\n",
       " '>',\n",
       " '好',\n",
       " '，',\n",
       " '<',\n",
       " '2',\n",
       " '>',\n",
       " '沒關',\n",
       " '係',\n",
       " '阿',\n",
       " '假如',\n",
       " '，']"
      ]
     },
     "metadata": {},
     "execution_count": 11
    }
   ],
   "source": [
    "ws(doc[0][0])"
   ]
  },
  {
   "cell_type": "code",
   "execution_count": null,
   "metadata": {},
   "outputs": [],
   "source": [
    "frag_len = [ len(frag) for frag_doc in doc for frag in frag_doc]\n",
    "max(frag_len), min(frag_len)"
   ]
  },
  {
   "cell_type": "code",
   "execution_count": null,
   "metadata": {},
   "outputs": [],
   "source": [
    "plt.title('Fragment len')\n",
    "plt.hist(frag_len)\n",
    "plt.show()"
   ]
  },
  {
   "cell_type": "code",
   "execution_count": null,
   "metadata": {},
   "outputs": [],
   "source": [
    "allfragment_len = [sum([len(e) for e in ele]) for ele in doc]\n",
    "plt.hist(allfragment_len)\n",
    "plt.show()\n"
   ]
  },
  {
   "cell_type": "code",
   "execution_count": 6,
   "metadata": {},
   "outputs": [
    {
     "output_type": "execute_result",
     "data": {
      "text/plain": [
       "tensor([[[-1.2928, -0.5293],\n",
       "         [-1.3508, -0.0625],\n",
       "         [ 1.0319,  0.2355]],\n",
       "\n",
       "        [[-1.1853,  0.8645],\n",
       "         [-0.0995, -1.1394],\n",
       "         [ 0.1403,  0.4403]]])"
      ]
     },
     "metadata": {},
     "execution_count": 6
    }
   ],
   "source": [
    "import torch\n",
    "prob = torch.randn((2,3,2))\n",
    "prob"
   ]
  },
  {
   "cell_type": "code",
   "execution_count": 7,
   "metadata": {},
   "outputs": [
    {
     "output_type": "execute_result",
     "data": {
      "text/plain": [
       "tensor([2, 0])"
      ]
     },
     "metadata": {},
     "execution_count": 7
    }
   ],
   "source": [
    "torch.max(prob, dim=1).indices[:, 1]"
   ]
  },
  {
   "cell_type": "code",
   "execution_count": null,
   "metadata": {},
   "outputs": [],
   "source": [
    "def cat_sents(idx, end):\n",
    "    indices = [idx]\n",
    "    head = tail = idx\n",
    "    dir = 0\n",
    "    while len(indices) != 16:\n",
    "        print(head, tail)\n",
    "        if tail+1< end and dir==0: \n",
    "            tail+=1\n",
    "            indices.append(tail)\n",
    "        elif head-1>=0 and dir==1:\n",
    "            head-=1   \n",
    "            indices.append(head)\n",
    "        dir=not dir\n",
    "    return indices"
   ]
  },
  {
   "cell_type": "code",
   "execution_count": null,
   "metadata": {},
   "outputs": [],
   "source": [
    "cat_sents(48, 50)"
   ]
  },
  {
   "cell_type": "code",
   "execution_count": null,
   "metadata": {},
   "outputs": [],
   "source": [
    "import difflib"
   ]
  },
  {
   "cell_type": "code",
   "execution_count": null,
   "metadata": {},
   "outputs": [],
   "source": [
    "difflib.SequenceMatcher(None, '123', '56161').quick_ratio()"
   ]
  },
  {
   "cell_type": "code",
   "execution_count": null,
   "metadata": {},
   "outputs": [],
   "source": [
    "import numpy as np\n",
    "a = np.array([\n",
    "    [3, 40, 20,],\n",
    "    [1, 56, 21],\n",
    "    [441, 560, 28],\n",
    "    [11, 5, 2],\n",
    "])\n"
   ]
  },
  {
   "cell_type": "code",
   "execution_count": null,
   "metadata": {},
   "outputs": [],
   "source": [
    "ind = np.argpartition(a, -3, axis=0)[-3:]\n",
    "ind\n"
   ]
  },
  {
   "cell_type": "code",
   "execution_count": null,
   "metadata": {},
   "outputs": [],
   "source": [
    "ind[:, 0]"
   ]
  },
  {
   "cell_type": "code",
   "execution_count": null,
   "metadata": {},
   "outputs": [],
   "source": [
    "ind[np.argsort(a[ind])]\n"
   ]
  },
  {
   "cell_type": "code",
   "execution_count": null,
   "metadata": {},
   "outputs": [],
   "source": [
    "import torch "
   ]
  },
  {
   "cell_type": "code",
   "execution_count": null,
   "metadata": {},
   "outputs": [],
   "source": [
    "a = torch.rand((1,2,3))\n",
    "b = torch.rand((1,3,3))\n",
    "a,b"
   ]
  },
  {
   "cell_type": "code",
   "execution_count": null,
   "metadata": {},
   "outputs": [],
   "source": [
    "torch.cat((a, b), dim=1)"
   ]
  },
  {
   "cell_type": "code",
   "execution_count": null,
   "metadata": {},
   "outputs": [],
   "source": [
    "with open('./data/stop_word.txt') as f:\n",
    "    text = f.read()\n",
    "    text = text.split('\\n')"
   ]
  },
  {
   "cell_type": "code",
   "execution_count": null,
   "metadata": {},
   "outputs": [],
   "source": [
    "[1,2] + [2,3]"
   ]
  },
  {
   "cell_type": "code",
   "execution_count": null,
   "metadata": {
    "tags": []
   },
   "outputs": [],
   "source": [
    "tags = jieba.analyse.extract_tags('醫師：我們6月30號抽血，免疫細胞指數還不錯這樣子，然後病毒量也是OK，阿血糖，糖化血色素7.2，還不錯，所以控制的還不錯，所以表示這段時間身體狀況應該還好。民眾：因為我有重訓和訓練……醫師：低密度膽固醇101是正常，是可以的，然後因為有一點點尿酸稍微高一點點，但是還不需要吃藥，就是飲食稍微注意一下就好，會造成尿酸高一點的食物稍微控制一下就好。民眾：我不知道哪些。醫師：不')\n",
    "tags"
   ]
  },
  {
   "cell_type": "code",
   "execution_count": 1,
   "metadata": {},
   "outputs": [],
   "source": [
    "import spacy\n",
    "from spacy.lang.zh import Chinese\n",
    "from spacy.language import Language\n",
    "\n",
    "text = \"民眾：沒關係啦，看你怎麼看都可以。醫師：沒有啦要先經過你同意啦。民眾：啊抽血結果怎麼樣？醫師：嗯9月2號抽血，糖化血色素9．7。民眾：可是我比較重了欸。醫師：比較重了。民眾：56了欸。醫師：假如血糖高會應該會越來越輕嘛，對嗎？民眾：嘿啊，其實我現在已經56了欸。醫師：啊其他膽固醇這些都正常，肝功能、腎功能。民眾：啊9．6喔？醫師：9．8嗯。民眾：比上次還要高還是？醫師：上次9．6，也是跟上次差不多。民眾：差不多啦。醫師：啊酒沒有喝少一點？民眾：一樣。醫師：一樣喔？你知道喝酒也會血也是有熱量的欸。民眾：我知道啊。醫師：你知道齁。民眾：喝酒也是有糖分啊。醫師：對啊，啊你尿尿沒有問題吧？尿尿沒有蛋白尿？民眾：沒有。醫師：好齁。民眾：那就先這樣就好了。醫師：這樣就好了。民眾：啊眼睛甚麼時候要看？這我是看東西的時候前面會亮亮的嗎？是不是？醫師：會霧霧的嗎？民眾：眼球正中央會發光嘛。醫師：2019我看看，發光你有你會這樣喔？欸年底的時候要追蹤。民眾：好像。醫師：嘿，年底。民眾：沒有常常就好像早上起來之後。醫師：他有上次講、你3月的時候有做嘛。民眾：嗯。醫師：啊7個月的所以是10月，10月底的時候要追蹤，對啊。民眾：嗯啊狀況是怎麼樣。醫師：嗯有輕微的有輕微的一些糖尿病的病變，輕微，嘿，所以要注意啊血糖還有酒要喝少一點喔。民眾：喔。醫師：不然會青光眼。民眾：那個是我的眼球？醫師：就是你的眼底，就是這個這是眼底裡面的血管這樣子。民眾：喔，而且眼睛閉起來的時候眼睛正中央還是發亮的，不是黑黑的欸，他有發亮，可是不，沒有常常。醫師：沒有常常啦，是太亮了，還是你看螢幕？民眾：就⋯⋯醫師：看手機？民眾：類似一點綠色的這樣。醫師：哦～民眾：啊是在眼球正中央，啊是閉上眼睛會這樣。醫師：嗯。民眾：閉上眼睛應該是全黑嘛。醫師：全黑嗯。民眾：啊會覺得這裡怎麼好像。醫師：會有殘影啦齁。民眾：嘿嘿嘿嘿。醫師：不過看起來應該還好。民眾：那沒關係。醫師：沒關係我們快要到，我們下一次可能就要到。民眾：到眼底。醫師：要再做眼底了欸。民眾：沒關係我家查那個電腦。醫師：好好。民眾：看那個狀況是甚麼。醫師：啊血糖跟針就這樣子這樣好不好？民眾：好好好好。醫師：啊，那個。民眾：安眠藥一定要。醫師：安眠藥一定要齁。民眾：習慣了。醫師：習慣了，好，那我下次回診的時候我就會開檢查眼睛的單子。民眾：好。醫師：那假如你那個有惡化你就是先去看眼科。民眾：我是不知道甚麼情況。醫師：模糊的啊，看東西啊。民眾：模糊的是因為我，我有近視嘛。醫師：近視。民眾：我帶隱形眼鏡我字就看不到了，拿下就看的到了。醫師：嘿，好喔。民眾：我也不知道是甚麼情況。醫師：好喔。民眾：要是我戴眼鏡就一直都很正常。醫師：很正常。民眾：戴隱形眼鏡就感覺不太正常。醫師：不太正常。民眾：沒關係我參考醫生的指示。醫師：試試看。民眾：好。\""
   ]
  },
  {
   "cell_type": "code",
   "execution_count": 2,
   "metadata": {},
   "outputs": [
    {
     "output_type": "stream",
     "name": "stderr",
     "text": [
      "WARNING: features.msgpack does not exist, try loading features.pkl\n"
     ]
    }
   ],
   "source": [
    "@Language.component(\"set_custom_boundaries\")\n",
    "def set_custom_boundaries(doc, on_special_token=True):\n",
    "    \n",
    "    position = ['民眾', '個管師', '醫師', '女醫師', '護理師', '家屬', '藥師', ]\n",
    "    position = [ role + ele + '：' for role in position for ele in ['', 'A', 'B', '1', '2']]\n",
    "\n",
    "    for token in doc[:-1]:\n",
    "        if token.text in position:\n",
    "            doc[token.i].is_sent_start = True\n",
    "        elif on_special_token and token.i>0 and doc[token.i-1].text in ['，', '？', '。', ]:\n",
    "            doc[token.i].is_sent_start = True\n",
    "        else:\n",
    "            doc[token.i].is_sent_start = False\n",
    "    return doc\n",
    "\n",
    "\n",
    "nlp = spacy.load(\"zh_core_web_sm\")\n",
    "nlp = Chinese()\n",
    "nlp = Chinese.from_config({\"nlp\": {\"tokenizer\":{\"segmenter\": \"pkuseg\"}}})\n",
    "nlp.tokenizer.initialize(pkuseg_model=\"mixed\", pkuseg_user_dict='./data/pkuseg_user_dict.txt')\n",
    "nlp.add_pipe(\"sentencizer\")\n",
    "nlp.add_pipe(\"set_custom_boundaries\")\n",
    "doc = nlp(text)\n"
   ]
  },
  {
   "cell_type": "code",
   "execution_count": 11,
   "metadata": {},
   "outputs": [],
   "source": [
    "role = [\n",
    "    ['民眾'],\n",
    "    ['醫師'],\n",
    "    ['家屬'],\n",
    "    ['個管師'],\n",
    "    ['護理師', '女醫師', '藥師']\n",
    "]\n",
    "role_map = {\n",
    "    k:i for i, sublist in enumerate(role)  for k in sublist\n",
    "}\n",
    "role_map = {k+postfix:v for k,v in role_map.items() for postfix in ['', 'A', 'B', '1', '2' ] }\n",
    "sentences = [e.text for e in doc.sents  ]"
   ]
  },
  {
   "cell_type": "code",
   "execution_count": 12,
   "metadata": {},
   "outputs": [],
   "source": [
    "role_id = []\n",
    "roid = 0\n",
    "for si, s in enumerate(sentences):\n",
    "    pos = s.find('：')\n",
    "    role = s[:pos]\n",
    "\n",
    "    if role in role_map.keys():\n",
    "        roid = role_map[role]\n",
    "        sentences[si] = f'<{roid}>'+ s[pos+1:]\n",
    "    else:\n",
    "        sentences[si] = f'<{roid}>'+ s"
   ]
  },
  {
   "cell_type": "code",
   "execution_count": 13,
   "metadata": {},
   "outputs": [
    {
     "output_type": "execute_result",
     "data": {
      "text/plain": [
       "['<0>沒關係啦，',\n",
       " '<0>看你怎麼看都可以。',\n",
       " '<1>沒有啦要先經過你同意啦。',\n",
       " '<0>啊抽血結果怎麼樣？',\n",
       " '<1>嗯9月2號抽血，',\n",
       " '<1>糖化血色素9．7。',\n",
       " '<0>可是我比較重了欸。',\n",
       " '<1>比較重了。',\n",
       " '<0>56了欸。',\n",
       " '<1>假如血糖高會應該會越來越輕嘛，',\n",
       " '<1>對嗎？',\n",
       " '<0>嘿啊，',\n",
       " '<0>其實我現在已經56了欸。',\n",
       " '<1>啊其他膽固醇這些都正常，',\n",
       " '<1>肝功能、腎功能。',\n",
       " '<0>啊9．6喔？',\n",
       " '<1>9．8嗯。',\n",
       " '<0>比上次還要高還是？',\n",
       " '<1>上次9．6，',\n",
       " '<1>也是跟上次差不多。',\n",
       " '<0>差不多啦。',\n",
       " '<1>啊酒沒有喝少一點？',\n",
       " '<0>一樣。',\n",
       " '<1>一樣喔？',\n",
       " '<1>你知道喝酒也會血也是有熱量的欸。',\n",
       " '<0>我知道啊。',\n",
       " '<1>你知道齁。',\n",
       " '<0>喝酒也是有糖分啊。',\n",
       " '<1>對啊，',\n",
       " '<1>啊你尿尿沒有問題吧？',\n",
       " '<1>尿尿沒有蛋白尿？',\n",
       " '<0>沒有。',\n",
       " '<1>好齁。',\n",
       " '<0>那就先這樣就好了。',\n",
       " '<1>這樣就好了。',\n",
       " '<0>啊眼睛甚麼時候要看？',\n",
       " '<0>這我是看東西的時候前面會亮亮的嗎？',\n",
       " '<0>是不是？',\n",
       " '<1>會霧霧的嗎？',\n",
       " '<0>眼球正中央會發光嘛。',\n",
       " '<1>2019我看看，',\n",
       " '<1>發光你有你會這樣喔？',\n",
       " '<1>欸年底的時候要追蹤。',\n",
       " '<0>好像。',\n",
       " '<1>嘿，',\n",
       " '<1>年底。',\n",
       " '<0>沒有常常就好像早上起來之後。',\n",
       " '<1>他有上次講、你3月的時候有做嘛。',\n",
       " '<0>嗯。',\n",
       " '<1>啊7個月的所以是10月，',\n",
       " '<1>10月底的時候要追蹤，',\n",
       " '<1>對啊。',\n",
       " '<0>嗯啊狀況是怎麼樣。',\n",
       " '<1>嗯有輕微的有輕微的一些糖尿病的病變，',\n",
       " '<1>輕微，',\n",
       " '<1>嘿，',\n",
       " '<1>所以要注意啊血糖還有酒要喝少一點喔。',\n",
       " '<0>喔。',\n",
       " '<1>不然會青光眼。',\n",
       " '<0>那個是我的眼球？',\n",
       " '<1>就是你的眼底，',\n",
       " '<1>就是這個這是眼底裡面的血管這樣子。',\n",
       " '<0>喔，',\n",
       " '<0>而且眼睛閉起來的時候眼睛正中央還是發亮的，',\n",
       " '<0>不是黑黑的欸，',\n",
       " '<0>他有發亮，',\n",
       " '<0>可是不，',\n",
       " '<0>沒有常常。',\n",
       " '<1>沒有常常啦，',\n",
       " '<1>是太亮了，',\n",
       " '<1>還是你看螢幕？',\n",
       " '<0>就⋯⋯',\n",
       " '<1>看手機？',\n",
       " '<0>類似一點綠色的這樣。',\n",
       " '<1>哦～',\n",
       " '<0>啊是在眼球正中央，',\n",
       " '<0>啊是閉上眼睛會這樣。',\n",
       " '<1>嗯。',\n",
       " '<0>閉上眼睛應該是全黑嘛。',\n",
       " '<1>全黑嗯。',\n",
       " '<0>啊會覺得這裡怎麼好像。',\n",
       " '<1>會有殘影啦齁。',\n",
       " '<0>嘿嘿嘿嘿。',\n",
       " '<1>不過看起來應該還好。',\n",
       " '<0>那沒關係。',\n",
       " '<1>沒關係我們快要到，',\n",
       " '<1>我們下一次可能就要到。',\n",
       " '<0>到眼底。',\n",
       " '<1>要再做眼底了欸。',\n",
       " '<0>沒關係我家查那個電腦。',\n",
       " '<1>好好。',\n",
       " '<0>看那個狀況是甚麼。',\n",
       " '<1>啊血糖跟針就這樣子這樣好不好？',\n",
       " '<0>好好好好。',\n",
       " '<1>啊，',\n",
       " '<1>那個。',\n",
       " '<0>安眠藥一定要。',\n",
       " '<1>安眠藥一定要齁。',\n",
       " '<0>習慣了。',\n",
       " '<1>習慣了，',\n",
       " '<1>好，',\n",
       " '<1>那我下次回診的時候我就會開檢查眼睛的單子。',\n",
       " '<0>好。',\n",
       " '<1>那假如你那個有惡化你就是先去看眼科。',\n",
       " '<0>我是不知道甚麼情況。',\n",
       " '<1>模糊的啊，',\n",
       " '<1>看東西啊。',\n",
       " '<0>模糊的是因為我，',\n",
       " '<0>我有近視嘛。',\n",
       " '<1>近視。',\n",
       " '<0>我帶隱形眼鏡我字就看不到了，',\n",
       " '<0>拿下就看的到了。',\n",
       " '<1>嘿，',\n",
       " '<1>好喔。',\n",
       " '<0>我也不知道是甚麼情況。',\n",
       " '<1>好喔。',\n",
       " '<0>要是我戴眼鏡就一直都很正常。',\n",
       " '<1>很正常。',\n",
       " '<0>戴隱形眼鏡就感覺不太正常。',\n",
       " '<1>不太正常。',\n",
       " '<0>沒關係我參考醫生的指示。',\n",
       " '<1>試試看。',\n",
       " '<0>好。']"
      ]
     },
     "metadata": {},
     "execution_count": 13
    }
   ],
   "source": [
    "sentences"
   ]
  },
  {
   "cell_type": "code",
   "execution_count": 6,
   "metadata": {},
   "outputs": [
    {
     "output_type": "execute_result",
     "data": {
      "text/plain": [
       "2"
      ]
     },
     "metadata": {},
     "execution_count": 6
    }
   ],
   "source": [
    "next(doc.sents).text.find('：')"
   ]
  },
  {
   "cell_type": "code",
   "execution_count": 20,
   "metadata": {},
   "outputs": [],
   "source": [
    "role = [\n",
    "    ['民眾',],\n",
    "    ['家屬',],\n",
    "    ['個管師',],\n",
    "    ['醫師', '女醫師'],\n",
    "    ['護理師', '藥師', ],\n",
    "]\n",
    "all_role = [\n",
    "    [r+postfix for r in sublist for postfix in ['' ,'A', 'B', '1', '2']] \n",
    "    for sublist in role \n",
    "]\n",
    "role_map = {\n",
    "    k:i for i, sublist in enumerate(all_role) for k in  sublist\n",
    "}"
   ]
  },
  {
   "cell_type": "code",
   "execution_count": 21,
   "metadata": {},
   "outputs": [
    {
     "output_type": "execute_result",
     "data": {
      "text/plain": [
       "{'民眾': 0,\n",
       " '民眾A': 0,\n",
       " '民眾B': 0,\n",
       " '民眾1': 0,\n",
       " '民眾2': 0,\n",
       " '家屬': 1,\n",
       " '家屬A': 1,\n",
       " '家屬B': 1,\n",
       " '家屬1': 1,\n",
       " '家屬2': 1,\n",
       " '個管師': 2,\n",
       " '個管師A': 2,\n",
       " '個管師B': 2,\n",
       " '個管師1': 2,\n",
       " '個管師2': 2,\n",
       " '醫師': 3,\n",
       " '醫師A': 3,\n",
       " '醫師B': 3,\n",
       " '醫師1': 3,\n",
       " '醫師2': 3,\n",
       " '女醫師': 4,\n",
       " '女醫師A': 4,\n",
       " '女醫師B': 4,\n",
       " '女醫師1': 4,\n",
       " '女醫師2': 4,\n",
       " '護理師': 4,\n",
       " '護理師A': 4,\n",
       " '護理師B': 4,\n",
       " '護理師1': 4,\n",
       " '護理師2': 4,\n",
       " '藥師': 4,\n",
       " '藥師A': 4,\n",
       " '藥師B': 4,\n",
       " '藥師1': 4,\n",
       " '藥師2': 4}"
      ]
     },
     "metadata": {},
     "execution_count": 21
    }
   ],
   "source": [
    "role_map"
   ]
  },
  {
   "cell_type": "code",
   "execution_count": 11,
   "metadata": {},
   "outputs": [
    {
     "output_type": "execute_result",
     "data": {
      "text/plain": [
       "['民眾：沒關係啦，',\n",
       " '看你怎麼看都可以。',\n",
       " '醫師：沒有啦要先經過你同意啦。',\n",
       " '民眾：啊抽血結果怎麼樣？',\n",
       " '醫師：嗯9月2號抽血，',\n",
       " '糖化血色素9．7。',\n",
       " '民眾：可是我比較重了欸。',\n",
       " '醫師：比較重了。',\n",
       " '民眾：56了欸。',\n",
       " '醫師：假如血糖高會應該會越來越輕嘛，',\n",
       " '對嗎？',\n",
       " '民眾：嘿啊，',\n",
       " '其實我現在已經56了欸。',\n",
       " '醫師：啊其他膽固醇這些都正常，',\n",
       " '肝功能、腎功能。',\n",
       " '民眾：啊9．6喔？',\n",
       " '醫師：9．8嗯。',\n",
       " '民眾：比上次還要高還是？',\n",
       " '醫師：上次9．6，',\n",
       " '也是跟上次差不多。',\n",
       " '民眾：差不多啦。',\n",
       " '醫師：啊酒沒有喝少一點？',\n",
       " '民眾：一樣。',\n",
       " '醫師：一樣喔？',\n",
       " '你知道喝酒也會血也是有熱量的欸。',\n",
       " '民眾：我知道啊。',\n",
       " '醫師：你知道齁。',\n",
       " '民眾：喝酒也是有糖分啊。',\n",
       " '醫師：對啊，',\n",
       " '啊你尿尿沒有問題吧？',\n",
       " '尿尿沒有蛋白尿？',\n",
       " '民眾：沒有。',\n",
       " '醫師：好齁。',\n",
       " '民眾：那就先這樣就好了。',\n",
       " '醫師：這樣就好了。',\n",
       " '民眾：啊眼睛甚麼時候要看？',\n",
       " '這我是看東西的時候前面會亮亮的嗎？',\n",
       " '是不是？',\n",
       " '醫師：會霧霧的嗎？',\n",
       " '民眾：眼球正中央會發光嘛。',\n",
       " '醫師：2019我看看，',\n",
       " '發光你有你會這樣喔？',\n",
       " '欸年底的時候要追蹤。',\n",
       " '民眾：好像。',\n",
       " '醫師：嘿，',\n",
       " '年底。',\n",
       " '民眾：沒有常常就好像早上起來之後。',\n",
       " '醫師：他有上次講、你3月的時候有做嘛。',\n",
       " '民眾：嗯。',\n",
       " '醫師：啊7個月的所以是10月，',\n",
       " '10月底的時候要追蹤，',\n",
       " '對啊。',\n",
       " '民眾：嗯啊狀況是怎麼樣。',\n",
       " '醫師：嗯有輕微的有輕微的一些糖尿病的病變，',\n",
       " '輕微，',\n",
       " '嘿，',\n",
       " '所以要注意啊血糖還有酒要喝少一點喔。',\n",
       " '民眾：喔。',\n",
       " '醫師：不然會青光眼。',\n",
       " '民眾：那個是我的眼球？',\n",
       " '醫師：就是你的眼底，',\n",
       " '就是這個這是眼底裡面的血管這樣子。',\n",
       " '民眾：喔，',\n",
       " '而且眼睛閉起來的時候眼睛正中央還是發亮的，',\n",
       " '不是黑黑的欸，',\n",
       " '他有發亮，',\n",
       " '可是不，',\n",
       " '沒有常常。',\n",
       " '醫師：沒有常常啦，',\n",
       " '是太亮了，',\n",
       " '還是你看螢幕？',\n",
       " '民眾：就⋯⋯',\n",
       " '醫師：看手機？',\n",
       " '民眾：類似一點綠色的這樣。',\n",
       " '醫師：哦～',\n",
       " '民眾：啊是在眼球正中央，',\n",
       " '啊是閉上眼睛會這樣。',\n",
       " '醫師：嗯。',\n",
       " '民眾：閉上眼睛應該是全黑嘛。',\n",
       " '醫師：全黑嗯。',\n",
       " '民眾：啊會覺得這裡怎麼好像。',\n",
       " '醫師：會有殘影啦齁。',\n",
       " '民眾：嘿嘿嘿嘿。',\n",
       " '醫師：不過看起來應該還好。',\n",
       " '民眾：那沒關係。',\n",
       " '醫師：沒關係我們快要到，',\n",
       " '我們下一次可能就要到。',\n",
       " '民眾：到眼底。',\n",
       " '醫師：要再做眼底了欸。',\n",
       " '民眾：沒關係我家查那個電腦。',\n",
       " '醫師：好好。',\n",
       " '民眾：看那個狀況是甚麼。',\n",
       " '醫師：啊血糖跟針就這樣子這樣好不好？',\n",
       " '民眾：好好好好。',\n",
       " '醫師：啊，',\n",
       " '那個。',\n",
       " '民眾：安眠藥一定要。',\n",
       " '醫師：安眠藥一定要齁。',\n",
       " '民眾：習慣了。',\n",
       " '醫師：習慣了，',\n",
       " '好，',\n",
       " '那我下次回診的時候我就會開檢查眼睛的單子。',\n",
       " '民眾：好。',\n",
       " '醫師：那假如你那個有惡化你就是先去看眼科。',\n",
       " '民眾：我是不知道甚麼情況。',\n",
       " '醫師：模糊的啊，',\n",
       " '看東西啊。',\n",
       " '民眾：模糊的是因為我，',\n",
       " '我有近視嘛。',\n",
       " '醫師：近視。',\n",
       " '民眾：我帶隱形眼鏡我字就看不到了，',\n",
       " '拿下就看的到了。',\n",
       " '醫師：嘿，',\n",
       " '好喔。',\n",
       " '民眾：我也不知道是甚麼情況。',\n",
       " '醫師：好喔。',\n",
       " '民眾：要是我戴眼鏡就一直都很正常。',\n",
       " '醫師：很正常。',\n",
       " '民眾：戴隱形眼鏡就感覺不太正常。',\n",
       " '醫師：不太正常。',\n",
       " '民眾：沒關係我參考醫生的指示。',\n",
       " '醫師：試試看。',\n",
       " '民眾：好。']"
      ]
     },
     "metadata": {},
     "execution_count": 11
    }
   ],
   "source": [
    "[sen.text for sen in doc.sents]"
   ]
  },
  {
   "cell_type": "code",
   "execution_count": null,
   "metadata": {},
   "outputs": [],
   "source": [
    "a = torch.tensor([\n",
    "    [\n",
    "        [1,2,3],\n",
    "        [0,0,0],\n",
    "        [3,4,3]\n",
    "    ],\n",
    "    [\n",
    "        [1,2,3],\n",
    "        [1,2,3],\n",
    "        [3,4,3]\n",
    "    ],\n",
    "], dtype=torch.float)\n",
    "b = torch.tensor([\n",
    "    [\n",
    "        [1,2,3],\n",
    "        [3,4,3]\n",
    "    ],\n",
    "    [\n",
    "        [1,2,3],\n",
    "        [3,4,3]\n",
    "    ],\n",
    "], dtype=torch.float)\n",
    "cosine_sim()(a, b)"
   ]
  },
  {
   "cell_type": "code",
   "execution_count": null,
   "metadata": {},
   "outputs": [],
   "source": [
    "cosine_sim()(a, b)"
   ]
  },
  {
   "cell_type": "code",
   "execution_count": null,
   "metadata": {},
   "outputs": [],
   "source": [
    "torch.max(cosine_sim()(a, b), 1)"
   ]
  },
  {
   "cell_type": "code",
   "execution_count": null,
   "metadata": {
    "tags": []
   },
   "outputs": [],
   "source": [
    "# output = torch.randn(2, 4, 768)\n",
    "# choi_output = torch.randn(2, 3, 768)\n",
    "cosine_sim(None)(a, b)"
   ]
  },
  {
   "cell_type": "code",
   "execution_count": null,
   "metadata": {},
   "outputs": [],
   "source": [
    "vec1=a\n",
    "vec2=b\n",
    "\n",
    "vec2 = torch.transpose(vec2, 1, 2)\n",
    "norm1 = torch.linalg.norm(vec1, dim=2)\n",
    "norm2 = torch.linalg.norm(vec2, dim=1)   \n",
    "norm1 = norm1.unsqueeze(-1).expand(2, vec1.size(1), vec1.size(2))\n",
    "norm2 = norm2.unsqueeze(2).expand(2, vec2.size(2), vec2.size(1))\n",
    "norm2 = torch.transpose(norm2, 1, 2)\n",
    "eledot = torch.matmul(torch.div(vec1, norm1), torch.div(vec2, norm2))\n",
    "\n",
    "# print(torch.mul(norm1.transpose(0, 1), norm2))\n",
    "# cos_sim = torch.div(eledot ,torch.matmul(norm1.transpose(0, 1), norm2))\n",
    "eledot"
   ]
  },
  {
   "cell_type": "code",
   "execution_count": null,
   "metadata": {},
   "outputs": [],
   "source": [
    "norm2 = norm2.unsqueeze(2).expand(2, vec2.size(2), vec2.size(1))\n",
    "norm2 = torch.transpose(norm2, 1, 2)"
   ]
  },
  {
   "cell_type": "code",
   "execution_count": null,
   "metadata": {},
   "outputs": [],
   "source": [
    "' rock '"
   ]
  },
  {
   "cell_type": "code",
   "execution_count": 1,
   "metadata": {},
   "outputs": [],
   "source": [
    "from loader import QA_Dataset\n",
    "from transformers import AutoTokenizer\n",
    "config = 'hfl/chinese-xlnet-base'\n",
    "tokenizer = AutoTokenizer.from_pretrained(config)\n"
   ]
  },
  {
   "cell_type": "code",
   "execution_count": 4,
   "metadata": {
    "tags": [
     "outputPrepend"
    ]
   },
   "outputs": [
    {
     "output_type": "stream",
     "name": "stdout",
     "text": [
      "民眾：對。<sep>但是基本上假如說從來跟那個人沒有任何性行為過的話，這部份就會選擇戴。個管師：選擇戴。OKOK。所以你基本上對於不信任的還是會戴，但是你覺得信任的你就不會戴？民眾：對。個管師：嗯好。可是這相對來說對你來說也是有風險的誒。<sep>他有在吃PrEP。民眾：對。個管師：然後現在因為你也沒有固炮，所以約的話就是你覺得看起來信不信任，如果比較信任的話你就會不戴。民眾：呃……不戴反而比較少，基本上，反正就是那些，', '民眾的腳下列何種不是目前的狀況?看到下面都透明，就是都可以看到比較深，就是皮膚變得很薄'), ('民眾：偶爾。個管師：偶爾內射？民眾：對。個管師：好喔那會不會因為你吃PrEP會比較不用，不會擔心？民眾：會，對啊我就比較不擔心。個管師：真的喔。民眾：我每日吃的。個管師：啊你知道怎麼吃嗎？你是吃任務型對不對。民眾：沒有我吃每日型。個管師：你現在吃每日……民眾：我一樣吃是吃每日型。個管師：那你這樣藥怎麼會夠？民眾：就沒有給哥哥啊。<sep>目前啦，目前還沒有說幾個名額民眾：嗯。個管師：但是目前我們今年有在排候補了，如果他要的話就幫你排候補。民眾：好。個管師：對，然後這樣子其實兩個都有吃，因為你們兩個幾乎都是無套嘛。民眾，嗯。個管師：所以雖然……雖然彼此相信就是不會各自約，可是有時候還是要相信自己，要保護自己一下。民眾：嗯好。個管師：對啊，所以因為在之前階段的狀況就是很多時候大家會知道吃PrEP可以預防ＨＩＶ，然後就會開始無套，', '民眾的腳下列何種不是目前的狀況?好像有點疹子')]\n",
      "[('個管師：那有固定伴侶嗎？民眾：沒有。個管師：你一直以來都沒有固定伴侶欸？民眾：蛤？什麼？個管師：你從一開始就沒有固定伴侶。民眾：你說來這裡之後？個管師：對。民眾：你說有固定伴侶是指固炮類的還是？個管師：固炮是固炮，固伴是固伴。民眾：沒有。個管師：固炮、固伴跟約炮是不一樣的。民眾：OK。個管師：對，就是固伴就是一般問你有沒有男朋友。民眾：沒有。<sep>他在紐約醫院吃PrEP？民眾：他在紐約醫院，他是去紐約醫院看的。個管師：吃PrEP？民眾：對。個管師：OKOK，好，所以你會之前的一個固炮，所以你現在都不會跟他了？民眾：對不會，他也有固定的伴侶了。個管師：所以他還沒有固定伴侶之前，你們是維持固炮關係？民眾：對。個管師：然後他現在有伴侶了，所以就沒有固炮了？民眾：對。個管師：好，所以那時候跟他的時候會無套，因為你很相信他，', '醫師對民眾的建議下列何者不包含?掛皮膚科'), ('個管師：但你，在你沒有疾病之前，然後是不是都會有無套？或者還是你其實都是有戴套？民眾：還是會有戴套的時候，只是次數還是比較少一點。個管師：就是偶爾戴套的意思嗎？民眾：是。<sep>就是變成是約的那種狀況。個管師：就是你對對象比較不放心的時候？不信任的時候你就會帶套。民眾：對。不信任的時候就會戴。個管師：但是你覺得這個人看起來還OK，你就會不戴套？民眾：對。<sep>但是基本上假如說從來跟那個人沒有任何性行為過的話，這部份就會選擇戴。個管師：選擇戴。OKOK。所以你基本上對於不信任的還是會戴，但是你覺得信任的你就不會戴？民眾：對。個管師：嗯好。可是這相對來說對你來說也是有風險的誒。<sep>他有在吃PrEP。民眾：對。個管師：然後現在因為你也沒有固炮，所以約的話就是你覺得看起來信不信任，如果比較信任的話你就會不戴。民眾：呃……不戴反而比較少，基本上，反正就是那些，', '醫師對民眾的建議下列何者不包含?補充一點鋅離子'), ('民眾：偶爾。個管師：偶爾內射？民眾：對。個管師：好喔那會不會因為你吃PrEP會比較不用，不會擔心？民眾：會，對啊我就比較不擔心。個管師：真的喔。民眾：我每日吃的。個管師：啊你知道怎麼吃嗎？你是吃任務型對不對。民眾：沒有我吃每日型。個管師：你現在吃每日……民眾：我一樣吃是吃每日型。個管師：那你這樣藥怎麼會夠？民眾：就沒有給哥哥啊。<sep>目前啦，目前還沒有說幾個名額民眾：嗯。個管師：但是目前我們今年有在排候補了，如果他要的話就幫你排候補。民眾：好。個管師：對，然後這樣子其實兩個都有吃，因為你們兩個幾乎都是無套嘛。民眾，嗯。個管師：所以雖然……雖然彼此相信就是不會各自約，可是有時候還是要相信自己，要保護自己一下。民眾：嗯好。個管師：對啊，所以因為在之前階段的狀況就是很多時候大家會知道吃PrEP可以預防ＨＩＶ，然後就會開始無套，', '醫師對民眾的建議下列何者不包含?用類固醇')]\n",
      "[('個管師：那有固定伴侶嗎？民眾：沒有。個管師：你一直以來都沒有固定伴侶欸？民眾：蛤？什麼？個管師：你從一開始就沒有固定伴侶。民眾：你說來這裡之後？個管師：對。民眾：你說有固定伴侶是指固炮類的還是？個管師：固炮是固炮，固伴是固伴。民眾：沒有。個管師：固炮、固伴跟約炮是不一樣的。民眾：OK。個管師：對，就是固伴就是一般問你有沒有男朋友。民眾：沒有。<sep>他在紐約醫院吃PrEP？民眾：他在紐約醫院，他是去紐約醫院看的。個管師：吃PrEP？民眾：對。個管師：OKOK，好，所以你會之前的一個固炮，所以你現在都不會跟他了？民眾：對不會，他也有固定的伴侶了。個管師：所以他還沒有固定伴侶之前，你們是維持固炮關係？民眾：對。個管師：然後他現在有伴侶了，所以就沒有固炮了？民眾：對。個管師：好，所以那時候跟他的時候會無套，因為你很相信他，', '請問民眾因為何種狀況來看診？綠膿菌'), ('個管師：但你，在你沒有疾病之前，然後是不是都會有無套？或者還是你其實都是有戴套？民眾：還是會有戴套的時候，只是次數還是比較少一點。個管師：就是偶爾戴套的意思嗎？民眾：是。<sep>就是變成是約的那種狀況。個管師：就是你對對象比較不放心的時候？不信任的時候你就會帶套。民眾：對。不信任的時候就會戴。個管師：但是你覺得這個人看起來還OK，你就會不戴套？民眾：對。<sep>但是基本上假如說從來跟那個人沒有任何性行為過的話，這部份就會選擇戴。個管師：選擇戴。OKOK。所以你基本上對於不信任的還是會戴，但是你覺得信任的你就不會戴？民眾：對。個管師：嗯好。可是這相對來說對你來說也是有風險的誒。<sep>他有在吃PrEP。民眾：對。個管師：然後現在因為你也沒有固炮，所以約的話就是你覺得看起來信不信任，如果比較信任的話你就會不戴。民眾：呃……不戴反而比較少，基本上，反正就是那些，', '請問民眾因為何種狀況來看診？發燒'), ('民眾：偶爾。個管師：偶爾內射？民眾：對。個管師：好喔那會不會因為你吃PrEP會比較不用，不會擔心？民眾：會，對啊我就比較不擔心。個管師：真的喔。民眾：我每日吃的。個管師：啊你知道怎麼吃嗎？你是吃任務型對不對。民眾：沒有我吃每日型。個管師：你現在吃每日……民眾：我一樣吃是吃每日型。個管師：那你這樣藥怎麼會夠？民眾：就沒有給哥哥啊。<sep>目前啦，目前還沒有說幾個名額民眾：嗯。個管師：但是目前我們今年有在排候補了，如果他要的話就幫你排候補。民眾：好。個管師：對，然後這樣子其實兩個都有吃，因為你們兩個幾乎都是無套嘛。民眾，嗯。個管師：所以雖然……雖然彼此相信就是不會各自約，可是有時候還是要相信自己，要保護自己一下。民眾：嗯好。個管師：對啊，所以因為在之前階段的狀況就是很多時候大家會知道吃PrEP可以預防ＨＩＶ，然後就會開始無套，', '請問民眾因為何種狀況來看診？畏寒')]\n",
      "[('個管師：那有固定伴侶嗎？民眾：沒有。個管師：你一直以來都沒有固定伴侶欸？民眾：蛤？什麼？個管師：你從一開始就沒有固定伴侶。民眾：你說來這裡之後？個管師：對。民眾：你說有固定伴侶是指固炮類的還是？個管師：固炮是固炮，固伴是固伴。民眾：沒有。個管師：固炮、固伴跟約炮是不一樣的。民眾：OK。個管師：對，就是固伴就是一般問你有沒有男朋友。民眾：沒有。<sep>他在紐約醫院吃PrEP？民眾：他在紐約醫院，他是去紐約醫院看的。個管師：吃PrEP？民眾：對。個管師：OKOK，好，所以你會之前的一個固炮，所以你現在都不會跟他了？民眾：對不會，他也有固定的伴侶了。個管師：所以他還沒有固定伴侶之前，你們是維持固炮關係？民眾：對。個管師：然後他現在有伴侶了，所以就沒有固炮了？民眾：對。個管師：好，所以那時候跟他的時候會無套，因為你很相信他，', '請問民眾下次回診是何時？上上個禮拜'), ('個管師：但你，在你沒有疾病之前，然後是不是都會有無套？或者還是你其實都是有戴套？民眾：還是會有戴套的時候，只是次數還是比較少一點。個管師：就是偶爾戴套的意思嗎？民眾：是。<sep>就是變成是約的那種狀況。個管師：就是你對對象比較不放心的時候？不信任的時候你就會帶套。民眾：對。不信任的時候就會戴。個管師：但是你覺得這個人看起來還OK，你就會不戴套？民眾：對。<sep>但是基本上假如說從來跟那個人沒有任何性行為過的話，這部份就會選擇戴。個管師：選擇戴。OKOK。所以你基本上對於不信任的還是會戴，但是你覺得信任的你就不會戴？民眾：對。個管師：嗯好。可是這相對來說對你來說也是有風險的誒。<sep>他有在吃PrEP。民眾：對。個管師：然後現在因為你也沒有固炮，所以約的話就是你覺得看起來信不信任，如果比較信任的話你就會不戴。民眾：呃……不戴反而比較少，基本上，反正就是那些，', '請問民眾下次回診是何時？下個禮拜'), ('民眾：偶爾。個管師：偶爾內射？民眾：對。個管師：好喔那會不會因為你吃PrEP會比較不用，不會擔心？民眾：會，對啊我就比較不擔心。個管師：真的喔。民眾：我每日吃的。個管師：啊你知道怎麼吃嗎？你是吃任務型對不對。民眾：沒有我吃每日型。個管師：你現在吃每日……民眾：我一樣吃是吃每日型。個管師：那你這樣藥怎麼會夠？民眾：就沒有給哥哥啊。<sep>目前啦，目前還沒有說幾個名額民眾：嗯。個管師：但是目前我們今年有在排候補了，如果他要的話就幫你排候補。民眾：好。個管師：對，然後這樣子其實兩個都有吃，因為你們兩個幾乎都是無套嘛。民眾，嗯。個管師：所以雖然……雖然彼此相信就是不會各自約，可是有時候還是要相信自己，要保護自己一下。民眾：嗯好。個管師：對啊，所以因為在之前階段的狀況就是很多時候大家會知道吃PrEP可以預防ＨＩＶ，然後就會開始無套，', '請問民眾下次回診是何時？11點半')]\n",
      "[('個管師：那有固定伴侶嗎？民眾：沒有。個管師：你一直以來都沒有固定伴侶欸？民眾：蛤？什麼？個管師：你從一開始就沒有固定伴侶。民眾：你說來這裡之後？個管師：對。民眾：你說有固定伴侶是指固炮類的還是？個管師：固炮是固炮，固伴是固伴。民眾：沒有。個管師：固炮、固伴跟約炮是不一樣的。民眾：OK。個管師：對，就是固伴就是一般問你有沒有男朋友。民眾：沒有。<sep>他在紐約醫院吃PrEP？民眾：他在紐約醫院，他是去紐約醫院看的。個管師：吃PrEP？民眾：對。個管師：OKOK，好，所以你會之前的一個固炮，所以你現在都不會跟他了？民眾：對不會，他也有固定的伴侶了。個管師：所以他還沒有固定伴侶之前，你們是維持固炮關係？民眾：對。個管師：然後他現在有伴侶了，所以就沒有固炮了？民眾：對。個管師：好，所以那時候跟他的時候會無套，因為你很相信他，', '請問關於民眾的身體指數，下列何者錯誤？肝功能是正常'), ('個管師：但你，在你沒有疾病之前，然後是不是都會有無套？或者還是你其實都是有戴套？民眾：還是會有戴套的時候，只是次數還是比較少一點。個管師：就是偶爾戴套的意思嗎？民眾：是。<sep>就是變成是約的那種狀況。個管師：就是你對對象比較不放心的時候？不信任的時候你就會帶套。民眾：對。不信任的時候就會戴。個管師：但是你覺得這個人看起來還OK，你就會不戴套？民眾：對。<sep>但是基本上假如說從來跟那個人沒有任何性行為過的話，這部份就會選擇戴。個管師：選擇戴。OKOK。所以你基本上對於不信任的還是會戴，但是你覺得信任的你就不會戴？民眾：對。個管師：嗯好。可是這相對來說對你來說也是有風險的誒。<sep>他有在吃PrEP。民眾：對。個管師：然後現在因為你也沒有固炮，所以約的話就是你覺得看起來信不信任，如果比較信任的話你就會不戴。民眾：呃……不戴反而比較少，基本上，反正就是那些，', '請問關於民眾的身體指數，下列何者錯誤？白血球高'), ('民眾：偶爾。個管師：偶爾內射？民眾：對。個管師：好喔那會不會因為你吃PrEP會比較不用，不會擔心？民眾：會，對啊我就比較不擔心。個管師：真的喔。民眾：我每日吃的。個管師：啊你知道怎麼吃嗎？你是吃任務型對不對。民眾：沒有我吃每日型。個管師：你現在吃每日……民眾：我一樣吃是吃每日型。個管師：那你這樣藥怎麼會夠？民眾：就沒有給哥哥啊。<sep>目前啦，目前還沒有說幾個名額民眾：嗯。個管師：但是目前我們今年有在排候補了，如果他要的話就幫你排候補。民眾：好。個管師：對，然後這樣子其實兩個都有吃，因為你們兩個幾乎都是無套嘛。民眾，嗯。個管師：所以雖然……雖然彼此相信就是不會各自約，可是有時候還是要相信自己，要保護自己一下。民眾：嗯好。個管師：對啊，所以因為在之前階段的狀況就是很多時候大家會知道吃PrEP可以預防ＨＩＶ，然後就會開始無套，', '請問關於民眾的身體指數，下列何者錯誤？發炎指數可能有點高')]\n",
      "[('個管師：那有固定伴侶嗎？民眾：沒有。個管師：你一直以來都沒有固定伴侶欸？民眾：蛤？什麼？個管師：你從一開始就沒有固定伴侶。民眾：你說來這裡之後？個管師：對。民眾：你說有固定伴侶是指固炮類的還是？個管師：固炮是固炮，固伴是固伴。民眾：沒有。個管師：固炮、固伴跟約炮是不一樣的。民眾：OK。個管師：對，就是固伴就是一般問你有沒有男朋友。民眾：沒有。<sep>他在紐約醫院吃PrEP？民眾：他在紐約醫院，他是去紐約醫院看的。個管師：吃PrEP？民眾：對。個管師：OKOK，好，所以你會之前的一個固炮，所以你現在都不會跟他了？民眾：對不會，他也有固定的伴侶了。個管師：所以他還沒有固定伴侶之前，你們是維持固炮關係？民眾：對。個管師：然後他現在有伴侶了，所以就沒有固炮了？民眾：對。個管師：好，所以那時候跟他的時候會無套，因為你很相信他，', '下列何者是民眾持續做的治療？超音波'), ('個管師：但你，在你沒有疾病之前，然後是不是都會有無套？或者還是你其實都是有戴套？民眾：還是會有戴套的時候，只是次數還是比較少一點。個管師：就是偶爾戴套的意思嗎？民眾：是。<sep>就是變成是約的那種狀況。個管師：就是你對對象比較不放心的時候？不信任的時候你就會帶套。民眾：對。不信任的時候就會戴。個管師：但是你覺得這個人看起來還OK，你就會不戴套？民眾：對。<sep>但是基本上假如說從來跟那個人沒有任何性行為過的話，這部份就會選擇戴。個管師：選擇戴。OKOK。所以你基本上對於不信任的還是會戴，但是你覺得信任的你就不會戴？民眾：對。個管師：嗯好。可是這相對來說對你來說也是有風險的誒。<sep>他有在吃PrEP。民眾：對。個管師：然後現在因為你也沒有固炮，所以約的話就是你覺得看起來信不信任，如果比較信任的話你就會不戴。民眾：呃……不戴反而比較少，基本上，反正就是那些，', '下列何者是民眾持續做的治療？洗腎'), ('民眾：偶爾。個管師：偶爾內射？民眾：對。個管師：好喔那會不會因為你吃PrEP會比較不用，不會擔心？民眾：會，對啊我就比較不擔心。個管師：真的喔。民眾：我每日吃的。個管師：啊你知道怎麼吃嗎？你是吃任務型對不對。民眾：沒有我吃每日型。個管師：你現在吃每日……民眾：我一樣吃是吃每日型。個管師：那你這樣藥怎麼會夠？民眾：就沒有給哥哥啊。<sep>目前啦，目前還沒有說幾個名額民眾：嗯。個管師：但是目前我們今年有在排候補了，如果他要的話就幫你排候補。民眾：好。個管師：對，然後這樣子其實兩個都有吃，因為你們兩個幾乎都是無套嘛。民眾，嗯。個管師：所以雖然……雖然彼此相信就是不會各自約，可是有時候還是要相信自己，要保護自己一下。民眾：嗯好。個管師：對啊，所以因為在之前階段的狀況就是很多時候大家會知道吃PrEP可以預防ＨＩＶ，然後就會開始無套，', '下列何者是民眾持續做的治療？泡普洱茶')]\n",
      "[('個管師：那有固定伴侶嗎？民眾：沒有。個管師：你一直以來都沒有固定伴侶欸？民眾：蛤？什麼？個管師：你從一開始就沒有固定伴侶。民眾：你說來這裡之後？個管師：對。民眾：你說有固定伴侶是指固炮類的還是？個管師：固炮是固炮，固伴是固伴。民眾：沒有。個管師：固炮、固伴跟約炮是不一樣的。民眾：OK。個管師：對，就是固伴就是一般問你有沒有男朋友。民眾：沒有。<sep>他在紐約醫院吃PrEP？民眾：他在紐約醫院，他是去紐約醫院看的。個管師：吃PrEP？民眾：對。個管師：OKOK，好，所以你會之前的一個固炮，所以你現在都不會跟他了？民眾：對不會，他也有固定的伴侶了。個管師：所以他還沒有固定伴侶之前，你們是維持固炮關係？民眾：對。個管師：然後他現在有伴侶了，所以就沒有固炮了？民眾：對。個管師：好，所以那時候跟他的時候會無套，因為你很相信他，', '下列何者是民眾看診的主因？清晨無緣無故就發燒了'), ('個管師：但你，在你沒有疾病之前，然後是不是都會有無套？或者還是你其實都是有戴套？民眾：還是會有戴套的時候，只是次數還是比較少一點。個管師：就是偶爾戴套的意思嗎？民眾：是。<sep>就是變成是約的那種狀況。個管師：就是你對對象比較不放心的時候？不信任的時候你就會帶套。民眾：對。不信任的時候就會戴。個管師：但是你覺得這個人看起來還OK，你就會不戴套？民眾：對。<sep>但是基本上假如說從來跟那個人沒有任何性行為過的話，這部份就會選擇戴。個管師：選擇戴。OKOK。所以你基本上對於不信任的還是會戴，但是你覺得信任的你就不會戴？民眾：對。個管師：嗯好。可是這相對來說對你來說也是有風險的誒。<sep>他有在吃PrEP。民眾：對。個管師：然後現在因為你也沒有固炮，所以約的話就是你覺得看起來信不信任，如果比較信任的話你就會不戴。民眾：呃……不戴反而比較少，基本上，反正就是那些，', '下列何者是民眾看診的主因？喉嚨就有點沙啞'), ('民眾：偶爾。個管師：偶爾內射？民眾：對。個管師：好喔那會不會因為你吃PrEP會比較不用，不會擔心？民眾：會，對啊我就比較不擔心。個管師：真的喔。民眾：我每日吃的。個管師：啊你知道怎麼吃嗎？你是吃任務型對不對。民眾：沒有我吃每日型。個管師：你現在吃每日……民眾：我一樣吃是吃每日型。個管師：那你這樣藥怎麼會夠？民眾：就沒有給哥哥啊。<sep>目前啦，目前還沒有說幾個名額民眾：嗯。個管師：但是目前我們今年有在排候補了，如果他要的話就幫你排候補。民眾：好。個管師：對，然後這樣子其實兩個都有吃，因為你們兩個幾乎都是無套嘛。民眾，嗯。個管師：所以雖然……雖然彼此相信就是不會各自約，可是有時候還是要相信自己，要保護自己一下。民眾：嗯好。個管師：對啊，所以因為在之前階段的狀況就是很多時候大家會知道吃PrEP可以預防ＨＩＶ，然後就會開始無套，', '下列何者是民眾看診的主因？拉肚子')]\n",
      "[('個管師：那有固定伴侶嗎？民眾：沒有。個管師：你一直以來都沒有固定伴侶欸？民眾：蛤？什麼？個管師：你從一開始就沒有固定伴侶。民眾：你說來這裡之後？個管師：對。民眾：你說有固定伴侶是指固炮類的還是？個管師：固炮是固炮，固伴是固伴。民眾：沒有。個管師：固炮、固伴跟約炮是不一樣的。民眾：OK。個管師：對，就是固伴就是一般問你有沒有男朋友。民眾：沒有。<sep>他在紐約醫院吃PrEP？民眾：他在紐約醫院，他是去紐約醫院看的。個管師：吃PrEP？民眾：對。個管師：OKOK，好，所以你會之前的一個固炮，所以你現在都不會跟他了？民眾：對不會，他也有固定的伴侶了。個管師：所以他還沒有固定伴侶之前，你們是維持固炮關係？民眾：對。個管師：然後他現在有伴侶了，所以就沒有固炮了？民眾：對。個管師：好，所以那時候跟他的時候會無套，因為你很相信他，', '請問何者不是醫師建議民眾保養身體的方法？酒類，就先不要'), ('個管師：但你，在你沒有疾病之前，然後是不是都會有無套？或者還是你其實都是有戴套？民眾：還是會有戴套的時候，只是次數還是比較少一點。個管師：就是偶爾戴套的意思嗎？民眾：是。<sep>就是變成是約的那種狀況。個管師：就是你對對象比較不放心的時候？不信任的時候你就會帶套。民眾：對。不信任的時候就會戴。個管師：但是你覺得這個人看起來還OK，你就會不戴套？民眾：對。<sep>但是基本上假如說從來跟那個人沒有任何性行為過的話，這部份就會選擇戴。個管師：選擇戴。OKOK。所以你基本上對於不信任的還是會戴，但是你覺得信任的你就不會戴？民眾：對。個管師：嗯好。可是這相對來說對你來說也是有風險的誒。<sep>他有在吃PrEP。民眾：對。個管師：然後現在因為你也沒有固炮，所以約的話就是你覺得看起來信不信任，如果比較信任的話你就會不戴。民眾：呃……不戴反而比較少，基本上，反正就是那些，', '請問何者不是醫師建議民眾保養身體的方法？吃新鮮的蔬菜'), ('民眾：偶爾。個管師：偶爾內射？民眾：對。個管師：好喔那會不會因為你吃PrEP會比較不用，不會擔心？民眾：會，對啊我就比較不擔心。個管師：真的喔。民眾：我每日吃的。個管師：啊你知道怎麼吃嗎？你是吃任務型對不對。民眾：沒有我吃每日型。個管師：你現在吃每日……民眾：我一樣吃是吃每日型。個管師：那你這樣藥怎麼會夠？民眾：就沒有給哥哥啊。<sep>目前啦，目前還沒有說幾個名額民眾：嗯。個管師：但是目前我們今年有在排候補了，如果他要的話就幫你排候補。民眾：好。個管師：對，然後這樣子其實兩個都有吃，因為你們兩個幾乎都是無套嘛。民眾，嗯。個管師：所以雖然……雖然彼此相信就是不會各自約，可是有時候還是要相信自己，要保護自己一下。民眾：嗯好。個管師：對啊，所以因為在之前階段的狀況就是很多時候大家會知道吃PrEP可以預防ＨＩＶ，然後就會開始無套，', '請問何者不是醫師建議民眾保養身體的方法？吃防腐劑比較多的，加工食品')]\n",
      "[('個管師：那有固定伴侶嗎？民眾：沒有。個管師：你一直以來都沒有固定伴侶欸？民眾：蛤？什麼？個管師：你從一開始就沒有固定伴侶。民眾：你說來這裡之後？個管師：對。民眾：你說有固定伴侶是指固炮類的還是？個管師：固炮是固炮，固伴是固伴。民眾：沒有。個管師：固炮、固伴跟約炮是不一樣的。民眾：OK。個管師：對，就是固伴就是一般問你有沒有男朋友。民眾：沒有。<sep>他在紐約醫院吃PrEP？民眾：他在紐約醫院，他是去紐約醫院看的。個管師：吃PrEP？民眾：對。個管師：OKOK，好，所以你會之前的一個固炮，所以你現在都不會跟他了？民眾：對不會，他也有固定的伴侶了。個管師：所以他還沒有固定伴侶之前，你們是維持固炮關係？民眾：對。個管師：然後他現在有伴侶了，所以就沒有固炮了？民眾：對。個管師：好，所以那時候跟他的時候會無套，因為你很相信他，', '下列何者不是民眾的身體狀況？肝功能正常'), ('個管師：但你，在你沒有疾病之前，然後是不是都會有無套？或者還是你其實都是有戴套？民眾：還是會有戴套的時候，只是次數還是比較少一點。個管師：就是偶爾戴套的意思嗎？民眾：是。<sep>就是變成是約的那種狀況。個管師：就是你對對象比較不放心的時候？不信任的時候你就會帶套。民眾：對。不信任的時候就會戴。個管師：但是你覺得這個人看起來還OK，你就會不戴套？民眾：對。<sep>但是基本上假如說從來跟那個人沒有任何性行為過的話，這部份就會選擇戴。個管師：選擇戴。OKOK。所以你基本上對於不信任的還是會戴，但是你覺得信任的你就不會戴？民眾：對。個管師：嗯好。可是這相對來說對你來說也是有風險的誒。<sep>他有在吃PrEP。民眾：對。個管師：然後現在因為你也沒有固炮，所以約的話就是你覺得看起來信不信任，如果比較信任的話你就會不戴。民眾：呃……不戴反而比較少，基本上，反正就是那些，', '下列何者不是民眾的身體狀況？有發炎'), ('民眾：偶爾。個管師：偶爾內射？民眾：對。個管師：好喔那會不會因為你吃PrEP會比較不用，不會擔心？民眾：會，對啊我就比較不擔心。個管師：真的喔。民眾：我每日吃的。個管師：啊你知道怎麼吃嗎？你是吃任務型對不對。民眾：沒有我吃每日型。個管師：你現在吃每日……民眾：我一樣吃是吃每日型。個管師：那你這樣藥怎麼會夠？民眾：就沒有給哥哥啊。<sep>目前啦，目前還沒有說幾個名額民眾：嗯。個管師：但是目前我們今年有在排候補了，如果他要的話就幫你排候補。民眾：好。個管師：對，然後這樣子其實兩個都有吃，因為你們兩個幾乎都是無套嘛。民眾，嗯。個管師：所以雖然……雖然彼此相信就是不會各自約，可是有時候還是要相信自己，要保護自己一下。民眾：嗯好。個管師：對啊，所以因為在之前階段的狀況就是很多時候大家會知道吃PrEP可以預防ＨＩＶ，然後就會開始無套，', '下列何者不是民眾的身體狀況？淋巴球的比例是0')]\n",
      "[('個管師：那有固定伴侶嗎？民眾：沒有。個管師：你一直以來都沒有固定伴侶欸？民眾：蛤？什麼？個管師：你從一開始就沒有固定伴侶。民眾：你說來這裡之後？個管師：對。民眾：你說有固定伴侶是指固炮類的還是？個管師：固炮是固炮，固伴是固伴。民眾：沒有。個管師：固炮、固伴跟約炮是不一樣的。民眾：OK。個管師：對，就是固伴就是一般問你有沒有男朋友。民眾：沒有。<sep>他在紐約醫院吃PrEP？民眾：他在紐約醫院，他是去紐約醫院看的。個管師：吃PrEP？民眾：對。個管師：OKOK，好，所以你會之前的一個固炮，所以你現在都不會跟他了？民眾：對不會，他也有固定的伴侶了。個管師：所以他還沒有固定伴侶之前，你們是維持固炮關係？民眾：對。個管師：然後他現在有伴侶了，所以就沒有固炮了？民眾：對。個管師：好，所以那時候跟他的時候會無套，因為你很相信他，', '民眾不曾向哪些單位求診過？感染科'), ('個管師：但你，在你沒有疾病之前，然後是不是都會有無套？或者還是你其實都是有戴套？民眾：還是會有戴套的時候，只是次數還是比較少一點。個管師：就是偶爾戴套的意思嗎？民眾：是。<sep>就是變成是約的那種狀況。個管師：就是你對對象比較不放心的時候？不信任的時候你就會帶套。民眾：對。不信任的時候就會戴。個管師：但是你覺得這個人看起來還OK，你就會不戴套？民眾：對。<sep>但是基本上假如說從來跟那個人沒有任何性行為過的話，這部份就會選擇戴。個管師：選擇戴。OKOK。所以你基本上對於不信任的還是會戴，但是你覺得信任的你就不會戴？民眾：對。個管師：嗯好。可是這相對來說對你來說也是有風險的誒。<sep>他有在吃PrEP。民眾：對。個管師：然後現在因為你也沒有固炮，所以約的話就是你覺得看起來信不信任，如果比較信任的話你就會不戴。民眾：呃……不戴反而比較少，基本上，反正就是那些，', '民眾不曾向哪些單位求診過？皮膚科'), ('民眾：偶爾。個管師：偶爾內射？民眾：對。個管師：好喔那會不會因為你吃PrEP會比較不用，不會擔心？民眾：會，對啊我就比較不擔心。個管師：真的喔。民眾：我每日吃的。個管師：啊你知道怎麼吃嗎？你是吃任務型對不對。民眾：沒有我吃每日型。個管師：你現在吃每日……民眾：我一樣吃是吃每日型。個管師：那你這樣藥怎麼會夠？民眾：就沒有給哥哥啊。<sep>目前啦，目前還沒有說幾個名額民眾：嗯。個管師：但是目前我們今年有在排候補了，如果他要的話就幫你排候補。民眾：好。個管師：對，然後這樣子其實兩個都有吃，因為你們兩個幾乎都是無套嘛。民眾，嗯。個管師：所以雖然……雖然彼此相信就是不會各自約，可是有時候還是要相信自己，要保護自己一下。民眾：嗯好。個管師：對啊，所以因為在之前階段的狀況就是很多時候大家會知道吃PrEP可以預防ＨＩＶ，然後就會開始無套，', '民眾不曾向哪些單位求診過？疾管署')]\n",
      "[('個管師：那有固定伴侶嗎？民眾：沒有。個管師：你一直以來都沒有固定伴侶欸？民眾：蛤？什麼？個管師：你從一開始就沒有固定伴侶。民眾：你說來這裡之後？個管師：對。民眾：你說有固定伴侶是指固炮類的還是？個管師：固炮是固炮，固伴是固伴。民眾：沒有。個管師：固炮、固伴跟約炮是不一樣的。民眾：OK。個管師：對，就是固伴就是一般問你有沒有男朋友。民眾：沒有。<sep>他在紐約醫院吃PrEP？民眾：他在紐約醫院，他是去紐約醫院看的。個管師：吃PrEP？民眾：對。個管師：OKOK，好，所以你會之前的一個固炮，所以你現在都不會跟他了？民眾：對不會，他也有固定的伴侶了。個管師：所以他還沒有固定伴侶之前，你們是維持固炮關係？民眾：對。個管師：然後他現在有伴侶了，所以就沒有固炮了？民眾：對。個管師：好，所以那時候跟他的時候會無套，因為你很相信他，', '民眾打完針之後會發生哪些症狀？發燒'), ('個管師：但你，在你沒有疾病之前，然後是不是都會有無套？或者還是你其實都是有戴套？民眾：還是會有戴套的時候，只是次數還是比較少一點。個管師：就是偶爾戴套的意思嗎？民眾：是。<sep>就是變成是約的那種狀況。個管師：就是你對對象比較不放心的時候？不信任的時候你就會帶套。民眾：對。不信任的時候就會戴。個管師：但是你覺得這個人看起來還OK，你就會不戴套？民眾：對。<sep>但是基本上假如說從來跟那個人沒有任何性行為過的話，這部份就會選擇戴。個管師：選擇戴。OKOK。所以你基本上對於不信任的還是會戴，但是你覺得信任的你就不會戴？民眾：對。個管師：嗯好。可是這相對來說對你來說也是有風險的誒。<sep>他有在吃PrEP。民眾：對。個管師：然後現在因為你也沒有固炮，所以約的話就是你覺得看起來信不信任，如果比較信任的話你就會不戴。民眾：呃……不戴反而比較少，基本上，反正就是那些，', '民眾打完針之後會發生哪些症狀？起疹子'), ('民眾：偶爾。個管師：偶爾內射？民眾：對。個管師：好喔那會不會因為你吃PrEP會比較不用，不會擔心？民眾：會，對啊我就比較不擔心。個管師：真的喔。民眾：我每日吃的。個管師：啊你知道怎麼吃嗎？你是吃任務型對不對。民眾：沒有我吃每日型。個管師：你現在吃每日……民眾：我一樣吃是吃每日型。個管師：那你這樣藥怎麼會夠？民眾：就沒有給哥哥啊。<sep>目前啦，目前還沒有說幾個名額民眾：嗯。個管師：但是目前我們今年有在排候補了，如果他要的話就幫你排候補。民眾：好。個管師：對，然後這樣子其實兩個都有吃，因為你們兩個幾乎都是無套嘛。民眾，嗯。個管師：所以雖然……雖然彼此相信就是不會各自約，可是有時候還是要相信自己，要保護自己一下。民眾：嗯好。個管師：對啊，所以因為在之前階段的狀況就是很多時候大家會知道吃PrEP可以預防ＨＩＶ，然後就會開始無套，', '民眾打完針之後會發生哪些症狀？氣喘')]\n",
      "[('個管師：那有固定伴侶嗎？民眾：沒有。個管師：你一直以來都沒有固定伴侶欸？民眾：蛤？什麼？個管師：你從一開始就沒有固定伴侶。民眾：你說來這裡之後？個管師：對。民眾：你說有固定伴侶是指固炮類的還是？個管師：固炮是固炮，固伴是固伴。民眾：沒有。個管師：固炮、固伴跟約炮是不一樣的。民眾：OK。個管師：對，就是固伴就是一般問你有沒有男朋友。民眾：沒有。<sep>他在紐約醫院吃PrEP？民眾：他在紐約醫院，他是去紐約醫院看的。個管師：吃PrEP？民眾：對。個管師：OKOK，好，所以你會之前的一個固炮，所以你現在都不會跟他了？民眾：對不會，他也有固定的伴侶了。個管師：所以他還沒有固定伴侶之前，你們是維持固炮關係？民眾：對。個管師：然後他現在有伴侶了，所以就沒有固炮了？民眾：對。個管師：好，所以那時候跟他的時候會無套，因為你很相信他，', '請問民眾這次為何血壓這麼低？差不多三個月沒喝酒'), ('個管師：但你，在你沒有疾病之前，然後是不是都會有無套？或者還是你其實都是有戴套？民眾：還是會有戴套的時候，只是次數還是比較少一點。個管師：就是偶爾戴套的意思嗎？民眾：是。<sep>就是變成是約的那種狀況。個管師：就是你對對象比較不放心的時候？不信任的時候你就會帶套。民眾：對。不信任的時候就會戴。個管師：但是你覺得這個人看起來還OK，你就會不戴套？民眾：對。<sep>但是基本上假如說從來跟那個人沒有任何性行為過的話，這部份就會選擇戴。個管師：選擇戴。OKOK。所以你基本上對於不信任的還是會戴，但是你覺得信任的你就不會戴？民眾：對。個管師：嗯好。可是這相對來說對你來說也是有風險的誒。<sep>他有在吃PrEP。民眾：對。個管師：然後現在因為你也沒有固炮，所以約的話就是你覺得看起來信不信任，如果比較信任的話你就會不戴。民眾：呃……不戴反而比較少，基本上，反正就是那些，', '請問民眾這次為何血壓這麼低？吃營養食品'), ('民眾：偶爾。個管師：偶爾內射？民眾：對。個管師：好喔那會不會因為你吃PrEP會比較不用，不會擔心？民眾：會，對啊我就比較不擔心。個管師：真的喔。民眾：我每日吃的。個管師：啊你知道怎麼吃嗎？你是吃任務型對不對。民眾：沒有我吃每日型。個管師：你現在吃每日……民眾：我一樣吃是吃每日型。個管師：那你這樣藥怎麼會夠？民眾：就沒有給哥哥啊。<sep>目前啦，目前還沒有說幾個名額民眾：嗯。個管師：但是目前我們今年有在排候補了，如果他要的話就幫你排候補。民眾：好。個管師：對，然後這樣子其實兩個都有吃，因為你們兩個幾乎都是無套嘛。民眾，嗯。個管師：所以雖然……雖然彼此相信就是不會各自約，可是有時候還是要相信自己，要保護自己一下。民眾：嗯好。個管師：對啊，所以因為在之前階段的狀況就是很多時候大家會知道吃PrEP可以預防ＨＩＶ，然後就會開始無套，', '請問民眾這次為何血壓這麼低？吃維他命C')]\n",
      "[('個管師：那有固定伴侶嗎？民眾：沒有。個管師：你一直以來都沒有固定伴侶欸？民眾：蛤？什麼？個管師：你從一開始就沒有固定伴侶。民眾：你說來這裡之後？個管師：對。民眾：你說有固定伴侶是指固炮類的還是？個管師：固炮是固炮，固伴是固伴。民眾：沒有。個管師：固炮、固伴跟約炮是不一樣的。民眾：OK。個管師：對，就是固伴就是一般問你有沒有男朋友。民眾：沒有。<sep>他在紐約醫院吃PrEP？民眾：他在紐約醫院，他是去紐約醫院看的。個管師：吃PrEP？民眾：對。個管師：OKOK，好，所以你會之前的一個固炮，所以你現在都不會跟他了？民眾：對不會，他也有固定的伴侶了。個管師：所以他還沒有固定伴侶之前，你們是維持固炮關係？民眾：對。個管師：然後他現在有伴侶了，所以就沒有固炮了？民眾：對。個管師：好，所以那時候跟他的時候會無套，因為你很相信他，', '下列何者不是民眾的身體狀況？比較不頭暈'), ('個管師：但你，在你沒有疾病之前，然後是不是都會有無套？或者還是你其實都是有戴套？民眾：還是會有戴套的時候，只是次數還是比較少一點。個管師：就是偶爾戴套的意思嗎？民眾：是。<sep>就是變成是約的那種狀況。個管師：就是你對對象比較不放心的時候？不信任的時候你就會帶套。民眾：對。不信任的時候就會戴。個管師：但是你覺得這個人看起來還OK，你就會不戴套？民眾：對。<sep>但是基本上假如說從來跟那個人沒有任何性行為過的話，這部份就會選擇戴。個管師：選擇戴。OKOK。所以你基本上對於不信任的還是會戴，但是你覺得信任的你就不會戴？民眾：對。個管師：嗯好。可是這相對來說對你來說也是有風險的誒。<sep>他有在吃PrEP。民眾：對。個管師：然後現在因為你也沒有固炮，所以約的話就是你覺得看起來信不信任，如果比較信任的話你就會不戴。民眾：呃……不戴反而比較少，基本上，反正就是那些，', '下列何者不是民眾的身體狀況？血壓都不高'), ('民眾：偶爾。個管師：偶爾內射？民眾：對。個管師：好喔那會不會因為你吃PrEP會比較不用，不會擔心？民眾：會，對啊我就比較不擔心。個管師：真的喔。民眾：我每日吃的。個管師：啊你知道怎麼吃嗎？你是吃任務型對不對。民眾：沒有我吃每日型。個管師：你現在吃每日……民眾：我一樣吃是吃每日型。個管師：那你這樣藥怎麼會夠？民眾：就沒有給哥哥啊。<sep>目前啦，目前還沒有說幾個名額民眾：嗯。個管師：但是目前我們今年有在排候補了，如果他要的話就幫你排候補。民眾：好。個管師：對，然後這樣子其實兩個都有吃，因為你們兩個幾乎都是無套嘛。民眾，嗯。個管師：所以雖然……雖然彼此相信就是不會各自約，可是有時候還是要相信自己，要保護自己一下。民眾：嗯好。個管師：對啊，所以因為在之前階段的狀況就是很多時候大家會知道吃PrEP可以預防ＨＩＶ，然後就會開始無套，', '下列何者不是民眾的身體狀況？血壓高')]\n",
      "[('個管師：那有固定伴侶嗎？民眾：沒有。個管師：你一直以來都沒有固定伴侶欸？民眾：蛤？什麼？個管師：你從一開始就沒有固定伴侶。民眾：你說來這裡之後？個管師：對。民眾：你說有固定伴侶是指固炮類的還是？個管師：固炮是固炮，固伴是固伴。民眾：沒有。個管師：固炮、固伴跟約炮是不一樣的。民眾：OK。個管師：對，就是固伴就是一般問你有沒有男朋友。民眾：沒有。<sep>他在紐約醫院吃PrEP？民眾：他在紐約醫院，他是去紐約醫院看的。個管師：吃PrEP？民眾：對。個管師：OKOK，好，所以你會之前的一個固炮，所以你現在都不會跟他了？民眾：對不會，他也有固定的伴侶了。個管師：所以他還沒有固定伴侶之前，你們是維持固炮關係？民眾：對。個管師：然後他現在有伴侶了，所以就沒有固炮了？民眾：對。個管師：好，所以那時候跟他的時候會無套，因為你很相信他，', '請問以下關於民眾的敘述何者錯誤？下次應該就是回來打A肝'), ('個管師：但你，在你沒有疾病之前，然後是不是都會有無套？或者還是你其實都是有戴套？民眾：還是會有戴套的時候，只是次數還是比較少一點。個管師：就是偶爾戴套的意思嗎？民眾：是。<sep>就是變成是約的那種狀況。個管師：就是你對對象比較不放心的時候？不信任的時候你就會帶套。民眾：對。不信任的時候就會戴。個管師：但是你覺得這個人看起來還OK，你就會不戴套？民眾：對。<sep>但是基本上假如說從來跟那個人沒有任何性行為過的話，這部份就會選擇戴。個管師：選擇戴。OKOK。所以你基本上對於不信任的還是會戴，但是你覺得信任的你就不會戴？民眾：對。個管師：嗯好。可是這相對來說對你來說也是有風險的誒。<sep>他有在吃PrEP。民眾：對。個管師：然後現在因為你也沒有固炮，所以約的話就是你覺得看起來信不信任，如果比較信任的話你就會不戴。民眾：呃……不戴反而比較少，基本上，反正就是那些，', '請問以下關於民眾的敘述何者錯誤？腎功能、肝功能都正常'), ('民眾：偶爾。個管師：偶爾內射？民眾：對。個管師：好喔那會不會因為你吃PrEP會比較不用，不會擔心？民眾：會，對啊我就比較不擔心。個管師：真的喔。民眾：我每日吃的。個管師：啊你知道怎麼吃嗎？你是吃任務型對不對。民眾：沒有我吃每日型。個管師：你現在吃每日……民眾：我一樣吃是吃每日型。個管師：那你這樣藥怎麼會夠？民眾：就沒有給哥哥啊。<sep>目前啦，目前還沒有說幾個名額民眾：嗯。個管師：但是目前我們今年有在排候補了，如果他要的話就幫你排候補。民眾：好。個管師：對，然後這樣子其實兩個都有吃，因為你們兩個幾乎都是無套嘛。民眾，嗯。個管師：所以雖然……雖然彼此相信就是不會各自約，可是有時候還是要相信自己，要保護自己一下。民眾：嗯好。個管師：對啊，所以因為在之前階段的狀況就是很多時候大家會知道吃PrEP可以預防ＨＩＶ，然後就會開始無套，', '請問以下關於民眾的敘述何者錯誤？Ａ肝都沒有問題，而且都有保護力')]\n",
      "[('個管師：那有固定伴侶嗎？民眾：沒有。個管師：你一直以來都沒有固定伴侶欸？民眾：蛤？什麼？個管師：你從一開始就沒有固定伴侶。民眾：你說來這裡之後？個管師：對。民眾：你說有固定伴侶是指固炮類的還是？個管師：固炮是固炮，固伴是固伴。民眾：沒有。個管師：固炮、固伴跟約炮是不一樣的。民眾：OK。個管師：對，就是固伴就是一般問你有沒有男朋友。民眾：沒有。<sep>他在紐約醫院吃PrEP？民眾：他在紐約醫院，他是去紐約醫院看的。個管師：吃PrEP？民眾：對。個管師：OKOK，好，所以你會之前的一個固炮，所以你現在都不會跟他了？民眾：對不會，他也有固定的伴侶了。個管師：所以他還沒有固定伴侶之前，你們是維持固炮關係？民眾：對。個管師：然後他現在有伴侶了，所以就沒有固炮了？民眾：對。個管師：好，所以那時候跟他的時候會無套，因為你很相信他，', '下列何者不是民眾的身體指數？血糖九十七'), ('個管師：但你，在你沒有疾病之前，然後是不是都會有無套？或者還是你其實都是有戴套？民眾：還是會有戴套的時候，只是次數還是比較少一點。個管師：就是偶爾戴套的意思嗎？民眾：是。<sep>就是變成是約的那種狀況。個管師：就是你對對象比較不放心的時候？不信任的時候你就會帶套。民眾：對。不信任的時候就會戴。個管師：但是你覺得這個人看起來還OK，你就會不戴套？民眾：對。<sep>但是基本上假如說從來跟那個人沒有任何性行為過的話，這部份就會選擇戴。個管師：選擇戴。OKOK。所以你基本上對於不信任的還是會戴，但是你覺得信任的你就不會戴？民眾：對。個管師：嗯好。可是這相對來說對你來說也是有風險的誒。<sep>他有在吃PrEP。民眾：對。個管師：然後現在因為你也沒有固炮，所以約的話就是你覺得看起來信不信任，如果比較信任的話你就會不戴。民眾：呃……不戴反而比較少，基本上，反正就是那些，', '下列何者不是民眾的身體指數？肝功能，五'), ('民眾：偶爾。個管師：偶爾內射？民眾：對。個管師：好喔那會不會因為你吃PrEP會比較不用，不會擔心？民眾：會，對啊我就比較不擔心。個管師：真的喔。民眾：我每日吃的。個管師：啊你知道怎麼吃嗎？你是吃任務型對不對。民眾：沒有我吃每日型。個管師：你現在吃每日……民眾：我一樣吃是吃每日型。個管師：那你這樣藥怎麼會夠？民眾：就沒有給哥哥啊。<sep>目前啦，目前還沒有說幾個名額民眾：嗯。個管師：但是目前我們今年有在排候補了，如果他要的話就幫你排候補。民眾：好。個管師：對，然後這樣子其實兩個都有吃，因為你們兩個幾乎都是無套嘛。民眾，嗯。個管師：所以雖然……雖然彼此相信就是不會各自約，可是有時候還是要相信自己，要保護自己一下。民眾：嗯好。個管師：對啊，所以因為在之前階段的狀況就是很多時候大家會知道吃PrEP可以預防ＨＩＶ，然後就會開始無套，', '下列何者不是民眾的身體指數？血壓，一百三十九')]\n",
      "[('個管師：那有固定伴侶嗎？民眾：沒有。個管師：你一直以來都沒有固定伴侶欸？民眾：蛤？什麼？個管師：你從一開始就沒有固定伴侶。民眾：你說來這裡之後？個管師：對。民眾：你說有固定伴侶是指固炮類的還是？個管師：固炮是固炮，固伴是固伴。民眾：沒有。個管師：固炮、固伴跟約炮是不一樣的。民眾：OK。個管師：對，就是固伴就是一般問你有沒有男朋友。民眾：沒有。<sep>他在紐約醫院吃PrEP？民眾：他在紐約醫院，他是去紐約醫院看的。個管師：吃PrEP？民眾：對。個管師：OKOK，好，所以你會之前的一個固炮，所以你現在都不會跟他了？民眾：對不會，他也有固定的伴侶了。個管師：所以他還沒有固定伴侶之前，你們是維持固炮關係？民眾：對。個管師：然後他現在有伴侶了，所以就沒有固炮了？民眾：對。個管師：好，所以那時候跟他的時候會無套，因為你很相信他，', '請問下列何者不是民眾此次看診的目的？買肝藥'), ('個管師：但你，在你沒有疾病之前，然後是不是都會有無套？或者還是你其實都是有戴套？民眾：還是會有戴套的時候，只是次數還是比較少一點。個管師：就是偶爾戴套的意思嗎？民眾：是。<sep>就是變成是約的那種狀況。個管師：就是你對對象比較不放心的時候？不信任的時候你就會帶套。民眾：對。不信任的時候就會戴。個管師：但是你覺得這個人看起來還OK，你就會不戴套？民眾：對。<sep>但是基本上假如說從來跟那個人沒有任何性行為過的話，這部份就會選擇戴。個管師：選擇戴。OKOK。所以你基本上對於不信任的還是會戴，但是你覺得信任的你就不會戴？民眾：對。個管師：嗯好。可是這相對來說對你來說也是有風險的誒。<sep>他有在吃PrEP。民眾：對。個管師：然後現在因為你也沒有固炮，所以約的話就是你覺得看起來信不信任，如果比較信任的話你就會不戴。民眾：呃……不戴反而比較少，基本上，反正就是那些，', '請問下列何者不是民眾此次看診的目的？開診斷書'), ('民眾：偶爾。個管師：偶爾內射？民眾：對。個管師：好喔那會不會因為你吃PrEP會比較不用，不會擔心？民眾：會，對啊我就比較不擔心。個管師：真的喔。民眾：我每日吃的。個管師：啊你知道怎麼吃嗎？你是吃任務型對不對。民眾：沒有我吃每日型。個管師：你現在吃每日……民眾：我一樣吃是吃每日型。個管師：那你這樣藥怎麼會夠？民眾：就沒有給哥哥啊。<sep>目前啦，目前還沒有說幾個名額民眾：嗯。個管師：但是目前我們今年有在排候補了，如果他要的話就幫你排候補。民眾：好。個管師：對，然後這樣子其實兩個都有吃，因為你們兩個幾乎都是無套嘛。民眾，嗯。個管師：所以雖然……雖然彼此相信就是不會各自約，可是有時候還是要相信自己，要保護自己一下。民眾：嗯好。個管師：對啊，所以因為在之前階段的狀況就是很多時候大家會知道吃PrEP可以預防ＨＩＶ，然後就會開始無套，', '請問下列何者不是民眾此次看診的目的？照X光')]\n",
      "[('個管師：那有固定伴侶嗎？民眾：沒有。個管師：你一直以來都沒有固定伴侶欸？民眾：蛤？什麼？個管師：你從一開始就沒有固定伴侶。民眾：你說來這裡之後？個管師：對。民眾：你說有固定伴侶是指固炮類的還是？個管師：固炮是固炮，固伴是固伴。民眾：沒有。個管師：固炮、固伴跟約炮是不一樣的。民眾：OK。個管師：對，就是固伴就是一般問你有沒有男朋友。民眾：沒有。<sep>他在紐約醫院吃PrEP？民眾：他在紐約醫院，他是去紐約醫院看的。個管師：吃PrEP？民眾：對。個管師：OKOK，好，所以你會之前的一個固炮，所以你現在都不會跟他了？民眾：對不會，他也有固定的伴侶了。個管師：所以他還沒有固定伴侶之前，你們是維持固炮關係？民眾：對。個管師：然後他現在有伴侶了，所以就沒有固炮了？民眾：對。個管師：好，所以那時候跟他的時候會無套，因為你很相信他，', '哪個選項不是民眾身體上遇到的問題？肝'), ('個管師：但你，在你沒有疾病之前，然後是不是都會有無套？或者還是你其實都是有戴套？民眾：還是會有戴套的時候，只是次數還是比較少一點。個管師：就是偶爾戴套的意思嗎？民眾：是。<sep>就是變成是約的那種狀況。個管師：就是你對對象比較不放心的時候？不信任的時候你就會帶套。民眾：對。不信任的時候就會戴。個管師：但是你覺得這個人看起來還OK，你就會不戴套？民眾：對。<sep>但是基本上假如說從來跟那個人沒有任何性行為過的話，這部份就會選擇戴。個管師：選擇戴。OKOK。所以你基本上對於不信任的還是會戴，但是你覺得信任的你就不會戴？民眾：對。個管師：嗯好。可是這相對來說對你來說也是有風險的誒。<sep>他有在吃PrEP。民眾：對。個管師：然後現在因為你也沒有固炮，所以約的話就是你覺得看起來信不信任，如果比較信任的話你就會不戴。民眾：呃……不戴反而比較少，基本上，反正就是那些，', '哪個選項不是民眾身體上遇到的問題？肚子'), ('民眾：偶爾。個管師：偶爾內射？民眾：對。個管師：好喔那會不會因為你吃PrEP會比較不用，不會擔心？民眾：會，對啊我就比較不擔心。個管師：真的喔。民眾：我每日吃的。個管師：啊你知道怎麼吃嗎？你是吃任務型對不對。民眾：沒有我吃每日型。個管師：你現在吃每日……民眾：我一樣吃是吃每日型。個管師：那你這樣藥怎麼會夠？民眾：就沒有給哥哥啊。<sep>目前啦，目前還沒有說幾個名額民眾：嗯。個管師：但是目前我們今年有在排候補了，如果他要的話就幫你排候補。民眾：好。個管師：對，然後這樣子其實兩個都有吃，因為你們兩個幾乎都是無套嘛。民眾，嗯。個管師：所以雖然……雖然彼此相信就是不會各自約，可是有時候還是要相信自己，要保護自己一下。民眾：嗯好。個管師：對啊，所以因為在之前階段的狀況就是很多時候大家會知道吃PrEP可以預防ＨＩＶ，然後就會開始無套，', '哪個選項不是民眾身體上遇到的問題？喘')]\n"
     ]
    },
    {
     "output_type": "execute_result",
     "data": {
      "text/plain": [
       "torch.Size([3, 365])"
      ]
     },
     "metadata": {},
     "execution_count": 4
    }
   ],
   "source": [
    "example = QA_Dataset(tokenizer, './data/train_fold1.json').__getitem__(1)\n",
    "example['input_ids'].shape"
   ]
  },
  {
   "cell_type": "code",
   "execution_count": null,
   "metadata": {},
   "outputs": [],
   "source": []
  },
  {
   "cell_type": "code",
   "execution_count": 5,
   "metadata": {},
   "outputs": [
    {
     "output_type": "execute_result",
     "data": {
      "text/plain": [
       "'<pad><pad><pad><pad><pad><pad><pad><pad><pad><pad><pad><pad><pad><pad><pad><pad><pad><pad><pad><pad><pad><pad><pad><pad><pad><pad><pad><pad><pad><pad><pad><pad><pad><pad><pad><pad><pad><pad><pad><pad><pad><pad><pad><pad><pad><pad><pad><pad><pad><pad><pad><pad><pad><pad><pad><pad><pad><pad><pad><pad><pad><pad><pad><pad><pad><pad><pad><pad><pad><pad><pad> 民眾:偶爾。個管師:偶爾內射?民眾:對。個管師:好喔那會不會因為你吃PrEP會比較不用,不會擔心?民眾:會,對啊我就比較不擔心。個管師:真的喔。民眾:我每日吃的。個管師:啊你知道怎麼吃嗎?你是吃任務型對不對。民眾:沒有我吃每日型。個管師:你現在吃每日......民眾:我一樣吃是吃每日型。個管師:那你這樣藥怎麼會夠?民眾:就沒有給哥哥啊。<sep> 目前啦,目前還沒有說幾個名額民眾:嗯。個管師:但是目前我們今年有在排候補了,如果他要的話就幫你排候補。民眾:好。個管師:對,然後這樣子其實兩個都有吃,因為你們兩個幾乎都是無套嘛。民眾,嗯。個管師:所以雖然......雖然彼此相信就是不會各自約,可是有時候還是要相信自己,要保護自己一下。民眾:嗯好。個管師:對啊,所以因為在之前階段的狀況就是很多時候大家會知道吃PrEP可以預防HIV,然後就會開始無套,<sep> 下列關於民眾敘述何者錯誤?想要改任務型<sep><cls>'"
      ]
     },
     "metadata": {},
     "execution_count": 5
    }
   ],
   "source": [
    "tokenizer.decode(example['input_ids'][2])"
   ]
  },
  {
   "cell_type": "code",
   "execution_count": null,
   "metadata": {},
   "outputs": [],
   "source": []
  },
  {
   "cell_type": "code",
   "execution_count": null,
   "metadata": {},
   "outputs": [],
   "source": [
    "tokenizer.decode(ins['q_input_ids'][0])"
   ]
  },
  {
   "cell_type": "code",
   "execution_count": null,
   "metadata": {
    "tags": []
   },
   "outputs": [],
   "source": [
    "import pandas as pd\n",
    "from loader import *\n",
    "import matplotlib.pyplot as plt\n",
    "from transformers import AutoTokenizer\n",
    "\n",
    "\n",
    "config = 'hfl/chinese-xlnet-base'\n",
    "tokenizer = AutoTokenizer.from_pretrained(config)\n",
    "doc, q, cho, ans = json_parser()"
   ]
  },
  {
   "cell_type": "code",
   "execution_count": null,
   "metadata": {},
   "outputs": [],
   "source": [
    "def find_entity(strs, ent, dir='f'):\n",
    "    try:\n",
    "        idx = strs.index(ent)\n",
    "        idx = idx-1 if dir=='f' else idx+1\n",
    "        return strs[idx]\n",
    "    except:\n",
    "        return 0\n",
    "def query_propress(query):\n",
    "    valid_ent = ['民眾', '醫師', '個管師', '家屬']\n",
    "    rules=[ \n",
    "        {'p':'關於','dir':'b'}, {'p':'建議','dir':'f'},\n",
    "        {'p':'是', 'dir':'b'}, {'p':'不是', 'dir':'b'},\n",
    "        {'p':'請問', 'dir':'b'}\n",
    "    ]\n",
    "    processed_q = []\n",
    "    for q in query:\n",
    "        tokens = jieba.lcut(q)\n",
    "        # print(tokens)\n",
    "        res = ''\n",
    "        for ele in rules:\n",
    "            res = find_entity(tokens, ele['p'], dir=ele['dir'])  \n",
    "\n",
    "            if res in valid_ent: break\n",
    "        # Clearing invalid ent\n",
    "        if not res in valid_ent:\n",
    "            res= tokens[0] if tokens[0] in valid_ent else ''\n",
    "            \n",
    "        processed_q.append(res)\n",
    "    return processed_q\n"
   ]
  },
  {
   "cell_type": "code",
   "execution_count": null,
   "metadata": {
    "tags": []
   },
   "outputs": [],
   "source": [
    "propressed_query = query_propress(q)\n",
    "list(zip(q, propressed_query))"
   ]
  },
  {
   "cell_type": "code",
   "execution_count": null,
   "metadata": {
    "tags": []
   },
   "outputs": [],
   "source": [
    "pipe =  doc_preprocessing(config)\n",
    "d = pipe(doc, q)\n",
    "\n",
    "# ori_len = [len(window) for frag in d for window in frag['input_ids']]\n",
    "# plt.hist(ori_len, color = 'black', cumulative = False)\n",
    "# plt.show()"
   ]
  },
  {
   "cell_type": "code",
   "execution_count": null,
   "metadata": {},
   "outputs": [],
   "source": [
    "tokenizer.decode(d[0]['q_input_ids'][0])"
   ]
  },
  {
   "cell_type": "code",
   "execution_count": null,
   "metadata": {},
   "outputs": [],
   "source": [
    "plt.hist(strQ2B(ans))\n",
    "plt.show()\n"
   ]
  },
  {
   "cell_type": "markdown",
   "metadata": {},
   "source": [
    "## LOADER"
   ]
  },
  {
   "cell_type": "code",
   "execution_count": null,
   "metadata": {
    "tags": []
   },
   "outputs": [],
   "source": [
    "from torch.utils.data import DataLoader\n",
    "from loader import QA_Dataset\n",
    "from torch.nn.utils.rnn import pad_sequence\n",
    "import torch\n",
    "\n",
    "config = 'hfl/chinese-xlnet-base'\n",
    "lr = 1e-3"
   ]
  },
  {
   "cell_type": "code",
   "execution_count": null,
   "metadata": {},
   "outputs": [],
   "source": [
    "import  torch.nn.functional as F\n",
    "from torch.nn.utils.rnn import pad_sequence\n",
    "a = torch.ones(25, 300)\n",
    "b = torch.ones(22, 300)\n",
    "c = torch.ones(15, 300)\n",
    "pad_sequence([a, b, c], batch_first=True,).shape"
   ]
  },
  {
   "cell_type": "code",
   "execution_count": null,
   "metadata": {
    "collapsed": true,
    "jupyter": {
     "outputs_hidden": true
    },
    "tags": []
   },
   "outputs": [],
   "source": [
    "def fragment_pad(*dcts):\n",
    "    combined_dict = {}\n",
    "    for k in set(dcts[0]):\n",
    "        if not k=='label' and not k=='choice':\n",
    "            print(k, [d[k].shape for d in dcts])\n",
    "            combined_dict.update({\n",
    "                k:pad_sequence([d[k].squeeze(0) for d in dcts], batch_first=True)\n",
    "            })\n",
    "        if k=='label':\n",
    "             combined_dict.update({\n",
    "                'label':torch.stack([d['label'] for d in dcts]) \n",
    "             })\n",
    "    return combined_dict\n",
    "\n",
    "def collate_fn(batch):\n",
    "    batched_dict = fragment_pad(*batch)\n",
    "    return batched_dict\n",
    "\n",
    "train_ds = QA_Dataset(config, './data/Train_qa_ans.json')\n",
    "train_loader = DataLoader(\n",
    "    train_ds, \n",
    "    batch_size=4, \n",
    "    num_workers=1, \n",
    "    shuffle=True, \n",
    "    collate_fn=collate_fn\n",
    ")\n",
    "train_loader.__iter__().__next__()\n",
    "# model = QA_Model(config, lr=lr)"
   ]
  },
  {
   "cell_type": "code",
   "execution_count": null,
   "metadata": {},
   "outputs": [],
   "source": [
    "from loader import QA_Dataset"
   ]
  },
  {
   "cell_type": "code",
   "execution_count": null,
   "metadata": {},
   "outputs": [],
   "source": [
    "from transformers import XLNetTokenizer, XLNetModel\n",
    "import torch\n",
    "\n",
    "config = 'hfl/chinese-xlnet-base'\n",
    "tokenizer = XLNetTokenizer.from_pretrained(config)\n",
    "tokenizer.add_special_tokens({'additional_special_tokens':['<q>']})\n",
    "model = XLNetModel.from_pretrained(config)\n",
    "model.resize_token_embeddings(len(tokenizer))"
   ]
  },
  {
   "cell_type": "code",
   "execution_count": null,
   "metadata": {},
   "outputs": [],
   "source": [
    "tokenizer([\n",
    "    ('預計的性行為', '預計的性行為'),\n",
    "    ('預預預預預預', '預預預預預預'),\n",
    "\n",
    "])['input_ids'][0]"
   ]
  },
  {
   "cell_type": "code",
   "execution_count": null,
   "metadata": {},
   "outputs": [],
   "source": [
    "tokenizer.decode(19)"
   ]
  },
  {
   "cell_type": "code",
   "execution_count": null,
   "metadata": {},
   "outputs": [],
   "source": []
  },
  {
   "cell_type": "code",
   "execution_count": 2,
   "metadata": {
    "tags": [
     "outputPrepend"
    ]
   },
   "outputs": [
    {
     "output_type": "stream",
     "name": "stdout",
     "text": [
      "['下列', '敘述', '何者', '有誤', '?']\n['請問', '民眾', '會', '是', '怎樣', '的', '狀況', '下會', '沒', '戴', '保險套', '？']\n['下列', '何者', '是', '民眾', '今天', '要', '做', '的', '檢查', '？']\n['醫師', '從', '哪判斷', '民眾', '是', '恙蟲病', '？']\n['民眾', '平', '常常', '吃', '的', '東西', '下列', '何者', '正確', '？']\n['請問', '民眾', '先前', '有', '做', '過何', '項', '治療', '？']\n['下列', '何者', '不是', '民眾', '提早', '來', '打', '疫苗', '的', '原因', '?']\n['下列', '何者', '是', '民眾', '持續', '做', '的', '治療', '？']\n['下列', '敘述', '何者', '正確', '?']\n['下列', '敘述', '何者', '錯誤', '？']\n['下列', '哪個', '不是', '民眾', '的', '症狀', '?']\n['請問', '民眾', '打針', '打', '多久', '？']\n['醫師', '建議', '民眾', '把', '下列', '何者', '藥物', '停掉', '？']\n['下列', '何者', '不是', '民眾', '的', '身體', '狀況', '？']\n['何者', '是', '民眾', '的', '症狀', '?']\n['請問', '下列', '何者', '不是', '醫師', '建議', '民眾', '打', '的', '疫苗', '？']\n['請問', '民眾', '哪一項', '指數', '有', '慢慢', '在', '繼續', '往', '下降', '？']\n['關於', '民眾', '的', '身體', '狀況', '下列', '何者', '錯誤', '？']\n['請問', '醫師', '建議', '民眾', '追', '蹤', '下列', '何項', '指數', '的', '抗體', '？']\n['下列', '關於', '民眾', '的', '敘述', '何者', '錯誤', '?']\n['請問', '藥要', '連續', '吃', '幾', '天才', '具有', '保護力', '？']\n['請問', '民眾', '為何', '去', '看', '急診', '？']\n['醫師', '建議', '民眾', '的', '事項', '下列', '何者', '不', '包含', '？']\n['下列', '何者', '是', '民眾', '的', '身體', '狀況', '？']\n['下列', '何者', '不是', '民眾', '禮拜', '五', '做', '的', '檢查', '？']\n['下列', '何者', '不是', '紫斑', '症', '的', '皮膚', '狀況', '？']\n['民種', '腳腫', '的', '可能', '原因', '為', '下列', '何種', '？']\n['下列', '關於', '民眾', '的', '敘述', '何者', '正確', '？']\n['請問', '民眾', '的', '身體', '哪', '一項', '功能', '較差', '？']\n['下列', '哪個', '不是', '民眾', '的', '身體', '症狀', '？']\n['請問', '民眾', '下次', '不用', '做什麼', '檢查', '？']\n['民眾', '背後凸', '一個', '東西', '的', '症狀', '下列', '何者', '不是', '?']\n['下列', '敘述', '何者', '有誤', '？']\n['請問', '關於', '民眾', '的', '服藥', '方式', '，', '何者', '錯誤', '？']\n['下列', '何者', '是', '性交', '方式', '容易', '得', 'HIV', '？']\n['請問', '下列', '何者', '跟', '民眾', '血糖高', '沒關', '係', '？']\n['請問', '民眾', '現在', '吃', '藥快', '超過', '一年', '，', '沒有', '什', '麽', '心得', '？']\n['下列', '何者', '不是', '任務型', '的', '吃法', '？']\n['民眾', '痠痛', '的', '部位', '不', '包含', '下列', '何者', '?']\n['下列', '敘述', '關於', '民眾', '帶保險', '套', '的', '狀況', '是', '錯誤', '的', '？']\n['關於', '民眾', '的', '乳癌', '治療', '下列', '何者', '錯誤', '？']\n['請問', '下列', '敘述', '何者', '錯誤', '？']\n['下列', '何者', '不是', '民眾', '的', '狀況', '？']\n['關於', '本次', '看診', '的', '敘述', '，', '何者', '有誤', '?']\n['下列', '何者', '是', '民眾', '這次', '抽血', '要驗', '的', '數值', '？']\n['關於', '民眾', '的', '敘述', '，', '何者', '錯誤', '？']\n['請問', '何者', '不是', '醫師', '建議', '民眾', '追', '蹤', '的', '地方', '？']\n['請問', '何者', '不是', '醫師', '建議', '民眾', '的', '吃藥', '方法', '？']\n['請問', '民眾', '吃', '的', '抗生素', '造成', '民眾', '什麼', '困擾', '？']\n['請問', '醫師', '沒有', '開給', '民眾', '什麼藥', '？']\n['哪種', '水果', '民眾', '最近', '吃', '得', '較', '多', '？']\n['下列', '敘述', '何者', '有誤', '？']\n['下列', '關於', '民眾', '的', '敘述', '何者', '正確', '?']\n['請問', '醫師', '這次', '沒', '有', '開', '哪', '種藥', '？']\n['下列', '何者', '不是', '民眾', '的', '身體', '狀況', '？']\n['醫師', '建議', '民眾', '可以', '增加', '的', '物質', '，', '下列', '何者', '不', '包含', '?']\n['下列', '敘述', '何', '這錯誤', '?']\n['下列', '關於', '民眾', '與', '其', '男友', '的', '敘述', '，', '何者', '錯誤', '？']\n['請問', '醫師', '建議', '民眾', '再撐', '兩個', '禮拜後要', '做', '什麼', '？']\n['請問', '醫師', '建議', '民眾', '做什麼', '檢查', '？']\n['關於', '民眾', '的', '性行為', '下列', '何者', '錯誤', '？']\n['請問', '以下', '關於', '民眾', '的', '敘述', '何者', '錯誤', '？']\n['下列', '何者', '不是', '民眾', '吃', 'PrEP', '的', '想法', '？']\n['請問', '民眾', '的', '性關', '係', '，', '何者', '正確', '？']\n['醫師', '建議', '民眾', '吃', '什麼', '讓', '細胞', '再', '製', '造', '?']\n['下列', '何者', '是', '民眾', '吃藥', '的', '頻率', '？']\n['請問', '醫師', '建議', '民眾', '後', '續', '如何', '治療', '？']\n['下列', '何者', '不是', '民眾', '出現', '的', '症狀', '?']\n['下列', '何者', '是', '吃過', '這個藥', '的', '人會', '有', '的', '不', '舒服', '感', '？']\n['下列', '何者', '不是', '改善', '泌尿道', '感染', '問題', '改善', '的', '方法', '？']\n['關於', '民眾', '的', '敘述', '，', '何者', '錯誤', '？']\n['民眾', '這次', '的', '狀況', '不', '包含', '下列', '何者', '?']\n['下列', '何者', '是', '民眾', '下次', '看診', '的', '時間', '？']\n['請問', '民眾', '這個', '月', '漏', '幾', '顆藥', '？']\n['為', '什麼', '民眾', '這幾個', '月', '就', '都', '沒', '有', '吃藥', '？']\n['請問', '醫師', '建議', '民眾', '這個', '年紀', '可以', '做', '何項', '檢查', '？']\n['下列', '何者', '不是', '民眾', '的', '身體', '狀況', '？']\n['下列', '何項', '疾病', '不是', '醫師', '建議', '民眾', '檢驗', '的', '？']\n['醫師', '此次', '沒有', '讓', '民眾', '做', '以下', '何種', '治療', '?']\n['下列', '何者', '不是', '民眾', '的', '身體', '狀況', '？']\n['請問', '民眾', '晚上', '睡覺', '不會', '做', '什麼', '事', '？']\n['關於', '民眾', '的', '情況', '下列', '何者', '錯誤', '?']\n['請問', '過敏', '體質', '沒有', '什麼', '症狀', '？']\n['請問', '民眾', '上', '一次', '肚子', '不', '舒服', '看醫生', '是', '因為', '？']\n['下列', '何者', '是', '民眾', '上次', '打', '的', '疫苗', '？']\n['民眾', '味覺', '跟', '嗅覺', '味道', '又', '沒', '有', '可能', '不是', '下列', '何者', '原因', '?']\n['下列', '何者', '不是', '民眾', '的', '身體', '狀況', '？']\n['下列', '何者', '是', '民眾', '的', '身體', '狀況', '？']\n['關於', '民眾', '的', 'X光', '下列', '敘述', '何者', '錯誤', '?']\n['民眾', '吃', '藥後從', '什麼', '時候', '身體', '開始', '出', '現脹氣', '？']\n['請問', '醫師', '建議', '民眾', '第一', '個', '月', '要', '怎麼', '吃藥', '？']\n['下列', '何者', '是', '民眾', '免疫', '細胞', '指數', '？']\n['下列', '何者', '不是', '民眾', '這個', '月', '的', '性行為', '？']\n['下列', '民眾', '吃', '藥後沒有', '什麼', '心得', '？']\n['關於', '民眾', '的', '身體', '狀況', '下列', '何者', '正確', '？']\n['民眾', '身體', '沒有', '下列', '什麼', '問題', '?']\n['民眾', '比較', '不', '需要', '注意', '下列', '哪個', '問題', '?']\n['請問', '下列', '何項', '疾病', '不是', '醫師', '建議', '民眾', '每三個', '月', '要', '追', '蹤', '？']\n['下列', '何者', '不是', '民眾', '的', '身體', '狀況', '？']\n['下列', '敘述', '何者', '錯誤', '？']\n['下列', '敘述', '何者', '有誤', '?']\n['下列', '何者', '不是', '這次', '民眾', '要', '檢查', '的', '項目', '？']\n['民眾', '照顧', '傷口', '的', '方式', '下列', '何者', '錯誤', '?']\n['下列', '何者', '不是', '民眾', '的', '身體', '狀況', '？']\n['民眾', '沒得過', '下列', '何者', '病症', '？']\n['請問', '醫師', '沒有', '開給', '民眾', '什麼藥', '？']\n['下列', '何者', '不是', '民眾', '的', '身體', '狀況', '？']\n['請問', '民眾', '今天', '領的藥', '是', '第幾瓶', '？']\n['下列', '何者', '是', '醫師', '指示', '民眾', '抗生素', '的', '服用', '方式', '？']\n['請問', '關於', '民眾', '伴侶', '的', '敘述', '，', '下列', '何項', '正確', '？']\n['請問', '醫師', '建議', '民眾', '吃', '何種', '食物', '？']\n['醫生', '叮囑', '民眾', '下列', '何者', '先', '不要', '再', '繼續', '吃', '？']\n['關於', '此次', '看診', '替換', '用藥', '下列', '何者', '錯誤', '?']\n['下列', '關於', '民眾', '的', '敘述', '，', '何者', '正確', '？']\n['民眾', '吃藥', '吃', '了', '大半年', '了', '，', '沒有', '以下', '什麼', '心得', '？']\n['請問', '急性', 'A型', '肝炎', '的', '是', '怎麼', '發生', '的', '？']\n['請問', '下列', '敘述', '何者', '正確', '？']\n['請問', '民眾', '以前', '有', '曾經', '被', '診斷', '出有', '什麼', '疾病', '？']\n['民眾', '的', '身體', '沒有', '下列', '甚麼', '問題', '?']\n['民眾', '沒有', '下列', '何種', '問題', '?']\n['下列', '何者', '不是', '民眾', '的', '身體', '狀況', '？']\n['下列', '何者', '不是', '民眾', '的', '身體', '狀況', '？']\n['請問', '依', '需求', '吃', '最大', '的', '門檻', '是', '？']\n['下列', '何者', '不是', '民眾', '的', '性行為', '習慣', '？']\n['下列', '何者', '是', '民眾', '吃藥', '後', '的', '身體', '狀況', '？']\n['下列', '敘述', '何錯誤', '?']\n['關於', '此次', '看診', '何者', '有誤', '？']\n['下列', '何者', '是', '民眾', '戴套', '的', '比例', '？']\n['下列', '何者', '是', '民眾', '雷射', '的', '部位', '？']\n['民眾', '的', '症狀', '不', '包含', '下列', '何者', '?']\n['下列', '何者', '不是', '民眾', '曾經', '的', '身體', '狀況', '？']\n['下列', '敘述', '何者', '有誤', '?']\n['醫師', '沒開', '哪種', '藥給', '民眾', '？']\n['民眾', '當天', '看', '完診', '後', '半夜', '盜汗', '幾次', '？']\n['下列', '何者', '不是', '民眾', '最近', '的', '身體', '狀況', '？']\n['請問', '下列', '何者', '不是', '醫師', '這次', '的', '治療', '方式', '？']\n['醫師', '建議', '民眾', '要', '多', '吃', '的', '東西', '下列', '何者', '錯誤', '？']\n['請問', '民眾', '疼痛', '的', '部位', '是', '？']\n['請問', '醫師', '建議', '民眾', '維持', '多久', '一次', '抽血', '的', '頻率', '？']\n['請問', '民眾', '這個', '月', '有', '約', '了', '幾次', '性行為', '？']\n['如果', '民眾', '要', '吃', '任務型', '的', 'PrEP', '下列', '何者', '敘述', '錯誤', '?']\n['請問', '民眾', '先前', '有施', '打', '何種', '藥物', '？']\n['關於', '民眾', '的', '敘述', '，', '何者', '錯誤', '？']\n['請問', '民眾', '的', '眼睛', '沒有', '下列', '何項', '情形', '？']\n['民眾', '不曾', '向', '哪些', '單位', '求', '診過', '？']\n['關於', '民眾', '的', '睡眠', '狀況', '不', '包含', '下列', '何者', '?']\n['請問', '民眾', '這個', '月', '有', '性行為', '嗎', '？']\n['下列', '何者', '不是', '民眾', '近期', '的', '身體', '狀況', '？']\n['民眾', '以', '下列', '何者', '方式', '把', '磷', '降下', '來', '?']\n['下列', '何者', '不是', '民眾', '的', '身體', '狀況', '？']\n['請問', '下列', '何者', '敘述', '錯誤', '？']\n['請問', '醫師', '建議', '民眾', '抽血', '追', '蹤', '下列', '何項', '指數', '？']\n['請問', '為何', '醫師', '建議', '民眾', '順便', '打', '流感', '預防針', '？']\n['醫生', '對', '民眾', '的', '藥物', '醫囑', '沒有', '下列', '哪一項', '？']\n['下列', '關於', '民眾', '的', '指數', '何者', '錯誤', '？']\n['請問', '為何', '民眾', '睡', '一', '睡', '頭會暈', '？']\n['請問', '醫師', '提醒', '民眾', '下次', '回診', '要', '做', '什麼', '事', '？']\n['民眾', '水果', '吃', '比', '較', '多', '時', '，', '醫師', '建議', '的', '方法', '下列', '何者', '錯誤', '？']\n['民眾', '需要', '吃', '下列', '甚麼藥', '?']\n['請問', '民眾', '的', '皮膚', '為', '何會', '過敏', '？']\n['請問', '醫師', '建議', '民眾', '多久', '後', '回診', '？']\n['下列', '何者', '是', '民眾', '肌肝酸', '偏低', '的', '原因', '？']\n['何者', '不是', '民眾', '的', '症狀', '之一', '？']\n['請問', '甲狀腺亢', '進會', '有', '下列', '何項', '症狀', '？']\n['請問', '關於', '民眾', '的', '性', '對象', '，', '下列', '何者', '錯誤', '？']\n['關於', '神經痛', '的', '藥丸', '，', '以下', '何者', '錯誤', '？']\n['關於', '民眾', '狀況', '下列', '何者', '錯誤', '？']\n['請問', '民眾', '的', '食道', '沒有', '何種', '細菌', '？']\n['下列', '何者', '是', '民眾', '現在', '的', '病毒', '量', '指數', '？']\n['關於', '民眾', '的', '性生活', '狀態', '下列', '何者', '錯誤', '?']\n['請問', '醫師', '建議', '民眾', '又', '發燒', '了', '起來', '，', '該', '如何', '？']\n['請問', '血尿', '的', '話', '原因', '是', '？']\n['民眾', '病毒', '量', '變高', '是', '因為', '下列', '何者', '原因', '？']\n['下列', '何者', '不是', '家屬', '此次', '看診', '的', '目的', '?']\n['請問', '下列', '何者', '是', '血紅素', '高', '的', '原因', '？']\n['請問', '民眾', '沒有', '下列', '何項', '症狀', '？']\n['請問', '民眾', '之前', '開刀', '的', '地方', '都', '沒', '有', '再長', '甚麼', '？']\n['民眾', '不能', '吃', '下列', '哪個', '藥物', '？']\n['關於', '民眾', '的', '身體', '狀況', '下列', '何者', '敘述', '正確', '?']\n['下列', '何者', '不是', '吃藥', '可能', '有', '的', '副作用', '？']\n['下列', '何者', '不是', '民眾', '的', '身體', '狀況', '？']\n['民眾', '有過', '下列', '何種', '狀況', '？']\n['關於', '民眾', '的', '換藥', '醫囑', '以下', '何者', '錯誤', '?']\n['下列', '何者', '是', '促進', '血液', '循環的藥', '？']\n['請問', '要', '如何', '看體', '內', '還有', '沒有結', '核菌', '？']\n['下列', '何者', '不是', '民眾', '目前', '有', '的', '症狀', '？']\n['請問', '民眾', '的', '哪項', '指數測', '不到', '？']\n['下列', '何者', '不是', '任務型', '的', '吃藥', '方法', '？']\n['請問', '民眾', '比起', '之前', '還沒有', '開始', '吃藥', '的', '時候', '，', '沒有', '什麼', '轉變', '？']\n['醫師', '建議', '民眾', '打針', '方式', '下列', '何者', '錯誤', '？']\n['請問', '民眾', '上', '一次', '吃藥', '是', '何時', '？']\n['民眾', '的', '坐骨', '神經痛', '下列', '何者', '姿勢', '最', '不會痛', '?']\n['請問', '民眾', '下列', '何項', '疾病', '已經', '完治', '了', '？']\n['下列', '何者', '不是', '民眾', '的', '身體', '狀況', '？']\n['下列', '何者', '民眾', '的', '身體', '指數', '是', '錯誤', '的', '？']\n['請問', '下列', '何者', '不是', '醫師', '建議', '民眾', '性行為', '時要', '做', '的', '？']\n['民眾', '身體', '有', '哪些', '問題', '?']\n['請問', '民眾', '自費', '的', '藥是', '預防什麼', '疾病', '？']\n['下列', '敘述', '何者', '有誤', '？']\n['下列', '何者', '不是', '民眾', '的', '身體', '狀況', '？']\n['下列', '何者', '不是', '民眾', '抽血', '報告', '有', '檢查', '的', '項目', '？']\n['民眾', '過敏', '沒有', '發生', '以下', '哪種', '症狀', '?']\n['下列', '何者', '不是', '民眾', '的', '身體', '狀況', '？']\n['請問', '何者', '不是', '泌尿道', '感染', '的', '原因', '？']\n['民眾', '有', '下列', '哪些', '症狀', '？']\n['請問', '醫師', '建議', '民眾', '下次', '何時', '回診', '？']\n['請問', '民眾', '以前', '曾經', '有', '得過', '下列', '何項', '性病', '？']\n['請問', '民眾', '為', '何會', '肝功能', '稍', '高', '？']\n['下列', '何者', '不是', '民眾', '的', '身體', '狀況', '？']\n['下列', '何者', '不是', '醫師', '建議', '民眾', '追', '蹤', '的', '指', '數', '？']\n['請問', '流行性', '病毒', '疫苗', '做出', '來', '要', '做', '什麼', '測試', '？']\n['民眾', '決定', '藥要', '在', '哪', '時候', '吃', '？']\n['民眾', '這次', '看診', '狀況', '以下', '何者', '正確', '？']\n['下列', '敘述', '何者', '有誤', '?']\n['下列', '何種', '不是', '這次', '醫師', '開給', '民眾', '的', '藥物', '?']\n['下列', '何者', '人物', '是', '感染者', '？']\n['民眾', '的', '身體', '有', '下列', '何種', '問題', '?']\n['以下', '關於', '該', '民眾', '的', '敘述', '，', '何者', '正確', '？']\n['下列', '何者', '不是', '民眾', '的', '身體', '狀況', '？']\n['下列', '何者', '是', '骨頭', '酸痛', '的藥', '？']\n['請問', '民眾', '的', '哪項', '指數', '偏低', '，', '要', '先救', '上來', '？']\n['下列', '何者', '不是', '民眾', '下次', '回診', '時能', '做', '的', '檢查', '?']\n['下列', '關於', '民眾', '的', '敘述', '何者', '錯誤', '?']\n['會凸', '一顆', '東西', '的', '原因', '下列', '何者', '不是', '?']\n['關於', '民眾', '的', '敘述', '，', '何者', '有誤', '？']\n['下列', '何者', '不是', '醫師', '幫', '民眾', '換藥', '的', '原因', '?']\n['請問', '下列', '不是', '醫師', '建議', '民眾', '抽血', '要', '追', '蹤', '的', '指', '數', '？']\n['民眾', '增重', '的', '方式', '下列', '何者', '不', '包含', '?']\n['民眾', '因為', '什麼', '原因', '可能', '造成', '白血球', '比較', '低', '?']\n['民眾', '一天', '需吃', '幾顆藥', '？']\n['下列', '何種', '抗體', '民眾', '沒有', '？']\n['請問', '民眾', '為何', '嘴巴', '就', '感覺', '怪怪的', '？']\n['下列', '何者', '是', '影響', '民眾', '保護力', '的', '可能', '原因', '?']\n['關於', '民眾', '大腸', '息肉', '的', '狀況', '下列', '何者', '正確', '?']\n['下列', '何者', '是', '醫師', '建議', '的', '飲食', '？']\n['下列', '何者', '不是', '民眾', '的', '身體', '狀況', '？']\n['下列', '關於', '民眾', '的', '敘述', '何者', '正確', '?']\n['下列', '何者', '不是', '身體', '局部', '發炎', '吃', '的', '藥會', '有', '的', '情形', '？']\n['下列', '何者', '是', '民眾', '與', '其', '男友', '的', '相處', '過程', '?']\n['假如', '民眾', '再', '發燒', '的', '話', '，', '以下', '何者', '錯誤', '？']\n['何者', '不是', '接下', '來', '民眾', '需要', '看', '的', '科別', '?']\n['請問', '醫師', '建議', '民眾', '控制', '下列', '何項', '指數', '？']\n['請問', '民眾', '因為', '何種', '狀況', '來', '看診', '？']\n['下列', '何者', '不是', '民眾', '每三個', '月', '可以', '去', '做', '的', '事', '？']\n['請問', '醫師', '建議', '民眾', '要', '打什麼', '疫苗', '？']\n['請問', '民眾', '指數', '在', '低標', '的', '最邊', '緣', '？']\n['請問', '下列', '何者', '是', '民眾', '吃藥', '忘記', '的', '次數', '？']\n['關於', '民眾', '的', '身體', '狀況', '下列', '何者', '錯誤', '？']\n['何者', '不是', '目前', '民眾', '的', '症狀', '?']\n['請問', '何者', '不是', '醫師', '建議', '民眾', '保養', '身體', '的', '方法', '？']\n['請問', '民眾', '目前', '有', '何項', '疾病', '？']\n['請問', '民眾', '吃', '了', '抗病毒', '的', '藥沒有', '以下', '何種', '情況', '？']\n['請問', '下列', '何者', '不是', '民眾', '此次', '看診', '的', '目的', '？']\n['民眾', '有什麼', '指數', '異常', '的', '問題', '?']\n['關於', '民眾', '抽血', '下列', '何者', '錯誤', '？']\n['請問', '以下', '關於', '民眾', '的', '性生活', '，', '何者', '錯誤', '？']\n['下列', '何者', '不是', '這款', '藥物', '的', '副作用', '？']\n['下列', '何者', '民眾', '最近', '身體', '的', '哪', '一項', '症狀', '很', '嚴重', '？']\n['請問', '醫師', '沒有', '建議', '建議', '民眾', '追', '蹤', '下列', '何項', '指數', '？']\n['請問', 'HPV', '不能', '預防', '下列', '何項', '疾病', '？']\n['下列', '敘述', '何者', '錯誤', '？']\n['下列', '敘述', '何者', '錯誤', '？']\n['下列', '何者', '不是', '民眾', '的', '身體', '狀況', '？']\n['下列', '何者', '不是', '天天', '吃藥', '這種', '吃法', '的', '特點', '？']\n['下列', '何者', '不是', '民眾', '抽血', '要驗', '的', '指數', '？']\n['請問', '民眾', '正在', '治療', '下列', '何項', '疾病', '？']\n['民眾', '的', '身體', '最近', '有什麼', '問題', '?']\n['請問', '關於', '民眾', '的', '性關', '係', '何者', '正確', '？']\n['請問', '下列', '敘述', '何者', '錯誤', '？']\n['請問', '民眾', '覺得', '吃藥', '這件', '事情', '沒有', '什麼', '心得', '？']\n['請問', '民眾', '血糖', '指數', '多少', '？']\n['下列', '何者', '是', '民眾', '的', '身體', '狀況', '？']\n['請問', '下列', '何者', '不是', '這款藥', '的', '優點', '？']\n['請問', '個管師', '建議', '民眾', '保護', '自己', '的', '方式', '，', '下列', '何項', '錯誤', '？']\n['下列', '何者', '可能', '是', '導致', '民眾', '睡眠', '變來', '變去', '的', '原因', '?']\n['下列', '何者', '不是', '民眾', '的', '身體', '狀況', '？']\n['下列', '何者', '不是', '民眾', '的', '身體', '狀況', '？']\n['請問', '民眾', '從', '加入', '開始', '後', '，', '心態', '上面', '沒有', '甚麼', '差別', '？']\n['請問', '關於', '民眾', '的', '身體', '指數', '，', '下列', '何者', '錯誤', '？']\n['關於', '民眾', '的', '身體', '狀況', '下列', '何者', '錯誤', '?']\n['請問', '醫師', '建議', '民眾', '可以', '吃', '何種', '食物', '？']\n['醫師', '建議', '民眾', '的', '保護', '方式', '下列', '何者', '錯誤', '?']\n['下列', '何者', '是', '民眾', '的', '吃藥', '方式', '？']\n['請問', '民眾', '的', '身體', '沒有', '什麼', '症狀', '？']\n['關於', '民眾', '腰傷', '沒有', '下列', '何者', '症狀', '？']\n['關於', '民眾', '的', '過敏', '發癢', '下列', '何者', '不是', '醫師', '的', '建議', '?']\n['關於', '民眾', '的', '狀況', '下列', '何者', '錯誤', '?']\n['下列', '何者', '不是', '民眾', '的', '做過', '的', '治療', '？']\n['下列', '何者', '不是', '民眾', '漏藥', '的', '數量', '？']\n['民眾', '與', '伴侶', '的', '性關', '係', '模式', '不', '包含', '下列', '哪個', '?']\n['請問', '下列', '不是', '醫師', '建議', '民眾', '的', '行為', '？']\n['關於', '民眾', '腫瘤', '的', '敘述', '，', '何者', '有誤', '？']\n['請問', '下列', '何者', '不是', '醫師', '建議', '民眾', '下次', '要', '檢驗', '的', '數值', '？']\n['醫師', '開了類', '固醇', '民眾', '出現', '怎樣', '的', '變化', '?']\n['請問', '下列', '關於', '民眾', '身體', '的', '指數', '何者', '不正', '確', '？']\n['請問', '民眾', '跟', '以前', '沒有', '在', '吃藥', '的', '時候', '比', '，', '沒有', '什麼', '心得', '？']\n['下列', '何者', '不是', '民眾', '的', '身體', '狀況', '？']\n['下列', '何者', '不是', '民眾', '的', '身體', '狀況', '？']\n['下列', '何者', '可能', '是', '民眾', '過去', '前半年', '一直', '發燒', '的', '原因', '?']\n['下列', '何者', '不是', '民眾', '的', '身體', '狀況', '？']\n['請問', '下列', '何者', '不是', '民眾', '的', '狀況', '？']\n['民眾', '認為', '兩次', '昏倒', '的', '原因', '下列', '何者', '不是', '?']\n['民眾', '以前', '沒有', '什麼', '習慣', '?']\n['請問', '醫師', '建議', '民眾', '注意', '一點', '，', '不要', '去', '撞', '到', '，', '是', '因為', '？']\n['哪個', '選項', '不是', '民眾', '身體', '上', '遇到', '的', '問題', '？']\n['下列', '敘述', '何者', '有誤', '?']\n['請問', '民眾', '的', '檢查', '報告', '沒有', '發現', '什麼', '問題', '？']\n['請問', '下列', '何者', '不是', '今天', '抽血', '要驗', '的', '項目', '？']\n['民眾', '的', '身體', '沒有', '下列', '何種', '問題', '？']\n['請問', '下列', '何者', '不是', '民眾', '會', '忘', '記吃藥', '的', '原因', '？']\n['請問', '民眾', '會癢', '的', '地方', '不是', '什麼', '疾病', '？']\n['請問', '民眾', '擔心', '一直', '打會', '影響', '哪個', '器官', '？']\n['下列', '何者', '不是', '民眾', '的', '身體', '狀況', '？']\n['下列', '何者', '不是', '民眾', '的', '身體', '狀況', '？']\n['下列', '關於', '民眾', '的', '敘述', '是', '錯誤', '的', '？']\n['下列', '何者', '不是', '醫師', '此次', '開給', '民眾', '的藥', '?']\n['民眾', '身體', '沒有', '以下', '哪種', '症狀', '？']\n['關於', '民眾', '的', '敘述', '何者', '有誤', '?']\n['請問', '醫師', '建議', '民眾', '追', '蹤', '下列', '何項', '指數', '？']\n['下列', '何者', '不是', '民眾', '的', '身體', '狀況', '？']\n['請問', '民眾', '有', '下列', '何者', '疾病', '？']\n['關於', '此次', '看診', '的', '內容', '，', '何者', '有誤', '？']\n['請問', '民眾', '要', '追', '蹤', '下列', '何項', '疾病', '？']\n['關於', '民眾', '的', '性生活', '下列', '何者', '錯誤', '？']\n['下列', '何者', '關於', '民眾', '的', '病', '徵是', '錯誤', '的', '？']\n['下列', '何者', '不是', '民眾', '要', '檢查', '的', '項目', '？']\n['請問', '關於', '原廠藥', '，', '下列', '何者', '敘述', '錯誤', '？']\n['請問', '下列', '哪個', '選項', '不是', '民眾', '此次', '看診', '的', '情況', '?']\n['下列', '敘述', '何者', '錯誤', '？']\n['醫師', '建議', '民眾', '施打', '下列', '哪種', '病', '的', '疫苗', '?']\n['請問', '對', '於', '民眾', '的', '敘述', '下列', '何者', '錯誤', '？']\n['請問', '民眾', '這次', '疾病', '拖', '了', '多久', '？']\n['民眾', '眼睛', '看不到', '給兩間', '眼科', '診斷', '出', '的', '結果', '下列', '何者', '不', '包含', '?']\n['關於', '民眾', '的', '檢查', '，', '何者', '有誤', '？']\n['請問', '下列', '關於', '肝炎', '的', '敘述', '，', '何者', '錯誤', '？']\n['請問', '何種', '性行為', '頻率', '下', '醫師', '建議', '民眾', '每天', '吃藥', '？']\n['請問', '民眾', '今天', '抽血', '不是', '要', '追', '蹤', '下列', '何項', '指數', '？']\n['下列', '關於', '此次', '看診', '的', '敘述', '，', '何者', '錯誤', '?']\n['請問', '下列', '何者', '是', '這次', '醫師', '開給', '民眾', '的', '處方藥', '？']\n['下列', '何者', '不是', '民眾', '現在', '的', '身體', '狀況', '？']\n['關於', '民眾', '胸口', '下列', '何者', '症狀', '錯誤', '?']\n['關於', '民眾', '的', '傷口', '狀況', '下列', '何者', '錯誤', '?']\n['下列', '何者', '是', '民眾', '的', 'CD4', '數值', '？']\n['請問', '醫師', '沒有', '建議', '做', '下列', '何項', '檢查', '？']\n['請問', '民眾', '沒有', '下列', '什麼', '問題', '?']\n['何者', '不是', '目前', '民眾', '的', '症狀', '?']\n['下列', '何者', '關於', '民眾', '性生活', '的', '敘述', '是', '錯誤', '的', '？']\n['請問', '為何', '醫師', '的', '處方', '中', '有', '保肝片', '？']\n['下列', '何者', '敘述', '關於', '民眾', '最近', '的', '性行為', '是', '錯誤', '的', '？']\n['請問', '下列', '何者', '是', '醫師', '開給', '民眾', '的藥', '？']\n['請問', '民眾', '為', '何會', '拉肚子', '？']\n['下列', '何者', '不是', '民眾', '的', '身體', '狀況', '？']\n['下列', '何者', '不是', '民眾', '的', '身體', '狀況', '？']\n['請問', '民眾', '目前', '的', '性生活', '狀態', '下列', '何者', '錯誤', '？']\n['請問', '以下', '何者', '是', '民眾', '復', '健', '的', '部位', '？']\n['請問', '醫師', '建議', '民眾', '感冒', '要少', '做', '什麼', '事', '？']\n['請問', '醫師', '沒有', '建議', '民眾', '追', '蹤', '下列', '何項', '指數', '？']\n['請問', '為何', '民眾', '大部分', '的', '時候', '不太戴套', '？']\n['民眾', '吃', '特別性', '藥物', '有', '哪項', '的', '身體', '狀況', '？']\n['下列', '何者', '不是', '民眾', '的', '身體', '狀況', '？']\n['請問', '民眾', 'HPV', '疫苗', '已施', '打', '完', '第幾劑', '？']\n['民眾', '上次', '看診', '發炎', '指數', '較', '高', '的', '原因', '為何', '？']\n['關於', '民眾', '的', '醫囑', '更改', '下列', '何者', '錯誤', '?']\n['醫師', '建議', '跟', '什麼', '有關', '的', '藥物', '要', '減量', '?']\n['下列', '何者', '不是', '醫師', '這次', '開的藥', '？']\n['請問', '吃', '這個藥', '最高', '門檻', '是', '？']\n['請問', '民眾', '像', '性行為', '的', '話', '，', '現在', '還會', '戴套', '嗎', '？']\n['請問', '醫師', '今天', '沒有', '開什麼藥', '？']\n['民眾', '哪些', '身體', '指數', '較', '不', '正常', '？']\n['請問', '民眾', '下列', '何項', '疾病', '的', '指數', '較', '高', '？']\n['關於', '民眾', '不是', '透過', '下列', '何種', '方式', '降低', '發炎', '指數', '?']\n['下列', '哪個', '與', '民眾', '的', '身體', '狀態', '不符', '？']\n['請問', '民眾', '下次', '回診', '是', '何時', '？']\n['請問', '該', '民眾', '下次', '不', '需要', '做什麼', '檢查', '？']\n['下列', '何者', '關於', '民眾', '的', '敘述', '是', '正確', '的', '？']\n['下列', '何者', '不是', '民眾', '的', '身體', '狀況', '？']\n['請問', '下列', '敘述', '何者', '正確', '？']\n['下列', '何者', '是', '民眾', '打的針', '？']\n['下列', '何者', '不是', '民眾', '藥施', '打', '的', '疫苗', '?']\n['民眾', '的', '抽血', '檢查', '報告', '下列', '何者', '錯誤', '？']\n['請問', '如果', '吃藥', '想', '吐', '不能', '用', '何者', '方式', '緩解', '？']\n['下列', '何者', '不是', '民眾', '的', '身體', '狀況', '？']\n['民眾', '提醒', '自己', '吃藥', '的', '方法', '下列', '何者', '錯誤', '？']\n['請問', '民眾', '每天', '上網', '打卡', '不用', '紀錄', '什麼', '？']\n"
     ]
    }
   ],
   "source": [
    "import jieba\n",
    "from loader import *\n",
    "\n",
    "doc, q, cho, ans = json_parser('./data/train_fold0.json')\n",
    "\n",
    "jieba.load_userdict('./data/dict.txt') \n",
    "\n",
    "for c in q:\n",
    "    print(jieba.lcut(c))"
   ]
  },
  {
   "cell_type": "code",
   "execution_count": null,
   "metadata": {},
   "outputs": [],
   "source": [
    "for ele in ids[0]:\n",
    "    print(    tokenizer.decode(ele))\n"
   ]
  },
  {
   "cell_type": "code",
   "execution_count": null,
   "metadata": {},
   "outputs": [],
   "source": [
    "tokenizer.decode(ids[1])"
   ]
  },
  {
   "cell_type": "markdown",
   "metadata": {},
   "source": [
    "## Model"
   ]
  },
  {
   "cell_type": "code",
   "execution_count": null,
   "metadata": {},
   "outputs": [],
   "source": [
    "h = model(**encoding).last_hidden_state"
   ]
  },
  {
   "cell_type": "code",
   "execution_count": null,
   "metadata": {},
   "outputs": [],
   "source": [
    "from transformers.modeling_utils import SequenceSummary\n"
   ]
  },
  {
   "cell_type": "code",
   "execution_count": null,
   "metadata": {},
   "outputs": [],
   "source": [
    "s = SequenceSummary(config)\n",
    "getattr(config, 'summary_type', 'last')"
   ]
  },
  {
   "cell_type": "code",
   "execution_count": null,
   "metadata": {},
   "outputs": [],
   "source": [
    "import torch\n",
    "\n",
    "a = torch.randn(2,3,7)\n",
    "a\n"
   ]
  },
  {
   "cell_type": "code",
   "execution_count": null,
   "metadata": {},
   "outputs": [],
   "source": [
    "torch.cat([a,a,a], dim=2).shape"
   ]
  },
  {
   "cell_type": "code",
   "execution_count": null,
   "metadata": {},
   "outputs": [],
   "source": [
    "index = torch.tensor([\n",
    "    [ 1,2,1 ],\n",
    "    [ 1,2,2 ],\n",
    "])\n",
    "\n",
    "max_val = [a.index_select(1, ele[1])[ele[0]] for ele in enumerate(index)]\n",
    "# a.index_select(1, index)\n",
    "max_val"
   ]
  },
  {
   "cell_type": "code",
   "execution_count": null,
   "metadata": {},
   "outputs": [],
   "source": [
    " torch.cat(max_val).view(2,-1, 7)"
   ]
  },
  {
   "cell_type": "code",
   "execution_count": null,
   "metadata": {},
   "outputs": [],
   "source": [
    "# MEM "
   ]
  },
  {
   "cell_type": "code",
   "execution_count": null,
   "metadata": {},
   "outputs": [],
   "source": [
    "from transformers import AutoModel, AutoConfig\n",
    "\n",
    "model_name = 'hfl/chinese-xlnet-base'\n",
    "\n",
    "config = AutoConfig.from_pretrained(\n",
    "        model_name,\n",
    "        n_layer=3,\n",
    ")\n",
    "query_encoder = AutoModel.from_pretrained(\n",
    "        model_name,\n",
    "        config=config,\n",
    ")\n",
    "\n"
   ]
  },
  {
   "cell_type": "code",
   "execution_count": 47,
   "metadata": {},
   "outputs": [
    {
     "output_type": "execute_result",
     "data": {
      "text/plain": [
       "tensor([[[ 0.0666, -0.3275],\n",
       "         [ 0.6962,  0.3852],\n",
       "         [ 0.7146,  1.1341]],\n",
       "\n",
       "        [[ 1.0068,  1.7619],\n",
       "         [ 0.8368, -0.3765],\n",
       "         [ 0.3889, -1.3195]],\n",
       "\n",
       "        [[-1.1517,  1.3820],\n",
       "         [ 1.5773, -1.3607],\n",
       "         [ 0.0523,  0.0858]],\n",
       "\n",
       "        [[ 0.9616,  0.3363],\n",
       "         [ 0.4100, -0.9522],\n",
       "         [-1.6811, -0.6102]],\n",
       "\n",
       "        [[-0.7779,  0.2164],\n",
       "         [-0.1804,  0.9739],\n",
       "         [-0.1297, -1.6887]]])"
      ]
     },
     "metadata": {},
     "execution_count": 47
    }
   ],
   "source": [
    "q = torch.randn((2,50,768))\n",
    "logits = torch.randn((5,3,2))\n",
    "c_mask = torch.empty((2,300)).random_(2)\n",
    "logits"
   ]
  },
  {
   "cell_type": "code",
   "execution_count": 49,
   "metadata": {},
   "outputs": [
    {
     "output_type": "execute_result",
     "data": {
      "text/plain": [
       "tensor([2, 0, 0, 0, 1])"
      ]
     },
     "metadata": {},
     "execution_count": 49
    }
   ],
   "source": [
    "\n",
    "logits = logits.view(-1, 3, 2)\n",
    "pred = torch.max(logits, dim=1).indices\n",
    "# print(pred.shape)\n",
    "pred = pred[:, 1]\n",
    "pred\n"
   ]
  },
  {
   "cell_type": "code",
   "execution_count": 43,
   "metadata": {},
   "outputs": [
    {
     "output_type": "execute_result",
     "data": {
      "text/plain": [
       "torch.Size([2, 50, 768])"
      ]
     },
     "metadata": {},
     "execution_count": 43
    }
   ],
   "source": [
    "att(q, c, c_mask, c_mask).shape"
   ]
  },
  {
   "cell_type": "code",
   "execution_count": null,
   "metadata": {},
   "outputs": [],
   "source": []
  }
 ],
 "metadata": {
  "kernelspec": {
   "name": "python3",
   "display_name": "Python 3.7.10 64-bit ('aicup': conda)"
  },
  "language_info": {
   "codemirror_mode": {
    "name": "ipython",
    "version": 3
   },
   "file_extension": ".py",
   "mimetype": "text/x-python",
   "name": "python",
   "nbconvert_exporter": "python",
   "pygments_lexer": "ipython3",
   "version": "3.7.10"
  },
  "metadata": {
   "interpreter": {
    "hash": "ca5915a2c02dea2c8acf4e447856dc800933eee93a34a922b88f60d8ef1a4460"
   }
  },
  "interpreter": {
   "hash": "ca5915a2c02dea2c8acf4e447856dc800933eee93a34a922b88f60d8ef1a4460"
  }
 },
 "nbformat": 4,
 "nbformat_minor": 4
}