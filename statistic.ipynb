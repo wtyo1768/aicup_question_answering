{
 "cells": [
  {
   "cell_type": "code",
   "execution_count": 8,
   "metadata": {},
   "outputs": [],
   "source": [
    "import pandas as pd\n",
    "from loader import *\n",
    "import matplotlib.pyplot as plt\n",
    "import jieba\n",
    "import jieba.analyse\n",
    "\n"
   ]
  },
  {
   "cell_type": "code",
   "execution_count": 25,
   "metadata": {},
   "outputs": [],
   "source": [
    "def question_semantic(query):\n",
    "    context = ['沒有', '錯誤', '不正確', '不是', '有誤', '不曾', '不包含', '測不到']\n",
    "    label = []\n",
    "    for q in query:\n",
    "        for v in context:\n",
    "            if(q.find(v)!=-1):\n",
    "                label.append(0)\n",
    "                break\n",
    "            elif v==context[-1]: \n",
    "                label.append(1)\n",
    "    return label\n"
   ]
  },
  {
   "cell_type": "code",
   "execution_count": 17,
   "metadata": {},
   "outputs": [],
   "source": [
    "doc, q, cho, ans = json_parser()"
   ]
  },
  {
   "cell_type": "code",
   "execution_count": 26,
   "metadata": {},
   "outputs": [],
   "source": [
    "q_label = question_semantic(q)"
   ]
  },
  {
   "cell_type": "code",
   "execution_count": 27,
   "metadata": {},
   "outputs": [
    {
     "output_type": "execute_result",
     "data": {
      "text/plain": [
       "[('下列關於民眾的敘述，何者有誤？', 0),\n",
       " ('下列關於民眾敘述何者錯誤?', 0),\n",
       " ('關於民眾戴套的觀念，何者有誤?', 0),\n",
       " ('下列關於民眾敘述，何者錯誤？', 0),\n",
       " ('下列敘述何者錯誤？', 0),\n",
       " ('關於民眾的敘述，何者錯誤？', 0),\n",
       " ('下列敘述何者錯誤？', 0),\n",
       " ('關於民眾的性生活下列何者正確？', 1),\n",
       " ('下列何者不是民眾保護自己的方式？', 0),\n",
       " ('下列敘述何者有誤?', 0),\n",
       " ('請問下列何者不是醫師建議民眾性行為時保護自己的方式？', 0),\n",
       " ('下列何者是民眾目前PrEP的吃法？', 1),\n",
       " ('請問HIV對生活上面沒有什麼影響？', 0),\n",
       " ('下列何者是PrEP可以預防的性傳染病？', 1),\n",
       " ('關於民眾這個月性生活的敘述下列何者錯誤？', 0),\n",
       " ('請問下列何者不是個管師建議民眾性行為時的預防方式？', 0),\n",
       " ('請問如果連續吃藥的話，要吃幾天才會有保護效力？', 1),\n",
       " ('關於民眾的敘述何者有誤?', 0),\n",
       " ('下列選項何者正確?', 1),\n",
       " ('民眾得梅毒是因為下列何者原因？', 1),\n",
       " ('關於民眾目前的性生活下列何者正確？', 1),\n",
       " ('請問民眾一次吃兩顆藥會有何種反應？', 1),\n",
       " ('下列何者不是民眾這個月性行為的狀況？', 0),\n",
       " ('下列何者是PrEP可以預防的疾病？', 1),\n",
       " ('請問關於PrEP的敘述，下列何者是錯誤的？', 0),\n",
       " ('下列何者不是肉眼看得到的性傳染疾病？', 0),\n",
       " ('民眾目前的情況下列何者正確？', 1),\n",
       " ('對於PrEP的敘述下列何者正確？', 1),\n",
       " ('請問醫師建議民眾第一個月要如何吃藥？', 1),\n",
       " ('下列何者是民眾這次抽血要驗的指數？', 1),\n",
       " ('關於民眾的敘述，何者有誤？', 0),\n",
       " ('請問民眾決定要買何種藥？', 1),\n",
       " ('下列何者不是任務型的吃法？', 0),\n",
       " ('請問PrEP只能預防哪種疾病？', 1),\n",
       " ('民眾性經驗敘述下列何者正確？', 1),\n",
       " ('關於民眾的敘述何者錯誤?', 0),\n",
       " ('下列敘述何者有誤?', 0),\n",
       " ('關於病毒敘述下列何者錯誤？', 0),\n",
       " ('關於Prep吃法下列何者錯誤？', 0),\n",
       " ('民眾從任務型改成每天吃PrEP的原因下列何者不是？', 0),\n",
       " ('民眾吃了PrEP之後對他生活的影響？', 1),\n",
       " ('下列敘述何者錯誤？', 0),\n",
       " ('請問民眾最近感染何項疾病？', 1),\n",
       " ('下列何者不是預防感染HIV的重要因素？', 0),\n",
       " ('下列敘述何者關於民眾這個月的性行為是錯誤的？', 0),\n",
       " ('下列關於民眾的敘述，何者錯誤？', 0),\n",
       " ('關於民眾的性生活下列何者不正確?', 0),\n",
       " ('請問何者不是個管師建議民眾性行為的注意事項？', 0),\n",
       " ('下列何者是民眾的身體狀況？', 1),\n",
       " ('請問民眾這個月的性行為次數有幾次？', 1),\n",
       " ('請問要經過多久才能再抽血？', 1),\n",
       " ('關於民眾這個月的性行為，下列何者錯誤？', 0),\n",
       " ('請問民眾吃這款藥可以預防何種疾病？', 1),\n",
       " ('下列何者關於民眾的性行為敘述何者錯誤？', 0),\n",
       " ('關於民眾的敘述何者有誤？', 0),\n",
       " ('關於民眾的敘述何者有誤?', 0),\n",
       " ('請問關於民眾的性關係和性行為，下列何者正確？', 1),\n",
       " ('下列何者關於PrEP的敘述是正確的？', 1),\n",
       " ('下列的敘述何者錯誤？', 0),\n",
       " ('請問個管師建議民眾至少手上會有個幾顆的藥？', 1),\n",
       " ('下列關於民眾的性生活何者錯誤？', 0),\n",
       " ('請問以下關於民眾的敘述，何者正確？', 1),\n",
       " ('下列何者不是民眾的性行為狀況？', 0),\n",
       " ('請問關於個管師的建議何者是錯誤的？', 0),\n",
       " ('下列何者關於PrEP的敘述是錯誤的？', 0),\n",
       " ('請問個管師沒有建議民眾該如何降低感染風險？', 0),\n",
       " ('下列何者不是民眾這個月性行為的狀況？', 0),\n",
       " ('下列關於PrEP敘述，何者錯誤？', 0),\n",
       " ('該民眾沒有下列何種疾病？', 0),\n",
       " ('請問身體哪個部分的病毒含量最高？', 1),\n",
       " ('下列何者是民眾計畫要打的疫苗？', 1),\n",
       " ('請問何者不是民眾吃藥的時間和頻率？', 0),\n",
       " ('下列何者是民眾不戴套的原因？', 1),\n",
       " ('請問個管師建議民眾吃藥的方法，何者錯誤？', 0),\n",
       " ('請問民眾沒有在擔心什麼？', 0),\n",
       " ('請問因為下列何項疾病，民眾只能每天吃藥？', 1),\n",
       " ('下列何者不是民眾吃藥的時間？', 0),\n",
       " ('民眾參與計畫沒有下列何者注意事項？', 0),\n",
       " ('關於民眾的敘述下列何者錯誤？', 0),\n",
       " ('請問PrEP能預防哪個性傳染病？', 1),\n",
       " ('下列何者是民眾性行為當中的角色？', 1),\n",
       " ('請問民眾為什麼要吃PrEP？', 1),\n",
       " ('民眾的性生活下列何者錯誤？', 0),\n",
       " ('關於民眾伴侶敘述下列何者正確？', 1),\n",
       " ('請問民眾這個月吃幾組藥？', 1),\n",
       " ('下列何者不是民眾這個月性行為的狀況？', 0),\n",
       " ('關於民眾的敘述，何者有誤？', 0),\n",
       " ('民眾性伴侶敘述下列何者正確?', 1),\n",
       " ('民眾目前有以下何種疾病?', 1),\n",
       " ('下列敘述何者錯誤？', 0),\n",
       " ('HPV疫苗主要預防下列何種疾病？', 1),\n",
       " ('關於此次訪談的敘述，何者正確？', 1),\n",
       " ('請問醫師沒有建議民眾怎麼吃藥？', 0),\n",
       " ('下列何者不是民眾這個月的性行為狀況？', 0),\n",
       " ('下列何者不是民眾這個月吃藥的數量？', 0),\n",
       " ('下列何者是PREP可以預防的疾病？', 1),\n",
       " ('請問民眾曾經有感染過下列何項疾病？', 1),\n",
       " ('請問跟其他的性傳染病比起來，民眾比較怕得什麼疾病？', 1),\n",
       " ('請問以下敘述，下列何者錯誤？', 0),\n",
       " ('Q1.原廠藥跟學名藥差別不包含下列何者？', 0),\n",
       " ('關於民眾這個月的性生活下列何者不正確?', 0),\n",
       " ('請問醫師建議民眾如何吃藥？', 1),\n",
       " ('下列何者不是民眾這個月性行為的狀況？', 0),\n",
       " ('下列敘述何者有誤?', 0),\n",
       " ('請問民眾最近為何很久沒有吃藥？', 0),\n",
       " ('下列何者不是民眾抽血要驗的指數？', 0),\n",
       " ('請問下列何者不是吃PREP具備保護力的方法？', 0),\n",
       " ('下列何者不是民眾這個月的性行為狀況？', 0),\n",
       " ('下列關於民眾的敘述何者錯誤？', 0),\n",
       " ('下列敘述何者錯誤?', 0),\n",
       " ('民眾最近性行為次數變少是因為下列何者原因？', 1),\n",
       " ('請問PrEP可以預防何種疾病？', 1),\n",
       " ('下列何者是民眾不喜歡戴保險套的原因？', 1),\n",
       " ('請問關於民眾這個月的性行為，下列何者錯誤？', 0),\n",
       " ('請問民眾的性行為頻率？', 1),\n",
       " ('下列何者關於Prep的觀念是錯誤的？', 0),\n",
       " ('請問醫師建議民眾藥要怎麼吃？', 1),\n",
       " ('下列何者不是民眾這個月沒有吃藥的原因？', 0),\n",
       " ('下列敘述何者正確？', 1),\n",
       " ('下列敘述何者有誤？', 0),\n",
       " ('請問民眾至少要幾天才能回診？', 1),\n",
       " ('下列關於民眾的性關係，何者錯誤？', 0),\n",
       " ('關於民眾梅毒狀況下列何者錯誤？', 0),\n",
       " ('關於民眾購藥資訊下列何者正確？', 1),\n",
       " ('關於民眾的性行為下列何者錯誤？', 0),\n",
       " ('下列何者不是民眾沒有發生性行為的原因？', 0),\n",
       " ('請問民眾為何開始無套性行為？', 1),\n",
       " ('請問藥的敘述何者錯誤？', 0),\n",
       " ('關於民眾的敘述何者有誤?', 0),\n",
       " ('下列敘述何者正確?', 1),\n",
       " ('請問學名藥一顆大約多少錢？', 1),\n",
       " ('下列何者不是民眾漏藥的數量？', 0),\n",
       " ('下列何者不是民眾每三個月可以去做的事？', 0),\n",
       " ('請問醫師建議民眾維持多久一次抽血的頻率？', 1),\n",
       " ('請問如果吃藥想吐不能用何者方式緩解？', 1),\n",
       " ('請問以下關於民眾的性生活，何者錯誤？', 0),\n",
       " ('下列何者不是民眾的身體狀況？', 0),\n",
       " ('請問民眾有吃藥跟還沒有吃藥時沒有什麼不同的感覺？', 0),\n",
       " ('請問民眾的近期性行為當中會戴套嗎？', 1),\n",
       " ('請問民眾正在治療下列何項疾病？', 1),\n",
       " ('下列何者不是任務型的吃藥方法？', 0),\n",
       " ('請問民眾的性關係，何者正確？', 1),\n",
       " ('下列何者不是民眾這個月的性行為？', 0),\n",
       " ('請問何者不是民眾的身體狀況？', 0),\n",
       " ('下列何者不是民眾的性行為的習慣？', 0),\n",
       " ('請問何者是民眾選擇要戴保險套或不戴保險套的方式？', 1),\n",
       " ('請問民眾現在吃藥快超過一年，沒有什麽心得？', 0),\n",
       " ('下列關於民眾的敘述何者錯誤?', 0),\n",
       " ('下列關於民眾的敘述何者錯誤?', 0),\n",
       " ('下列敘述何者有誤?', 0),\n",
       " ('請問民眾今天抽血不是要追蹤下列何項指數？', 0),\n",
       " ('下列敘述關於民眾帶保險套的狀況是錯誤的？', 0),\n",
       " ('下列關於民眾的敘述何者正確?', 1),\n",
       " ('請問醫師建議民眾第一個月要怎麼吃藥？', 1),\n",
       " ('下列何者不是民眾要打的疫苗？', 0),\n",
       " ('下列何者不是民眾的身體狀況？', 0),\n",
       " ('請問關於民眾的性關係何者正確？', 1),\n",
       " ('下列何者不是民眾性行為使用保險套的習慣？', 0),\n",
       " ('請問民眾以前曾經有得過下列何項性病？', 1),\n",
       " ('請問依需求吃最大的門檻是？', 1),\n",
       " ('請問下列何者不是這款藥的優點？', 0),\n",
       " ('關於民眾的敘述，何者錯誤？', 0),\n",
       " ('下列關於民眾的敘述何者正確?', 1),\n",
       " ('請問民眾去出差時的吃法是？', 1),\n",
       " ('下列何者關於民眾最近的性生活是錯誤的？', 0),\n",
       " ('下列哪個不是民眾的身體症狀？', 0),\n",
       " ('關於民眾的檢查，何者有誤？', 0),\n",
       " ('請問民眾的身體沒有什麼症狀？', 0),\n",
       " ('民眾身體的哪個部位沒有問題？', 0),\n",
       " ('下列哪個與民眾的身體狀態不符？', 1),\n",
       " ('請問下列何者不是民眾的狀況？', 0),\n",
       " ('假如民眾再發燒的話，以下何者錯誤？', 0),\n",
       " ('關於神經痛的藥丸，以下何者錯誤？', 0),\n",
       " ('何者不是目前民眾的症狀?', 0),\n",
       " ('何者不是醫師開給民眾的藥?', 0),\n",
       " ('請問民眾吃這個藥會有什麼狀況？', 1),\n",
       " ('下列何者不是民眾的身體狀況？', 0),\n",
       " ('下列何者不是民眾的狀況？', 0),\n",
       " ('民眾一天需吃幾顆藥？', 1),\n",
       " ('請問過敏體質沒有什麼症狀？', 0),\n",
       " ('下列何者不是民眾的身體狀況？', 0),\n",
       " ('下列何者不是醫師這次開的藥？', 0),\n",
       " ('請問下列何者不是醫師建議民眾打的疫苗？', 0),\n",
       " ('下列何者不是民眾的狀況？', 0),\n",
       " ('下列何者不是民眾的身體狀況？', 0),\n",
       " ('下列敘述何者有誤？', 0),\n",
       " ('請問醫師開給民眾的藥是哪一個科室才能開？', 1),\n",
       " ('下列何者是民眾的身體狀況？', 1),\n",
       " ('民眾有什麼指數異常的問題?', 1),\n",
       " ('請問民眾擔心一直打會影響哪個器官？', 1),\n",
       " ('下列何者不是民眾的身體狀況？', 0),\n",
       " ('請問民眾打針打多久？', 1),\n",
       " ('下列何者不是民眾之後的治療方法？', 0),\n",
       " ('請問民眾吃了抗病毒的藥沒有以下何種情況？', 0),\n",
       " ('下列何者不是民眾的身體狀況？', 0),\n",
       " ('民眾的坐骨神經痛下列何者姿勢最不會痛?', 1),\n",
       " ('民眾痠痛的部位不包含下列何者?', 0),\n",
       " ('請問下列關於民眾身體的指數何者不正確？', 0),\n",
       " ('下列何者不是民眾的身體狀況？', 0),\n",
       " ('請問一般的病毒感染沒有哪個症狀？', 0),\n",
       " ('下列何者不是民眾的身體狀況？', 0),\n",
       " ('請問為何民眾這次生病之後更容易流汗？', 1),\n",
       " ('請問高密度膽固醇指數要多少以上才是正常值？', 1),\n",
       " ('下列何者是民眾的身體狀況？', 1),\n",
       " ('請問下列何者是血紅素高的原因？', 1),\n",
       " ('請問如果昏倒過去要怎麼處理，下列方法何者錯誤？', 0),\n",
       " ('下列何者是促進血液循環的藥？', 1),\n",
       " ('請問民眾自費的藥是預防什麼疾病？', 1),\n",
       " ('下列何者不是民眾的身體狀況？', 0),\n",
       " ('民眾的身體沒有下列甚麼問題?', 0),\n",
       " ('下列何者不是民眾下次回診主要需做的檢驗?', 0),\n",
       " ('請問下列關於肝炎的敘述，何者錯誤？', 0),\n",
       " ('下列何者不是民眾的身體狀況？', 0),\n",
       " ('下列何者民眾的身體指數是錯誤的？', 0),\n",
       " ('民眾的身體有下列何種問題?', 1),\n",
       " ('民眾需要吃下列甚麼藥?', 1),\n",
       " ('請問醫師處方的特殊藥沒有什麼功能？', 0),\n",
       " ('下列何者不是民眾的身體狀況？', 0),\n",
       " ('關於民眾的睡眠狀況不包含下列何者?', 0),\n",
       " ('下列何者可能是民眾過去前半年一直發燒的原因?', 1),\n",
       " ('下列何者可能是導致民眾睡眠變來變去的原因?', 1),\n",
       " ('請問下列何項症狀不是醫師建議民眾追蹤的？', 0),\n",
       " ('下列何者不是民眾的身體狀況？', 0),\n",
       " ('下列何者是醫師指示民眾抗生素的服用方式？', 1),\n",
       " ('關於民眾腰傷沒有下列何者症狀？', 0),\n",
       " ('關於民眾的身體狀況下列何者錯誤？', 0),\n",
       " ('請問民眾吃的抗生素造成民眾什麼困擾？', 1),\n",
       " ('下列何者是民眾肌肝酸偏低的原因？', 1),\n",
       " ('請問關於民眾的服藥方式，何者錯誤？', 0),\n",
       " ('下列何者不是民眾抽血報告有檢查的項目？', 0),\n",
       " ('請問民眾的皮膚為何會過敏？', 1),\n",
       " ('下列何者不是民眾的身體狀況？', 0),\n",
       " ('醫師沒有建議民眾做下列何者事項？', 0),\n",
       " ('民眾當天看完診後半夜盜汗幾次？', 1),\n",
       " ('下列敘述何者錯誤？', 0),\n",
       " ('關於民眾胸口下列何者症狀錯誤?', 0),\n",
       " ('關於民眾的狀況下列何者錯誤?', 0),\n",
       " ('民眾沒有做過下列何種檢查?', 0),\n",
       " ('請問下列何者敘述錯誤？', 0),\n",
       " ('民眾的抽血檢查報告下列何者錯誤？', 0),\n",
       " ('請問有甲狀腺結節可以先做什麼事？', 1),\n",
       " ('下列何者不是民眾的身體狀況？', 0),\n",
       " ('請問民眾晚上睡覺不會做什麼事？', 1),\n",
       " ('下列何者不是民眾的身體狀況？', 0),\n",
       " ('關於民眾狀況下列何者錯誤？', 0),\n",
       " ('民眾沒有下列何種問題?', 0),\n",
       " ('關於民眾的敘述何者有誤?', 0),\n",
       " ('請問民眾下列哪個部位會痠痛？', 1),\n",
       " ('下列何者是民眾住院的原因？', 1),\n",
       " ('醫師建議民眾施打下列哪種病的疫苗?', 1),\n",
       " ('下列敘述何者有誤?', 0),\n",
       " ('民眾的身體沒有下列何種問題？', 0),\n",
       " ('請問甲狀腺亢進會有下列何項症狀？', 1),\n",
       " ('下列何者食物會讓民眾拉肚子？', 1),\n",
       " ('民眾有下列哪些症狀？', 1),\n",
       " ('民眾的家屬選擇何種檢查？', 1),\n",
       " ('下列敘述何者錯誤？', 0),\n",
       " ('請問醫師提醒民眾下次回診要做什麼事？', 1),\n",
       " ('請問醫師建議民眾又發燒了起來，該如何？', 1),\n",
       " ('下列何者不是民眾的身體狀況？', 0),\n",
       " ('下列何者是醫師建議的飲食？', 1),\n",
       " ('請問該民眾下次不需要做什麼檢查？', 1),\n",
       " ('請問民眾因為哪個數值使他可以去用牙齒？', 1),\n",
       " ('請問下列何者不是醫師對民眾的建議？', 0),\n",
       " ('下列何者不是民眾的身體狀況？', 0),\n",
       " ('請問醫師沒有開給民眾什麼藥？', 0),\n",
       " ('下列何者不是民眾的身體狀況？', 0),\n",
       " ('請問以下何者是民眾復健的部位？', 1),\n",
       " ('下列何者不是民眾曾經的身體狀況？', 0),\n",
       " ('請問關於以下敘述民眾的內容何者錯誤？', 0),\n",
       " ('民眾過敏沒有發生以下哪種症狀?', 0),\n",
       " ('關於民眾的醫囑更改下列何者錯誤?', 0),\n",
       " ('關於民眾的換藥醫囑以下何者錯誤?', 0),\n",
       " ('民眾這次的狀況不包含下列何者?', 0),\n",
       " ('下列何者不是民眾目前有的症狀？', 0),\n",
       " ('醫師推斷引起民眾頻尿的問題下列何者正確？', 1),\n",
       " ('請問下列何者跟民眾血糖高沒關係？', 1),\n",
       " ('下列何者民眾最近身體的哪一項症狀很嚴重？', 1),\n",
       " ('民眾比較不需要注意下列哪個問題?', 1),\n",
       " ('下列何者不是造成民眾血糖較高的原因?', 0),\n",
       " ('民眾會掉髮的原因可能是下方哪種藥物造成？', 1),\n",
       " ('此次看診醫生為病人藥物減量到一天幾顆？', 1),\n",
       " ('請問下列何者不是醫師這次的治療方式？', 0),\n",
       " ('下列何者不是民眾的身體狀況？', 0),\n",
       " ('請問關於預防性的藥下列敘述何者錯誤？', 0),\n",
       " ('下列何者是民眾的身體狀況？', 1),\n",
       " ('請問民眾為何會拉肚子？', 1),\n",
       " ('下列何者不是民眾的身體狀況？', 0),\n",
       " ('請問民眾這次感染是因為？', 1),\n",
       " ('下列何者是民眾的身體狀況？', 1),\n",
       " ('請問民眾這次疾病拖了多久？', 1),\n",
       " ('請問民眾的食道沒有何種細菌？', 0),\n",
       " ('下列何者不是民眾的身體狀況？', 0),\n",
       " ('請問下列不是醫師建議民眾抽血要追蹤的指數？', 0),\n",
       " ('下列何者不是民眾注射過的藥劑？', 0),\n",
       " ('請問為何醫師的處方中有保肝片？', 1),\n",
       " ('請問為何民眾有點長痘痘？', 1),\n",
       " ('下列何者不是民眾的身體狀況？', 0),\n",
       " ('請問民眾的身體哪一項功能較差？', 1),\n",
       " ('民眾吃特別性藥物有哪項的身體狀況？', 1),\n",
       " ('請問民眾的身體有下列何種問題？', 1),\n",
       " ('下列關於此次看診的敘述，何者錯誤?', 0),\n",
       " ('民眾味覺跟嗅覺味道又沒有可能不是下列何者原因?', 0),\n",
       " ('下列何種不是這次醫師開給民眾的藥物?', 0),\n",
       " ('請問民眾要追蹤下列何項疾病？', 1),\n",
       " ('下列何者不是民眾的身體狀況？', 0),\n",
       " ('請問醫師建議民眾追蹤的數值？', 1),\n",
       " ('下列何者是現在民眾的身體狀況？', 1),\n",
       " ('請問下列何者不是醫師建議民眾下次要檢驗的數值？', 0),\n",
       " ('下列何者不是民眾的身體狀況？', 0),\n",
       " ('請問HPV不能預防下列何項疾病？', 1),\n",
       " ('下列何者不是民眾的身體狀況？', 0),\n",
       " ('請問醫師建議民眾看神經科追蹤下列何項疾病？', 1),\n",
       " ('下列何者不是民眾的身體狀況？', 0),\n",
       " ('請問醫師建議民眾可以吃何種食物？', 1),\n",
       " ('下列何種抗體民眾沒有？', 0),\n",
       " ('請問下列不是醫師建議民眾的行為？', 0),\n",
       " ('請問醫師建議民眾做什麼檢查？', 1),\n",
       " ('下列何者不是民眾的身體狀況？', 0),\n",
       " ('下列何者不是民眾的做過的治療？', 0),\n",
       " ('民眾水果吃比較多時，醫師建議的方法下列何者錯誤？', 0),\n",
       " ('民眾有過下列何種狀況？', 1),\n",
       " ('因為多囊腎的關係民眾受到什麼影響?', 1),\n",
       " ('民眾因為什麼原因可能造成白血球比較低?', 1),\n",
       " ('關於民眾的過敏發癢下列何者不是醫師的建議?', 0),\n",
       " ('請問醫師今天沒有開什麼藥？', 0),\n",
       " ('下列何者不是民眾禮拜五做的檢查？', 0),\n",
       " ('請問醫師建議民眾追蹤下列何項指數？', 1),\n",
       " ('下列何者不是民眾的身體狀況？', 0),\n",
       " ('民眾身體上沒有什麼問題?', 0),\n",
       " ('關於民眾的病情，何者錯誤?', 0),\n",
       " ('民眾背後凸一個東西的症狀下列何者不是?', 0),\n",
       " ('會凸一顆東西的原因下列何者不是?', 0),\n",
       " ('民眾嘴巴會長白斑是因為下列何者原因？', 1),\n",
       " ('醫師建議民眾的事項下列何者不包含？', 0),\n",
       " ('請問民眾的眼睛沒有下列何項情形？', 0),\n",
       " ('下列何者不是民眾的身體狀況？', 0),\n",
       " ('關於民眾的身體狀況下列何者敘述正確?', 1),\n",
       " ('下列何者不是民眾下次回診時能做的檢查?', 0),\n",
       " ('下列何種藥物對民眾的副作用影響最小?', 1),\n",
       " ('下列何者不是民眾出現的症狀?', 0),\n",
       " ('請問醫師建議民眾注意一點，不要去撞到，是因為？', 1),\n",
       " ('下列何者不是紫斑症的皮膚狀況？', 0),\n",
       " ('下列何者不是民眾後來需要洗腎的原因?', 0),\n",
       " ('上次民眾洗腎時沒有出現下列何者狀況?', 0),\n",
       " ('下列何者不是醫師幫民眾換藥的原因?', 0),\n",
       " ('關於民眾大腸息肉的狀況下列何者正確?', 1),\n",
       " ('關於民眾不是透過下列何種方式降低發炎指數?', 0),\n",
       " ('請問下列何者不是民眾會忘記吃藥的原因？', 0),\n",
       " ('下列何者不是民眾要年度檢查的項目？', 0),\n",
       " ('請問民眾有下列什麼身體上的狀況？', 1),\n",
       " ('關於民眾腫瘤的敘述，何者有誤？', 0),\n",
       " ('哪種水果民眾最近吃得較多？', 1),\n",
       " ('何者不是民眾的症狀之一？', 0),\n",
       " ('下列何者是不是民眾的症狀？', 0),\n",
       " ('關於此次看診何者有誤？', 0),\n",
       " ('請問下列何者是醫師開給民眾的藥？', 1),\n",
       " ('下列何者不是民眾最近去住院的原因？', 0),\n",
       " ('關於民眾的器官功能下列何者正確？', 1),\n",
       " ('醫師建議的事項下列何者錯誤？', 0),\n",
       " ('請問醫師沒有建議建議民眾追蹤下列何項指數？', 0),\n",
       " ('下列關於民眾的指數何者錯誤？', 0),\n",
       " ('請問醫師建議民眾下次何時回診？', 1),\n",
       " ('下列何者指數有回升？', 1),\n",
       " ('請問民眾有下列何者疾病？', 1),\n",
       " ('醫師建議民眾下次回診要做的事，下列何者錯誤？', 0),\n",
       " ('民眾決定藥要在哪時候吃？', 1),\n",
       " ('醫師建議民眾打針方式下列何者錯誤？', 0),\n",
       " ('民眾選擇如何治療梅毒？', 1),\n",
       " ('民眾身體有哪些問題?', 1),\n",
       " ('關於民眾的身體狀況下列何者錯誤?', 0),\n",
       " ('醫師建議跟什麼有關的藥物要減量?', 1),\n",
       " ('民眾照顧傷口的方式下列何者錯誤?', 0),\n",
       " ('關於民眾的情況下列何者錯誤?', 0),\n",
       " ('請問民眾為何去看急診？', 1),\n",
       " ('下列何者不是民眾的身體狀況？', 0),\n",
       " ('請問醫師開幾天的胃藥給民眾？', 1),\n",
       " ('關於民眾目前的身體狀況，何者有誤？', 0),\n",
       " ('下列何者不是醫師此次開給民眾的藥?', 0),\n",
       " ('何者是民眾的症狀?', 1),\n",
       " ('請問醫師建議民眾照個X光是因為？', 1),\n",
       " ('下列何者不是民眾最近的身體狀況？', 0),\n",
       " ('請問民眾會癢的地方不是什麼疾病？', 0),\n",
       " ('下列何者不是民眾的身體狀況？', 0),\n",
       " ('下列何者不是家屬此次看診的目的?', 0),\n",
       " ('民眾眼睛看不到給兩間眼科診斷出的結果下列何者不包含?', 0),\n",
       " ('關於眼睛看不到的問題下列何者敘述錯誤?', 0),\n",
       " ('關於民眾的X光下列敘述何者錯誤?', 0),\n",
       " ('關於民眾的身體狀況下列何者錯誤？', 0),\n",
       " ('請問民眾為何嘴巴就感覺怪怪的？', 1),\n",
       " ('下列何者不是這次醫師開給民眾的藥？', 0),\n",
       " ('下列何者不是這次民眾要檢查的項目？', 0),\n",
       " ('請問下列敘述何者正確？', 1),\n",
       " ('請問下列何者錯誤？', 0),\n",
       " ('民種腳腫的可能原因為下列何種？', 1),\n",
       " ('下列不是民眾有的身體狀況？', 0),\n",
       " ('請問醫師建議民眾控制下列何項指數？', 1),\n",
       " ('下列何者是民眾吃藥後的身體狀況？', 1),\n",
       " ('請問醫師建議民眾抽血追蹤下列何項指數？', 1),\n",
       " ('下列何者不是民眾的身體狀況？', 0),\n",
       " ('醫師向民眾提出的建議不包含下列何者？', 0),\n",
       " ('關於民眾的身體狀況下列何者正確？', 1),\n",
       " ('關於民眾鼻竇炎的症狀不包含下列何者?', 0),\n",
       " ('下列何者是影響民眾保護力的可能原因?', 1),\n",
       " ('請問為何醫師建議民眾順便打流感預防針？', 1),\n",
       " ('下列何者不是民眾的身體狀況？', 0),\n",
       " ('何者不是接下來民眾需要看的科別?', 0),\n",
       " ('何者不是醫師開給民眾的藥?', 0),\n",
       " ('下列何者不是民眾提早來打疫苗的原因?', 0),\n",
       " ('請問民眾先前有施打何種藥物？', 1),\n",
       " ('請問醫師建議民眾後續如何治療？', 1),\n",
       " ('關於本次看診的敘述，何者有誤?', 0),\n",
       " ('請問民眾血糖指數多少？', 1),\n",
       " ('下列何者是民眾雷射的部位？', 1),\n",
       " ('請問民眾指數在低標的最邊緣？', 1),\n",
       " ('下列何者不是民眾的身體狀況？', 0),\n",
       " ('民眾這次的症狀沒有下列哪個？', 0),\n",
       " ('民眾不能吃下列哪個藥物？', 1),\n",
       " ('關於民眾的傷口狀況下列何者錯誤?', 0),\n",
       " ('下列何種藥物對民眾的血壓有幫助?', 1),\n",
       " ('請問民眾之前開刀的地方都沒有再長甚麼？', 0),\n",
       " ('請問為何民眾肺部有稍微纖維化？', 1),\n",
       " ('請問民眾為何會肝功能稍高？', 1),\n",
       " ('下列何者是民眾腳的狀況？', 1),\n",
       " ('請問以下何者不是民眾的身體狀況？', 0),\n",
       " ('請問民眾症狀下列哪個錯誤？', 0),\n",
       " ('這次看診民眾吃得藥物下列何者錯誤？', 0),\n",
       " ('醫師要民眾先不要進行哪種運動？', 1),\n",
       " ('醫師從哪判斷民眾是恙蟲病？', 1),\n",
       " ('請問民眾沒有下列什麼問題?', 0),\n",
       " ('請問民眾今天要注射何種疫苗？', 1),\n",
       " ('下列何者是民眾的CD4數值？', 1),\n",
       " ('醫師對民眾的下次回診的建議下列何者不包含?', 0),\n",
       " ('請問醫師建議民眾要維持何項指數？', 1),\n",
       " ('下列何者是民眾免疫細胞指數？', 1),\n",
       " ('請問醫師建議民眾要打什麼疫苗？', 1),\n",
       " ('請問民眾上一次肚子不舒服看醫生是因為？', 1),\n",
       " ('請問急性A型肝炎的是怎麼發生的？', 1),\n",
       " ('請問醫師建議民眾今天要做什麼？', 1),\n",
       " ('下列何者不是民眾的身體狀況？', 0),\n",
       " ('請問為何民眾睡一睡頭會暈？', 1),\n",
       " ('下列何者不是民眾的身體狀況？', 0),\n",
       " ('請問民眾冬天時身體會有什麼狀況？', 1),\n",
       " ('請問醫師沒有建議民眾追蹤下列何項指數？', 0),\n",
       " ('下列何者不是民眾的身體狀況？', 0),\n",
       " ('請問醫師沒有開給民眾何種藥？', 0),\n",
       " ('下列何者不是民眾的身體狀況？', 0),\n",
       " ('民眾身體沒有下列什麼問題?', 0),\n",
       " ('民眾以前沒有什麼習慣?', 0),\n",
       " ('請問民眾先前有做過何項治療？', 1),\n",
       " ('下列何者不是民眾的身體狀況？', 0),\n",
       " ('民眾下次抽血哪個不是要抽得項目？', 0),\n",
       " ('關於民眾的乳癌治療下列何者錯誤？', 0),\n",
       " ('民眾上次看診發炎指數較高的原因為何？', 1),\n",
       " ('這次看診醫生懷疑民眾有鼻竇炎的原因下列何者錯誤？', 0),\n",
       " ('民眾的症狀不包含下列何者?', 0),\n",
       " ('關於此次看診替換用藥下列何者錯誤?', 0),\n",
       " ('醫師建議民眾要多吃的東西下列何者錯誤？', 0),\n",
       " ('民眾平常常吃的東西下列何者正確？', 1),\n",
       " ('請問民眾下列何項疾病已經完治了？', 1),\n",
       " ('下列何者不是民眾的身體狀況？', 0),\n",
       " ('請問民眾的哪項指數偏低，要先救上來？', 1),\n",
       " ('下列何者是民眾現在的病毒量指數？', 1),\n",
       " ('醫師建議民眾藥物要怎麼服用藥效最好？', 1),\n",
       " ('民眾的身體狀況下列何者錯誤？', 0),\n",
       " ('請問民眾一天吃藥幾次？', 1),\n",
       " ('下列何者是民眾本來的疾病？', 1),\n",
       " ('民眾認為兩次昏倒的原因下列何者不是?', 0),\n",
       " ('關於民眾血壓、心跳的問題下列何者不是調整的方式?', 0),\n",
       " ('請問民眾為何血糖會稍微高了點？', 1),\n",
       " ('下列何者不是民眾的身體狀況？', 0),\n",
       " ('請問醫師建議民眾感冒要少做什麼事？', 1),\n",
       " ('下列何者不是民眾的身體狀況？', 0),\n",
       " ('民眾的身體最近有什麼問題?', 1),\n",
       " ('下列哪個不是民眾的症狀?', 0),\n",
       " ('請問醫師這次沒有開哪種藥？', 0),\n",
       " ('下列何者不是民眾近期的身體狀況？', 0),\n",
       " ('下列何者是民眾本身就有的疾病？', 1),\n",
       " ('關於此次看診的敘述，何者有誤？', 0),\n",
       " ('請問血尿的話原因是？', 1),\n",
       " ('下列何者不是民眾要檢查的項目？', 0),\n",
       " ('請問下列何者是這次醫師開給民眾的處方藥？', 1),\n",
       " ('下列何者不是民眾現在的身體狀況？', 0),\n",
       " ('下列何者是骨頭酸痛的藥？', 1),\n",
       " ('請問醫師沒有建議做下列何項檢查？', 0),\n",
       " ('請問要如何看體內還有沒有結核菌？', 0),\n",
       " ('請問何者不是民眾的身體狀況？', 0),\n",
       " ('何者不是目前民眾的症狀?', 0),\n",
       " ('醫師此次沒有讓民眾做以下何種治療?', 0),\n",
       " ('下列何者不是民眾的症狀？', 0),\n",
       " ('民眾吃藥後從什麼時候身體開始出現脹氣？', 1),\n",
       " ('醫生叮囑民眾下列何者先不要再繼續吃？', 1),\n",
       " ('關於民眾的身體狀況下列何者不包含？', 0),\n",
       " ('請問民眾的檢查報告沒有發現什麼問題？', 0),\n",
       " ('下列何者不是民眾的身體狀況？', 0),\n",
       " ('請問何者不是醫師建議民眾追蹤的地方？', 0),\n",
       " ('下列哪個不是民眾的身體問題？', 0),\n",
       " ('請問民眾下次不用做什麼檢查？', 1),\n",
       " ('請問醫師建議民眾多久後回診？', 1),\n",
       " ('下列何者不是民眾的身體狀況？', 0),\n",
       " ('民眾腎指數升高可能原因不包含下列何種?', 0),\n",
       " ('關於民眾的腳痛下列敘述何者錯誤?', 0),\n",
       " ('請問民眾的身體狀況何者錯誤？', 0),\n",
       " ('下列何者不是民眾的眼睛狀況？', 0),\n",
       " ('民眾增重的方式下列何者不包含?', 0),\n",
       " ('下列何者不是民眾藥施打的疫苗?', 0),\n",
       " ('民眾哪些身體指數較不正常？', 1),\n",
       " ('醫師沒開哪種藥給民眾？', 1),\n",
       " ('請問下列哪個選項不是民眾此次看診的情況?', 0),\n",
       " ('請問醫師建議民眾吃何種食物？', 1),\n",
       " ('請問民眾的哪項指數測不到？', 0),\n",
       " ('民眾身體沒有以下哪種症狀？', 0),\n",
       " ('醫生對民眾的藥物醫囑沒有下列哪一項？', 0),\n",
       " ('請問醫師沒有開給民眾什麼藥？', 0),\n",
       " ('下列何者不是民眾的眼睛狀況？', 0),\n",
       " ('請問醫師建議民眾這個年紀可以做何項檢查？', 1),\n",
       " ('下列何者敘述錯誤？', 0),\n",
       " ('醫師建議民眾把下列何者藥物停掉？', 1),\n",
       " ('請問醫師沒有開何種要給民眾？', 0),\n",
       " ('下列何者不是民眾的身體狀況？', 0),\n",
       " ('民眾這次看診狀況以下何者正確？', 1),\n",
       " ('醫師叮囑民眾藥需再吃幾個禮拜？', 1),\n",
       " ('醫師建議民眾吃什麼讓細胞再製造?', 1),\n",
       " ('民眾以下列何者方式把磷降下來?', 1),\n",
       " ('醫師建議民眾可以增加的物質，下列何者不包含?', 0),\n",
       " ('請問民眾沒有下列何項症狀？', 0),\n",
       " ('下列何者不是醫師建議民眾追蹤的指數？', 0),\n",
       " ('請問流行性病毒疫苗做出來要做什麼測試？', 1),\n",
       " ('下列何者是民眾上次打的疫苗？', 1),\n",
       " ('關於民眾目前身體狀況下列何者錯誤?', 0),\n",
       " ('醫師開了類固醇民眾出現怎樣的變化?', 1),\n",
       " ('請問民眾疼痛的部位是？', 1),\n",
       " ('下列何者不是身體局部發炎吃的藥會有的情形？', 0),\n",
       " ('醫師使用什麼方法治療民眾的眼睛？', 1),\n",
       " ('醫師幫民眾安排什麼時候做腹部超音波？', 1),\n",
       " ('民眾的身體狀況下列何者錯誤？', 0),\n",
       " ('民眾沒得過下列何者病症？', 1),\n",
       " ('民眾病毒量變高是因為下列何者原因？', 1),\n",
       " ('民眾的腳下列何種不是目前的狀況?', 0),\n",
       " ('醫師對民眾的建議下列何者不包含?', 0),\n",
       " ('請問民眾因為何種狀況來看診？', 1),\n",
       " ('請問民眾下次回診是何時？', 1),\n",
       " ('請問關於民眾的身體指數，下列何者錯誤？', 0),\n",
       " ('下列何者是民眾持續做的治療？', 1),\n",
       " ('下列何者是民眾看診的主因？', 1),\n",
       " ('請問何者不是醫師建議民眾保養身體的方法？', 0),\n",
       " ('下列何者不是民眾的身體狀況？', 0),\n",
       " ('民眾不曾向哪些單位求診過？', 0),\n",
       " ('民眾打完針之後會發生哪些症狀？', 1),\n",
       " ('請問民眾這次為何血壓這麼低？', 1),\n",
       " ('下列何者不是民眾的身體狀況？', 0),\n",
       " ('請問以下關於民眾的敘述何者錯誤？', 0),\n",
       " ('下列何者不是民眾的身體指數？', 0),\n",
       " ('請問下列何者不是民眾此次看診的目的？', 0),\n",
       " ('哪個選項不是民眾身體上遇到的問題？', 0)]"
      ]
     },
     "metadata": {},
     "execution_count": 27
    }
   ],
   "source": [
    "list(zip(q, q_label))"
   ]
  },
  {
   "cell_type": "code",
   "execution_count": null,
   "metadata": {},
   "outputs": [],
   "source": [
    "doc[0]"
   ]
  },
  {
   "cell_type": "code",
   "execution_count": null,
   "metadata": {},
   "outputs": [],
   "source": [
    "frag_len = [ len(frag) for frag_doc in doc for frag in frag_doc]\n",
    "max(frag_len), min(frag_len)"
   ]
  },
  {
   "cell_type": "code",
   "execution_count": null,
   "metadata": {},
   "outputs": [],
   "source": [
    "plt.title('Fragment len')\n",
    "plt.hist(frag_len)\n",
    "plt.show()"
   ]
  },
  {
   "cell_type": "code",
   "execution_count": null,
   "metadata": {},
   "outputs": [],
   "source": [
    "allfragment_len = [sum([len(e) for e in ele]) for ele in doc]\n",
    "plt.hist(allfragment_len)\n",
    "plt.show()\n"
   ]
  },
  {
   "cell_type": "code",
   "execution_count": null,
   "metadata": {},
   "outputs": [],
   "source": []
  },
  {
   "cell_type": "code",
   "execution_count": null,
   "metadata": {},
   "outputs": [],
   "source": [
    "def cat_sents(idx, end):\n",
    "    indices = [idx]\n",
    "    head = tail = idx\n",
    "    dir = 0\n",
    "    while len(indices) != 16:\n",
    "        print(head, tail)\n",
    "        if tail+1< end and dir==0: \n",
    "            tail+=1\n",
    "            indices.append(tail)\n",
    "        elif head-1>=0 and dir==1:\n",
    "            head-=1   \n",
    "            indices.append(head)\n",
    "        dir=not dir\n",
    "    return indices"
   ]
  },
  {
   "cell_type": "code",
   "execution_count": null,
   "metadata": {},
   "outputs": [],
   "source": [
    "cat_sents(48, 50)"
   ]
  },
  {
   "cell_type": "code",
   "execution_count": null,
   "metadata": {},
   "outputs": [],
   "source": [
    "import difflib"
   ]
  },
  {
   "cell_type": "code",
   "execution_count": null,
   "metadata": {},
   "outputs": [],
   "source": [
    "difflib.SequenceMatcher(None, '123', '56161').quick_ratio()"
   ]
  },
  {
   "cell_type": "code",
   "execution_count": null,
   "metadata": {},
   "outputs": [],
   "source": [
    "import numpy as np\n",
    "a = np.array([\n",
    "    [3, 40, 20,],\n",
    "    [1, 56, 21],\n",
    "    [441, 560, 28],\n",
    "    [11, 5, 2],\n",
    "])\n"
   ]
  },
  {
   "cell_type": "code",
   "execution_count": null,
   "metadata": {},
   "outputs": [],
   "source": [
    "ind = np.argpartition(a, -3, axis=0)[-3:]\n",
    "ind\n"
   ]
  },
  {
   "cell_type": "code",
   "execution_count": null,
   "metadata": {},
   "outputs": [],
   "source": [
    "ind[:, 0]"
   ]
  },
  {
   "cell_type": "code",
   "execution_count": null,
   "metadata": {},
   "outputs": [],
   "source": [
    "ind[np.argsort(a[ind])]\n"
   ]
  },
  {
   "cell_type": "code",
   "execution_count": null,
   "metadata": {},
   "outputs": [],
   "source": [
    "import torch "
   ]
  },
  {
   "cell_type": "code",
   "execution_count": null,
   "metadata": {},
   "outputs": [],
   "source": [
    "a = torch.rand((1,2,3))\n",
    "b = torch.rand((1,3,3))\n",
    "a,b"
   ]
  },
  {
   "cell_type": "code",
   "execution_count": null,
   "metadata": {},
   "outputs": [],
   "source": [
    "torch.cat((a, b), dim=1)"
   ]
  },
  {
   "cell_type": "code",
   "execution_count": null,
   "metadata": {},
   "outputs": [],
   "source": [
    "with open('./data/stop_word.txt') as f:\n",
    "    text = f.read()\n",
    "    text = text.split('\\n')"
   ]
  },
  {
   "cell_type": "code",
   "execution_count": null,
   "metadata": {},
   "outputs": [],
   "source": [
    "[1,2] + [2,3]"
   ]
  },
  {
   "cell_type": "code",
   "execution_count": null,
   "metadata": {
    "tags": []
   },
   "outputs": [],
   "source": [
    "tags = jieba.analyse.extract_tags('醫師：我們6月30號抽血，免疫細胞指數還不錯這樣子，然後病毒量也是OK，阿血糖，糖化血色素7.2，還不錯，所以控制的還不錯，所以表示這段時間身體狀況應該還好。民眾：因為我有重訓和訓練……醫師：低密度膽固醇101是正常，是可以的，然後因為有一點點尿酸稍微高一點點，但是還不需要吃藥，就是飲食稍微注意一下就好，會造成尿酸高一點的食物稍微控制一下就好。民眾：我不知道哪些。醫師：不')\n",
    "tags"
   ]
  },
  {
   "cell_type": "code",
   "execution_count": null,
   "metadata": {},
   "outputs": [],
   "source": [
    "import spacy\n",
    "from spacy.lang.zh import Chinese\n",
    "from spacy.language import Language\n",
    "\n",
    "text = '醫師：我們6月30號抽血，免疫細胞指數還不錯這樣子，然後病毒量也是OK，阿血糖，糖化血色素7.2，還不錯，所以控制的還不錯，所以表示這段時間身體狀況應該還好。民眾：因為我有重訓和訓練……醫師：低密度膽固醇101是正常，是可以的，然後因為有一點點尿酸稍微高一點點，但是還不需要吃藥，就是飲食稍微注意一下就好，會造成尿酸高一點的食物稍微控制一下就好。民眾：我不知道哪些。醫師：不。'"
   ]
  },
  {
   "cell_type": "code",
   "execution_count": null,
   "metadata": {},
   "outputs": [],
   "source": [
    "@Language.component(\"set_custom_boundaries\")\n",
    "def set_custom_boundaries(doc):\n",
    "    \n",
    "    position = ['民眾', '個管師', '醫師', '女醫師', '護理師', '家屬', '藥師', ]\n",
    "    position = [ role+'：' for role in position] + \\\n",
    "                [ role + ele + '：' for role in position for ele in ['A', 'B', '1', '2']]\n",
    "\n",
    "    for token in doc[:-1]:\n",
    "#         print(token, token.i)\n",
    "        if token.text in position:\n",
    "            doc[token.i].is_sent_start = True\n",
    "        elif token.i>0 and doc[token.i-1].text in ['，', '？', '。', ]:\n",
    "            doc[token.i].is_sent_start = True\n",
    "        else:\n",
    "            doc[token.i].is_sent_start = False\n",
    "    return doc\n",
    "nlp = spacy.load(\"zh_core_web_sm\")\n",
    "nlp = Chinese()\n",
    "nlp = Chinese.from_config({\"nlp\": {\"tokenizer\":{\"segmenter\": \"pkuseg\"}}})\n",
    "nlp.tokenizer.initialize(pkuseg_model=\"mixed\", pkuseg_user_dict='./data/pkuseg_user_dict.txt')\n",
    "nlp.add_pipe(\"sentencizer\")\n",
    "nlp.add_pipe(\"set_custom_boundaries\")\n",
    "doc = nlp(text)\n"
   ]
  },
  {
   "cell_type": "code",
   "execution_count": null,
   "metadata": {},
   "outputs": [],
   "source": [
    "[sen.text for sen in doc.sents]"
   ]
  },
  {
   "cell_type": "code",
   "execution_count": null,
   "metadata": {},
   "outputs": [],
   "source": [
    "a = torch.tensor([\n",
    "    [\n",
    "        [1,2,3],\n",
    "        [0,0,0],\n",
    "        [3,4,3]\n",
    "    ],\n",
    "    [\n",
    "        [1,2,3],\n",
    "        [1,2,3],\n",
    "        [3,4,3]\n",
    "    ],\n",
    "], dtype=torch.float)\n",
    "b = torch.tensor([\n",
    "    [\n",
    "        [1,2,3],\n",
    "        [3,4,3]\n",
    "    ],\n",
    "    [\n",
    "        [1,2,3],\n",
    "        [3,4,3]\n",
    "    ],\n",
    "], dtype=torch.float)\n",
    "cosine_sim()(a, b)"
   ]
  },
  {
   "cell_type": "code",
   "execution_count": null,
   "metadata": {},
   "outputs": [],
   "source": [
    "cosine_sim()(a, b)"
   ]
  },
  {
   "cell_type": "code",
   "execution_count": null,
   "metadata": {},
   "outputs": [],
   "source": [
    "torch.max(cosine_sim()(a, b), 1)"
   ]
  },
  {
   "cell_type": "code",
   "execution_count": null,
   "metadata": {
    "tags": []
   },
   "outputs": [],
   "source": [
    "# output = torch.randn(2, 4, 768)\n",
    "# choi_output = torch.randn(2, 3, 768)\n",
    "cosine_sim(None)(a, b)"
   ]
  },
  {
   "cell_type": "code",
   "execution_count": null,
   "metadata": {},
   "outputs": [],
   "source": [
    "vec1=a\n",
    "vec2=b\n",
    "\n",
    "vec2 = torch.transpose(vec2, 1, 2)\n",
    "norm1 = torch.linalg.norm(vec1, dim=2)\n",
    "norm2 = torch.linalg.norm(vec2, dim=1)   \n",
    "norm1 = norm1.unsqueeze(-1).expand(2, vec1.size(1), vec1.size(2))\n",
    "norm2 = norm2.unsqueeze(2).expand(2, vec2.size(2), vec2.size(1))\n",
    "norm2 = torch.transpose(norm2, 1, 2)\n",
    "eledot = torch.matmul(torch.div(vec1, norm1), torch.div(vec2, norm2))\n",
    "\n",
    "# print(torch.mul(norm1.transpose(0, 1), norm2))\n",
    "# cos_sim = torch.div(eledot ,torch.matmul(norm1.transpose(0, 1), norm2))\n",
    "eledot"
   ]
  },
  {
   "cell_type": "code",
   "execution_count": null,
   "metadata": {},
   "outputs": [],
   "source": [
    "norm2 = norm2.unsqueeze(2).expand(2, vec2.size(2), vec2.size(1))\n",
    "norm2 = torch.transpose(norm2, 1, 2)"
   ]
  },
  {
   "cell_type": "code",
   "execution_count": null,
   "metadata": {},
   "outputs": [],
   "source": [
    "' rock '"
   ]
  },
  {
   "cell_type": "code",
   "execution_count": null,
   "metadata": {},
   "outputs": [],
   "source": [
    "from loader import QA_Dataset\n",
    "from transformers import AutoTokenizer\n",
    "config = 'hfl/chinese-xlnet-base'\n",
    "tokenizer = AutoTokenizer.from_pretrained(config)\n"
   ]
  },
  {
   "cell_type": "code",
   "execution_count": null,
   "metadata": {},
   "outputs": [],
   "source": [
    "example = QA_Dataset(tokenizer, './data/train_fold1.json').__getitem__(1)\n",
    "example['input_ids'].shape "
   ]
  },
  {
   "cell_type": "code",
   "execution_count": null,
   "metadata": {},
   "outputs": [],
   "source": [
    "tokenizer.decode(example['input_ids'][0][0])"
   ]
  },
  {
   "cell_type": "code",
   "execution_count": null,
   "metadata": {},
   "outputs": [],
   "source": []
  },
  {
   "cell_type": "code",
   "execution_count": null,
   "metadata": {},
   "outputs": [],
   "source": [
    "tokenizer.decode(ins['q_input_ids'][0])"
   ]
  },
  {
   "cell_type": "code",
   "execution_count": null,
   "metadata": {
    "tags": []
   },
   "outputs": [],
   "source": [
    "import pandas as pd\n",
    "from loader import *\n",
    "import matplotlib.pyplot as plt\n",
    "from transformers import AutoTokenizer\n",
    "\n",
    "\n",
    "config = 'hfl/chinese-xlnet-base'\n",
    "tokenizer = AutoTokenizer.from_pretrained(config)\n",
    "doc, q, cho, ans = json_parser()"
   ]
  },
  {
   "cell_type": "code",
   "execution_count": null,
   "metadata": {},
   "outputs": [],
   "source": [
    "import jieba\n",
    "jieba.load_userdict('./data/dict.txt') \n",
    "# lijieba.lcut(text))"
   ]
  },
  {
   "cell_type": "code",
   "execution_count": null,
   "metadata": {},
   "outputs": [],
   "source": [
    "def find_entity(strs, ent, dir='f'):\n",
    "    try:\n",
    "        idx = strs.index(ent)\n",
    "        idx = idx-1 if dir=='f' else idx+1\n",
    "        return strs[idx]\n",
    "    except:\n",
    "        return 0\n",
    "def query_propress(query):\n",
    "    valid_ent = ['民眾', '醫師', '個管師', '家屬']\n",
    "    rules=[ \n",
    "        {'p':'關於','dir':'b'}, {'p':'建議','dir':'f'},\n",
    "        {'p':'是', 'dir':'b'}, {'p':'不是', 'dir':'b'},\n",
    "        {'p':'請問', 'dir':'b'}\n",
    "    ]\n",
    "    processed_q = []\n",
    "    for q in query:\n",
    "        tokens = jieba.lcut(q)\n",
    "        # print(tokens)\n",
    "        res = ''\n",
    "        for ele in rules:\n",
    "            res = find_entity(tokens, ele['p'], dir=ele['dir'])  \n",
    "\n",
    "            if res in valid_ent: break\n",
    "        # Clearing invalid ent\n",
    "        if not res in valid_ent:\n",
    "            res= tokens[0] if tokens[0] in valid_ent else ''\n",
    "            \n",
    "        processed_q.append(res)\n",
    "    return processed_q\n"
   ]
  },
  {
   "cell_type": "code",
   "execution_count": null,
   "metadata": {
    "tags": []
   },
   "outputs": [],
   "source": [
    "propressed_query = query_propress(q)\n",
    "list(zip(q, propressed_query))"
   ]
  },
  {
   "cell_type": "code",
   "execution_count": null,
   "metadata": {
    "tags": []
   },
   "outputs": [],
   "source": [
    "pipe =  doc_preprocessing(config)\n",
    "d = pipe(doc, q)\n",
    "\n",
    "# ori_len = [len(window) for frag in d for window in frag['input_ids']]\n",
    "# plt.hist(ori_len, color = 'black', cumulative = False)\n",
    "# plt.show()"
   ]
  },
  {
   "cell_type": "code",
   "execution_count": null,
   "metadata": {},
   "outputs": [],
   "source": [
    "tokenizer.decode(d[0]['q_input_ids'][0])"
   ]
  },
  {
   "cell_type": "code",
   "execution_count": null,
   "metadata": {},
   "outputs": [],
   "source": [
    "plt.hist(strQ2B(ans))\n",
    "plt.show()\n"
   ]
  },
  {
   "cell_type": "markdown",
   "metadata": {},
   "source": [
    "## LOADER"
   ]
  },
  {
   "cell_type": "code",
   "execution_count": null,
   "metadata": {
    "tags": []
   },
   "outputs": [],
   "source": [
    "from torch.utils.data import DataLoader\n",
    "from loader import QA_Dataset\n",
    "from torch.nn.utils.rnn import pad_sequence\n",
    "import torch\n",
    "\n",
    "config = 'hfl/chinese-xlnet-base'\n",
    "lr = 1e-3"
   ]
  },
  {
   "cell_type": "code",
   "execution_count": null,
   "metadata": {},
   "outputs": [],
   "source": [
    "import  torch.nn.functional as F\n",
    "from torch.nn.utils.rnn import pad_sequence\n",
    "a = torch.ones(25, 300)\n",
    "b = torch.ones(22, 300)\n",
    "c = torch.ones(15, 300)\n",
    "pad_sequence([a, b, c], batch_first=True,).shape"
   ]
  },
  {
   "cell_type": "code",
   "execution_count": null,
   "metadata": {
    "collapsed": true,
    "jupyter": {
     "outputs_hidden": true
    },
    "tags": []
   },
   "outputs": [],
   "source": [
    "def fragment_pad(*dcts):\n",
    "    combined_dict = {}\n",
    "    for k in set(dcts[0]):\n",
    "        if not k=='label' and not k=='choice':\n",
    "            print(k, [d[k].shape for d in dcts])\n",
    "            combined_dict.update({\n",
    "                k:pad_sequence([d[k].squeeze(0) for d in dcts], batch_first=True)\n",
    "            })\n",
    "        if k=='label':\n",
    "             combined_dict.update({\n",
    "                'label':torch.stack([d['label'] for d in dcts]) \n",
    "             })\n",
    "    return combined_dict\n",
    "\n",
    "def collate_fn(batch):\n",
    "    batched_dict = fragment_pad(*batch)\n",
    "    return batched_dict\n",
    "\n",
    "train_ds = QA_Dataset(config, './data/Train_qa_ans.json')\n",
    "train_loader = DataLoader(\n",
    "    train_ds, \n",
    "    batch_size=4, \n",
    "    num_workers=1, \n",
    "    shuffle=True, \n",
    "    collate_fn=collate_fn\n",
    ")\n",
    "train_loader.__iter__().__next__()\n",
    "# model = QA_Model(config, lr=lr)"
   ]
  },
  {
   "cell_type": "code",
   "execution_count": null,
   "metadata": {},
   "outputs": [],
   "source": [
    "from loader import QA_Dataset"
   ]
  },
  {
   "cell_type": "code",
   "execution_count": null,
   "metadata": {},
   "outputs": [],
   "source": [
    "from transformers import XLNetTokenizer, XLNetModel\n",
    "import torch\n",
    "\n",
    "config = 'hfl/chinese-xlnet-base'\n",
    "tokenizer = XLNetTokenizer.from_pretrained(config)\n",
    "tokenizer.add_special_tokens({'additional_special_tokens':['<q>']})\n",
    "model = XLNetModel.from_pretrained(config)\n",
    "model.resize_token_embeddings(len(tokenizer))"
   ]
  },
  {
   "cell_type": "code",
   "execution_count": null,
   "metadata": {},
   "outputs": [],
   "source": [
    "tokenizer([\n",
    "    ('預計的性行為', '預計的性行為'),\n",
    "    ('預預預預預預', '預預預預預預'),\n",
    "\n",
    "])['input_ids'][0]"
   ]
  },
  {
   "cell_type": "code",
   "execution_count": null,
   "metadata": {},
   "outputs": [],
   "source": [
    "tokenizer.decode(19)"
   ]
  },
  {
   "cell_type": "code",
   "execution_count": null,
   "metadata": {},
   "outputs": [],
   "source": []
  },
  {
   "cell_type": "code",
   "execution_count": null,
   "metadata": {},
   "outputs": [],
   "source": [
    "c ='預計的性行為，前面兩個小時吃兩顆，24小時後，再吃一顆，再一個24小時之後吃一顆'\n",
    "\n",
    "ids = tokenizer([c, c[0:30]], max_length=40, padding='max_length').input_ids\n",
    "tokenizer.decode(ids[0])"
   ]
  },
  {
   "cell_type": "code",
   "execution_count": null,
   "metadata": {},
   "outputs": [],
   "source": [
    "for ele in ids[0]:\n",
    "    print(    tokenizer.decode(ele))\n"
   ]
  },
  {
   "cell_type": "code",
   "execution_count": null,
   "metadata": {},
   "outputs": [],
   "source": [
    "tokenizer.decode(ids[1])"
   ]
  },
  {
   "cell_type": "markdown",
   "metadata": {},
   "source": [
    "## Model"
   ]
  },
  {
   "cell_type": "code",
   "execution_count": null,
   "metadata": {},
   "outputs": [],
   "source": [
    "h = model(**encoding).last_hidden_state"
   ]
  },
  {
   "cell_type": "code",
   "execution_count": null,
   "metadata": {},
   "outputs": [],
   "source": [
    "from transformers.modeling_utils import SequenceSummary\n"
   ]
  },
  {
   "cell_type": "code",
   "execution_count": null,
   "metadata": {},
   "outputs": [],
   "source": [
    "s = SequenceSummary(config)\n",
    "getattr(config, 'summary_type', 'last')"
   ]
  },
  {
   "cell_type": "code",
   "execution_count": null,
   "metadata": {},
   "outputs": [],
   "source": [
    "t = torch.empty(3).random_(5)\n",
    "mask = torch.empty(3).random_(2)\n",
    "t, mask"
   ]
  },
  {
   "cell_type": "code",
   "execution_count": null,
   "metadata": {},
   "outputs": [],
   "source": [
    "t * mask"
   ]
  },
  {
   "cell_type": "code",
   "execution_count": 2,
   "metadata": {},
   "outputs": [],
   "source": [
    "import torch\n",
    "from torch import nn\n",
    "import math \n",
    "import torch.nn.functional as F\n",
    "\n",
    "def mask_logits(target, mask):\n",
    "    return target * (1-mask) + mask * (-1e30)"
   ]
  },
  {
   "cell_type": "code",
   "execution_count": 6,
   "metadata": {},
   "outputs": [
    {
     "output_type": "execute_result",
     "data": {
      "text/plain": [
       "(tensor([[[0.5552, 0.2233, 0.5149, 0.5096],\n",
       "          [0.3805, 0.0324, 0.6696, 0.6755]],\n",
       " \n",
       "         [[0.3808, 0.3513, 0.4739, 0.1725],\n",
       "          [0.3329, 0.6166, 0.6477, 0.8960]]]),\n",
       " tensor([[[1.],\n",
       "          [0.]],\n",
       " \n",
       "         [[0.],\n",
       "          [0.]]]))"
      ]
     },
     "metadata": {},
     "execution_count": 6
    }
   ],
   "source": [
    "s = torch.rand((2,2,4))\n",
    "mask = torch.empty((2,2,1)).random_(2)\n",
    "s, mask\n"
   ]
  },
  {
   "cell_type": "code",
   "execution_count": 7,
   "metadata": {},
   "outputs": [
    {
     "output_type": "execute_result",
     "data": {
      "text/plain": [
       "tensor([[[1.],\n",
       "         [0.],\n",
       "         [1.],\n",
       "         [0.],\n",
       "         [1.],\n",
       "         [0.]],\n",
       "\n",
       "        [[0.],\n",
       "         [0.],\n",
       "         [0.],\n",
       "         [0.],\n",
       "         [0.],\n",
       "         [0.]]])"
      ]
     },
     "metadata": {},
     "execution_count": 7
    }
   ],
   "source": [
    "mask.repeat(1,3,1)"
   ]
  },
  {
   "cell_type": "code",
   "execution_count": 5,
   "metadata": {},
   "outputs": [
    {
     "output_type": "execute_result",
     "data": {
      "text/plain": [
       "torch.return_types.max(\n",
       "values=tensor([[0.7636, 0.8726],\n",
       "        [0.8092, 0.9350]]),\n",
       "indices=tensor([[2, 1],\n",
       "        [2, 2]]))"
      ]
     },
     "metadata": {},
     "execution_count": 5
    }
   ],
   "source": [
    "torch.max(s, dim=2)"
   ]
  },
  {
   "cell_type": "code",
   "execution_count": 65,
   "metadata": {},
   "outputs": [
    {
     "data": {
      "text/plain": [
       "tensor([[[ 8.3742e-01,  9.0270e-01,  6.4777e-01,  2.3296e-01],\n",
       "         [ 4.0762e-01,  1.6231e-01,  9.4158e-01,  8.8146e-01]],\n",
       "\n",
       "        [[-1.0000e+30, -1.0000e+30, -1.0000e+30, -1.0000e+30],\n",
       "         [-1.0000e+30, -1.0000e+30, -1.0000e+30, -1.0000e+30]]])"
      ]
     },
     "execution_count": 65,
     "metadata": {},
     "output_type": "execute_result"
    }
   ],
   "source": [
    "mask_logits(s, mask)"
   ]
  },
  {
   "cell_type": "code",
   "execution_count": null,
   "metadata": {},
   "outputs": [],
   "source": [
    "d_model = 768\n",
    "class CQAttention(nn.Module):\n",
    "    def __init__(self):\n",
    "        super().__init__()\n",
    "        w = torch.empty(d_model * 3)\n",
    "        lim = 1 / d_model\n",
    "        nn.init.uniform_(w, -math.sqrt(lim), math.sqrt(lim))\n",
    "        self.w = nn.Parameter(w)\n",
    "\n",
    "    def forward(self, C, Q, cmask, qmask):\n",
    "        C = C.transpose(1, 2)\n",
    "        Q = Q.transpose(1, 2)\n",
    "        cmask = cmask.unsqueeze(2)\n",
    "        qmask = qmask.unsqueeze(1)\n",
    "        \n",
    "        shape = (C.size(0), C.size(1), Q.size(1), C.size(2))\n",
    "        print(shape)\n",
    "        Ct = C.unsqueeze(2).expand(shape)\n",
    "        Qt = Q.unsqueeze(1).expand(shape)\n",
    "        CQ = torch.mul(Ct, Qt) \n",
    "        S = torch.cat([Ct, Qt, CQ], dim=3)\n",
    "        S = torch.matmul(S, self.w)\n",
    "        S1 = F.softmax(mask_logits(S, qmask), dim=2)\n",
    "        S2 = F.softmax(mask_logits(S, cmask), dim=1)\n",
    "        A = torch.bmm(S1, Q)\n",
    "        B = torch.bmm(torch.bmm(S1, S2.transpose(1, 2)), C)\n",
    "        out = torch.cat([C, A, torch.mul(C, A), torch.mul(C, B)], dim=2)\n",
    "        out = F.dropout(out, p=dropout, training=self.training)\n",
    "        return out.transpose(1, 2)"
   ]
  },
  {
   "cell_type": "code",
   "execution_count": null,
   "metadata": {},
   "outputs": [],
   "source": [
    "context = torch.randn((2,50,768))\n",
    "query = torch.randn((2,30,768))\n",
    "cmask = (torch.empty((2, 50)).random_(2) == 0).float()\n",
    "qmask = (torch.empty((2, 30)).random_(2) == 0).float()\n",
    "\n",
    "att = CQAttention()\n"
   ]
  },
  {
   "cell_type": "code",
   "execution_count": null,
   "metadata": {},
   "outputs": [],
   "source": [
    "v = att(context, query, cmask, qmask)\n",
    "v.shape"
   ]
  },
  {
   "cell_type": "code",
   "execution_count": 1,
   "metadata": {},
   "outputs": [
    {
     "output_type": "error",
     "ename": "NameError",
     "evalue": "name 'torch' is not defined",
     "traceback": [
      "\u001b[0;31m---------------------------------------------------------------------------\u001b[0m",
      "\u001b[0;31mNameError\u001b[0m                                 Traceback (most recent call last)",
      "\u001b[0;32m<ipython-input-1-f13811a6f4ad>\u001b[0m in \u001b[0;36m<module>\u001b[0;34m\u001b[0m\n\u001b[0;32m----> 1\u001b[0;31m \u001b[0ma\u001b[0m \u001b[0;34m=\u001b[0m \u001b[0mtorch\u001b[0m\u001b[0;34m.\u001b[0m\u001b[0mempty\u001b[0m\u001b[0;34m(\u001b[0m\u001b[0;36m1\u001b[0m\u001b[0;34m,\u001b[0m\u001b[0;36m1\u001b[0m\u001b[0;34m,\u001b[0m\u001b[0;36m5\u001b[0m\u001b[0;34m)\u001b[0m\u001b[0;34m.\u001b[0m\u001b[0mrandom_\u001b[0m\u001b[0;34m(\u001b[0m\u001b[0;36m2\u001b[0m\u001b[0;34m)\u001b[0m\u001b[0;34m\u001b[0m\u001b[0;34m\u001b[0m\u001b[0m\n\u001b[0m\u001b[1;32m      2\u001b[0m \u001b[0mb\u001b[0m \u001b[0;34m=\u001b[0m \u001b[0mtorch\u001b[0m\u001b[0;34m.\u001b[0m\u001b[0mempty\u001b[0m\u001b[0;34m(\u001b[0m\u001b[0;36m1\u001b[0m\u001b[0;34m,\u001b[0m\u001b[0;36m3\u001b[0m\u001b[0;34m,\u001b[0m\u001b[0;36m5\u001b[0m\u001b[0;34m)\u001b[0m\u001b[0;34m.\u001b[0m\u001b[0mrandom_\u001b[0m\u001b[0;34m(\u001b[0m\u001b[0;36m2\u001b[0m\u001b[0;34m)\u001b[0m\u001b[0;34m\u001b[0m\u001b[0;34m\u001b[0m\u001b[0m\n\u001b[1;32m      3\u001b[0m \u001b[0ma\u001b[0m\u001b[0;34m,\u001b[0m\u001b[0mb\u001b[0m\u001b[0;34m\u001b[0m\u001b[0;34m\u001b[0m\u001b[0m\n",
      "\u001b[0;31mNameError\u001b[0m: name 'torch' is not defined"
     ]
    }
   ],
   "source": [
    "a = torch.empty(1,1,5).random_(2)\n",
    "b = torch.empty(1,3,5).random_(2)\n",
    "a,b"
   ]
  },
  {
   "cell_type": "code",
   "execution_count": 38,
   "metadata": {},
   "outputs": [
    {
     "data": {
      "text/plain": [
       "tensor([[[0., 1., 1., 0., 0.],\n",
       "         [0., 0., 0., 0., 0.],\n",
       "         [0., 1., 0., 0., 0.]]])"
      ]
     },
     "execution_count": 38,
     "metadata": {},
     "output_type": "execute_result"
    }
   ],
   "source": [
    "a * b"
   ]
  },
  {
   "cell_type": "code",
   "execution_count": 33,
   "metadata": {},
   "outputs": [
    {
     "data": {
      "text/plain": [
       "torch.Size([2, 50, 768])"
      ]
     },
     "execution_count": 33,
     "metadata": {},
     "output_type": "execute_result"
    }
   ],
   "source": [
    "(context * query.select(1, 2).unsqueeze(1)).shape"
   ]
  },
  {
   "cell_type": "code",
   "execution_count": 31,
   "metadata": {},
   "outputs": [
    {
     "data": {
      "text/plain": [
       "torch.Size([2, 1, 768])"
      ]
     },
     "execution_count": 31,
     "metadata": {},
     "output_type": "execute_result"
    }
   ],
   "source": [
    "query.select(1, 2).unsqueeze(1).shape"
   ]
  },
  {
   "cell_type": "code",
   "execution_count": 49,
   "metadata": {},
   "outputs": [],
   "source": [
    "class att_flow_layer(nn.Module):\n",
    "    \"\"\"\n",
    "    :param c: (batch, c_len, hidden_size * 2)\n",
    "    :param q: (batch, q_len, hidden_size * 2)\n",
    "    :return: (batch, c_len, q_len)\n",
    "    \"\"\"\n",
    "    def __init__(self,):\n",
    "        super(att_flow_layer, self).__init__()\n",
    "        self.att_weight_c = nn.Linear(768, 1)\n",
    "        self.att_weight_q = nn.Linear(768, 1)\n",
    "        self.att_weight_cq = nn.Linear(768, 1)\n",
    "\n",
    "    def forward(self, c, q):\n",
    "        c_len = c.size(1)\n",
    "        q_len = q.size(1)\n",
    "\n",
    "        cq = []\n",
    "        for i in range(q_len):\n",
    "            #(batch, 1, hidden_size * 2)\n",
    "            qi = q.select(1, i).unsqueeze(1)\n",
    "            #(batch, c_len, 1)\n",
    "            ci = self.att_weight_cq(c * qi).squeeze()\n",
    "            cq.append(ci)\n",
    "        # (batch, c_len, q_len)\n",
    "        cq = torch.stack(cq, dim=-1)\n",
    "        # (batch, c_len, q_len)\n",
    "        s = self.att_weight_c(c).expand(-1, -1, q_len) + \\\n",
    "            self.att_weight_q(q).permute(0, 2, 1).expand(-1, c_len, -1) + \\\n",
    "            cq\n",
    "        # (batch, c_len, q_len)\n",
    "        a = F.softmax(s, dim=2)\n",
    "        # (batch, c_len, q_len) * (batch, q_len, hidden_size * 2) -> (batch, c_len, hidden_size * 2)\n",
    "        c2q_att = torch.bmm(a, q)\n",
    "        # (batch, 1, c_len)\n",
    "        b = F.softmax(torch.max(s, dim=2)[0], dim=1).unsqueeze(1)\n",
    "        # (batch, 1, c_len) * (batch, c_len, hidden_size * 2) -> (batch, hidden_size * 2)\n",
    "        q2c_att = torch.bmm(b, c).squeeze()\n",
    "        # (batch, c_len, hidden_size * 2) (tiled)\n",
    "        q2c_att = q2c_att.unsqueeze(1).expand(-1, c_len, -1)\n",
    "        # q2c_att = torch.stack([q2c_att] * c_len, dim=1)\n",
    "        # (batch, c_len, hidden_size * 8)\n",
    "        x = torch.cat([c, c2q_att, c * c2q_att, c * q2c_att], dim=-1)\n",
    "        return x"
   ]
  },
  {
   "cell_type": "code",
   "execution_count": 51,
   "metadata": {},
   "outputs": [
    {
     "data": {
      "text/plain": [
       "torch.Size([2, 50, 3072])"
      ]
     },
     "execution_count": 51,
     "metadata": {},
     "output_type": "execute_result"
    }
   ],
   "source": [
    "att_flow_layer()(context, query).shape"
   ]
  }
 ],
 "metadata": {
  "kernelspec": {
   "name": "python3710jvsc74a57bd0ca5915a2c02dea2c8acf4e447856dc800933eee93a34a922b88f60d8ef1a4460",
   "display_name": "Python 3.7.10 64-bit ('aicup': conda)"
  },
  "language_info": {
   "codemirror_mode": {
    "name": "ipython",
    "version": 3
   },
   "file_extension": ".py",
   "mimetype": "text/x-python",
   "name": "python",
   "nbconvert_exporter": "python",
   "pygments_lexer": "ipython3",
   "version": "3.7.10"
  },
  "metadata": {
   "interpreter": {
    "hash": "ca5915a2c02dea2c8acf4e447856dc800933eee93a34a922b88f60d8ef1a4460"
   }
  }
 },
 "nbformat": 4,
 "nbformat_minor": 4
}